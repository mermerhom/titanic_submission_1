{
 "cells": [
  {
   "cell_type": "markdown",
   "id": "39db167f",
   "metadata": {
    "papermill": {
     "duration": 0.01555,
     "end_time": "2022-11-19T10:18:16.074043",
     "exception": false,
     "start_time": "2022-11-19T10:18:16.058493",
     "status": "completed"
    },
    "tags": []
   },
   "source": [
    "## Importing packages"
   ]
  },
  {
   "cell_type": "code",
   "execution_count": 1,
   "id": "0df21176",
   "metadata": {
    "execution": {
     "iopub.execute_input": "2022-11-19T10:18:16.106537Z",
     "iopub.status.busy": "2022-11-19T10:18:16.105551Z",
     "iopub.status.idle": "2022-11-19T10:18:19.798713Z",
     "shell.execute_reply": "2022-11-19T10:18:19.796762Z"
    },
    "jupyter": {
     "source_hidden": true
    },
    "papermill": {
     "duration": 3.713892,
     "end_time": "2022-11-19T10:18:19.801949",
     "exception": false,
     "start_time": "2022-11-19T10:18:16.088057",
     "status": "completed"
    },
    "tags": []
   },
   "outputs": [
    {
     "name": "stderr",
     "output_type": "stream",
     "text": [
      "/opt/conda/lib/python3.7/site-packages/geopandas/_compat.py:115: UserWarning:\n",
      "\n",
      "The Shapely GEOS version (3.9.1-CAPI-1.14.2) is incompatible with the GEOS version PyGEOS was compiled with (3.10.3-CAPI-1.16.1). Conversions between both will be slow.\n",
      "\n"
     ]
    }
   ],
   "source": [
    "# Basic packages\n",
    "import warnings\n",
    "import numpy as np\n",
    "import pandas as pd\n",
    "\n",
    "# Plotting packages\n",
    "import matplotlib.pyplot as plt\n",
    "import seaborn as sns\n",
    "import plotly.express as px\n",
    "import plotly.graph_objects as go\n",
    "from plotly.offline import download_plotlyjs, init_notebook_mode, plot, iplot\n",
    "import cufflinks as cf\n",
    "\n",
    "# Pipeline packages\n",
    "from sklearn import set_config\n",
    "from sklearn.compose import make_column_transformer\n",
    "from sklearn.pipeline import (Pipeline, make_pipeline)\n",
    "from sklearn.base import (BaseEstimator, TransformerMixin)\n",
    "from sklearn.preprocessing import OneHotEncoder\n",
    "\n",
    "# Missing data imputation package\n",
    "from sklearn.impute import KNNImputer\n",
    "\n",
    "# Cross validation packages\n",
    "from sklearn.model_selection import (StratifiedKFold, cross_val_score, GridSearchCV)\n",
    "\n",
    "# Modelling packages\n",
    "from sklearn.linear_model import LogisticRegression\n",
    "from sklearn.svm import SVC, LinearSVC\n",
    "from sklearn.ensemble import RandomForestClassifier\n",
    "from sklearn.neighbors import KNeighborsClassifier\n",
    "from sklearn.naive_bayes import GaussianNB\n",
    "from sklearn.linear_model import Perceptron\n",
    "from sklearn.linear_model import SGDClassifier\n",
    "from sklearn.tree import DecisionTreeClassifier\n",
    "from statsmodels.formula.api import logit\n",
    "\n",
    "# Model validation and scoring packages\n",
    "from sklearn.metrics import (accuracy_score, roc_auc_score)\n",
    "from sklearn.metrics import SCORERS"
   ]
  },
  {
   "cell_type": "code",
   "execution_count": 2,
   "id": "359f56e0",
   "metadata": {
    "execution": {
     "iopub.execute_input": "2022-11-19T10:18:19.841644Z",
     "iopub.status.busy": "2022-11-19T10:18:19.840014Z",
     "iopub.status.idle": "2022-11-19T10:18:19.884705Z",
     "shell.execute_reply": "2022-11-19T10:18:19.883751Z"
    },
    "papermill": {
     "duration": 0.066474,
     "end_time": "2022-11-19T10:18:19.888058",
     "exception": false,
     "start_time": "2022-11-19T10:18:19.821584",
     "status": "completed"
    },
    "tags": []
   },
   "outputs": [
    {
     "data": {
      "text/html": [
       "        <script type=\"text/javascript\">\n",
       "        window.PlotlyConfig = {MathJaxConfig: 'local'};\n",
       "        if (window.MathJax && window.MathJax.Hub && window.MathJax.Hub.Config) {window.MathJax.Hub.Config({SVG: {font: \"STIX-Web\"}});}\n",
       "        if (typeof require !== 'undefined') {\n",
       "        require.undef(\"plotly\");\n",
       "        requirejs.config({\n",
       "            paths: {\n",
       "                'plotly': ['https://cdn.plot.ly/plotly-2.14.0.min']\n",
       "            }\n",
       "        });\n",
       "        require(['plotly'], function(Plotly) {\n",
       "            window._Plotly = Plotly;\n",
       "        });\n",
       "        }\n",
       "        </script>\n",
       "        "
      ]
     },
     "metadata": {},
     "output_type": "display_data"
    },
    {
     "data": {
      "text/html": [
       "        <script type=\"text/javascript\">\n",
       "        window.PlotlyConfig = {MathJaxConfig: 'local'};\n",
       "        if (window.MathJax && window.MathJax.Hub && window.MathJax.Hub.Config) {window.MathJax.Hub.Config({SVG: {font: \"STIX-Web\"}});}\n",
       "        if (typeof require !== 'undefined') {\n",
       "        require.undef(\"plotly\");\n",
       "        requirejs.config({\n",
       "            paths: {\n",
       "                'plotly': ['https://cdn.plot.ly/plotly-2.14.0.min']\n",
       "            }\n",
       "        });\n",
       "        require(['plotly'], function(Plotly) {\n",
       "            window._Plotly = Plotly;\n",
       "        });\n",
       "        }\n",
       "        </script>\n",
       "        "
      ]
     },
     "metadata": {},
     "output_type": "display_data"
    }
   ],
   "source": [
    "init_notebook_mode(connected=True)\n",
    "%matplotlib inline\n",
    "sns.set_style(\"dark\")\n",
    "plt.style.use(\"ggplot\")\n",
    "cf.go_offline()\n",
    "warnings.filterwarnings(\"ignore\")\n",
    "pd.set_option(\"display.max_columns\", None)\n",
    "pd.set_option('display.float_format', '{:.2f}'.format)\n",
    "set_config(display=\"diagram\")\n",
    "# plt.style.available\n",
    "scorers = []\n",
    "for score in SCORERS.keys():\n",
    "    scorers.append(score)\n",
    "# print(scorers)"
   ]
  },
  {
   "cell_type": "markdown",
   "id": "3ad12ace",
   "metadata": {
    "papermill": {
     "duration": 0.013915,
     "end_time": "2022-11-19T10:18:19.920221",
     "exception": false,
     "start_time": "2022-11-19T10:18:19.906306",
     "status": "completed"
    },
    "tags": []
   },
   "source": [
    "## Loading data"
   ]
  },
  {
   "cell_type": "code",
   "execution_count": 3,
   "id": "f5fea7b5",
   "metadata": {
    "execution": {
     "iopub.execute_input": "2022-11-19T10:18:19.949811Z",
     "iopub.status.busy": "2022-11-19T10:18:19.949427Z",
     "iopub.status.idle": "2022-11-19T10:18:20.001657Z",
     "shell.execute_reply": "2022-11-19T10:18:20.000355Z"
    },
    "papermill": {
     "duration": 0.070264,
     "end_time": "2022-11-19T10:18:20.004586",
     "exception": false,
     "start_time": "2022-11-19T10:18:19.934322",
     "status": "completed"
    },
    "scrolled": true,
    "tags": []
   },
   "outputs": [
    {
     "name": "stdout",
     "output_type": "stream",
     "text": [
      "<class 'pandas.core.frame.DataFrame'>\n",
      "RangeIndex: 891 entries, 0 to 890\n",
      "Data columns (total 12 columns):\n",
      " #   Column       Non-Null Count  Dtype  \n",
      "---  ------       --------------  -----  \n",
      " 0   PassengerId  891 non-null    int64  \n",
      " 1   Survived     891 non-null    int64  \n",
      " 2   Pclass       891 non-null    int64  \n",
      " 3   Name         891 non-null    object \n",
      " 4   Sex          891 non-null    object \n",
      " 5   Age          714 non-null    float64\n",
      " 6   SibSp        891 non-null    int64  \n",
      " 7   Parch        891 non-null    int64  \n",
      " 8   Ticket       891 non-null    object \n",
      " 9   Fare         891 non-null    float64\n",
      " 10  Cabin        204 non-null    object \n",
      " 11  Embarked     889 non-null    object \n",
      "dtypes: float64(2), int64(5), object(5)\n",
      "memory usage: 83.7+ KB\n",
      "None\n",
      "\n",
      "<class 'pandas.core.frame.DataFrame'>\n",
      "RangeIndex: 418 entries, 0 to 417\n",
      "Data columns (total 11 columns):\n",
      " #   Column       Non-Null Count  Dtype  \n",
      "---  ------       --------------  -----  \n",
      " 0   PassengerId  418 non-null    int64  \n",
      " 1   Pclass       418 non-null    int64  \n",
      " 2   Name         418 non-null    object \n",
      " 3   Sex          418 non-null    object \n",
      " 4   Age          332 non-null    float64\n",
      " 5   SibSp        418 non-null    int64  \n",
      " 6   Parch        418 non-null    int64  \n",
      " 7   Ticket       418 non-null    object \n",
      " 8   Fare         417 non-null    float64\n",
      " 9   Cabin        91 non-null     object \n",
      " 10  Embarked     418 non-null    object \n",
      "dtypes: float64(2), int64(4), object(5)\n",
      "memory usage: 36.0+ KB\n",
      "None\n",
      "\n"
     ]
    }
   ],
   "source": [
    "df_train = pd.read_csv(\"../input/titanic/train.csv\")\n",
    "df_test = pd.read_csv(\"../input/titanic/test.csv\")\n",
    "for df in [df_train, df_test]:\n",
    "    print(df.info(), end=\"\\n\\n\")"
   ]
  },
  {
   "cell_type": "code",
   "execution_count": 4,
   "id": "fe29641d",
   "metadata": {
    "execution": {
     "iopub.execute_input": "2022-11-19T10:18:20.035059Z",
     "iopub.status.busy": "2022-11-19T10:18:20.034630Z",
     "iopub.status.idle": "2022-11-19T10:18:20.042267Z",
     "shell.execute_reply": "2022-11-19T10:18:20.041363Z"
    },
    "papermill": {
     "duration": 0.025522,
     "end_time": "2022-11-19T10:18:20.044504",
     "exception": false,
     "start_time": "2022-11-19T10:18:20.018982",
     "status": "completed"
    },
    "tags": []
   },
   "outputs": [],
   "source": [
    "for df in [df_train, df_test]:\n",
    "    df.drop(columns=[\"Name\", \"Ticket\", \"Cabin\"], inplace=True)"
   ]
  },
  {
   "cell_type": "markdown",
   "id": "50552575",
   "metadata": {
    "papermill": {
     "duration": 0.013718,
     "end_time": "2022-11-19T10:18:20.072796",
     "exception": false,
     "start_time": "2022-11-19T10:18:20.059078",
     "status": "completed"
    },
    "tags": []
   },
   "source": [
    "## Exploratory Data Analysis"
   ]
  },
  {
   "cell_type": "markdown",
   "id": "2a112b08",
   "metadata": {
    "papermill": {
     "duration": 0.013811,
     "end_time": "2022-11-19T10:18:20.101220",
     "exception": false,
     "start_time": "2022-11-19T10:18:20.087409",
     "status": "completed"
    },
    "tags": []
   },
   "source": [
    "### Visualizing proportion of training dataset feature"
   ]
  },
  {
   "cell_type": "code",
   "execution_count": 5,
   "id": "7fc6d150",
   "metadata": {
    "execution": {
     "iopub.execute_input": "2022-11-19T10:18:20.131750Z",
     "iopub.status.busy": "2022-11-19T10:18:20.130700Z",
     "iopub.status.idle": "2022-11-19T10:18:20.143396Z",
     "shell.execute_reply": "2022-11-19T10:18:20.142213Z"
    },
    "papermill": {
     "duration": 0.030779,
     "end_time": "2022-11-19T10:18:20.146079",
     "exception": false,
     "start_time": "2022-11-19T10:18:20.115300",
     "status": "completed"
    },
    "tags": []
   },
   "outputs": [],
   "source": [
    "df_train_categorized = df_train.copy().replace(\n",
    "    {\n",
    "       \"Survived\": {0: \"No\", 1: \"Yes\"},\n",
    "        \"Pclass\": {1: \"1st\", 2: \"2nd\", 3: \"3rd\"},\n",
    "        \"Sex\": {\"male\": \"Male\", \"female\": \"Female\"},\n",
    "        \"Embarked\": {\"C\": \"Cherbourg\", \"Q\": \"Queenstown\", \"S\": \"Southampton\"}\n",
    "    }\n",
    ")\n",
    "df_train_categorized = df_train_categorized.rename(\n",
    "        columns={\"Pclass\": \"Passenger Class\", \n",
    "                 \"SibSp\": \"Number of Siblings or Spouses Aboard\", \n",
    "                 \"Parch\": \"Number of Parents or Children Aboard\"}\n",
    ")"
   ]
  },
  {
   "cell_type": "code",
   "execution_count": 6,
   "id": "396e95fb",
   "metadata": {
    "execution": {
     "iopub.execute_input": "2022-11-19T10:18:20.177708Z",
     "iopub.status.busy": "2022-11-19T10:18:20.177274Z",
     "iopub.status.idle": "2022-11-19T10:18:21.315293Z",
     "shell.execute_reply": "2022-11-19T10:18:21.314055Z"
    },
    "papermill": {
     "duration": 1.157119,
     "end_time": "2022-11-19T10:18:21.317964",
     "exception": false,
     "start_time": "2022-11-19T10:18:20.160845",
     "status": "completed"
    },
    "scrolled": true,
    "tags": []
   },
   "outputs": [
    {
     "data": {
      "image/png": "[encoded data removed]",
      "text/plain": [
       "<Figure size 720x1800 with 6 Axes>"
      ]
     },
     "metadata": {},
     "output_type": "display_data"
    }
   ],
   "source": [
    "graph_cols = ['Survived', 'Passenger Class', 'Sex', \n",
    "              'Number of Siblings or Spouses Aboard', \n",
    "              'Number of Parents or Children Aboard', \n",
    "              'Embarked']\n",
    "fig_1, ax_1 = plt.subplots(nrows=6, ncols=1, figsize=(10, 25))\n",
    "ax_1 = ax_1.flatten()\n",
    "\n",
    "i = 0\n",
    "for column in graph_cols:\n",
    "    sns.countplot(df_train_categorized[column], x=column, ax=ax_1[i])\n",
    "    i+=1\n",
    "    \n",
    "plt.grid(False)\n",
    "plt.tight_layout()"
   ]
  },
  {
   "cell_type": "markdown",
   "id": "eab66fcf",
   "metadata": {
    "papermill": {
     "duration": 0.016083,
     "end_time": "2022-11-19T10:18:21.349386",
     "exception": false,
     "start_time": "2022-11-19T10:18:21.333303",
     "status": "completed"
    },
    "tags": []
   },
   "source": [
    "## Data Coding & Missing Data Imputation"
   ]
  },
  {
   "cell_type": "markdown",
   "id": "69b8db12",
   "metadata": {
    "papermill": {
     "duration": 0.014753,
     "end_time": "2022-11-19T10:18:21.379330",
     "exception": false,
     "start_time": "2022-11-19T10:18:21.364577",
     "status": "completed"
    },
    "tags": []
   },
   "source": [
    "### Data code notes"
   ]
  },
  {
   "cell_type": "markdown",
   "id": "dad9957a",
   "metadata": {
    "papermill": {
     "duration": 0.014707,
     "end_time": "2022-11-19T10:18:21.409671",
     "exception": false,
     "start_time": "2022-11-19T10:18:21.394964",
     "status": "completed"
    },
    "tags": []
   },
   "source": [
    "Fare_band:</br>\n",
    "0: -1 - 8</br>\n",
    "1: 8 - 14</br>\n",
    "2: 14 - 31</br>\n",
    "3: 31 - 512</br></br>\n",
    "Embarked:</br>\n",
    "Queenstown: 0</br>\n",
    "Cherbourg: 1</br>\n",
    "Southampton: 2</br></br>\n",
    "Is_alone:</br>\n",
    "0: no</br>\n",
    "1: yes</br>"
   ]
  },
  {
   "cell_type": "code",
   "execution_count": 7,
   "id": "662b09aa",
   "metadata": {
    "execution": {
     "iopub.execute_input": "2022-11-19T10:18:21.442892Z",
     "iopub.status.busy": "2022-11-19T10:18:21.442224Z",
     "iopub.status.idle": "2022-11-19T10:18:21.449327Z",
     "shell.execute_reply": "2022-11-19T10:18:21.447626Z"
    },
    "papermill": {
     "duration": 0.027353,
     "end_time": "2022-11-19T10:18:21.452022",
     "exception": false,
     "start_time": "2022-11-19T10:18:21.424669",
     "status": "completed"
    },
    "tags": []
   },
   "outputs": [
    {
     "name": "stdout",
     "output_type": "stream",
     "text": [
      "Index(['PassengerId', 'Survived', 'Pclass', 'Sex', 'Age', 'SibSp', 'Parch',\n",
      "       'Fare', 'Embarked'],\n",
      "      dtype='object')\n",
      "Index(['PassengerId', 'Pclass', 'Sex', 'Age', 'SibSp', 'Parch', 'Fare',\n",
      "       'Embarked'],\n",
      "      dtype='object')\n"
     ]
    }
   ],
   "source": [
    "print(df_train.columns)\n",
    "print(df_test.columns)"
   ]
  },
  {
   "cell_type": "code",
   "execution_count": 8,
   "id": "8e920a2f",
   "metadata": {
    "execution": {
     "iopub.execute_input": "2022-11-19T10:18:21.485922Z",
     "iopub.status.busy": "2022-11-19T10:18:21.485498Z",
     "iopub.status.idle": "2022-11-19T10:18:21.496206Z",
     "shell.execute_reply": "2022-11-19T10:18:21.495007Z"
    },
    "papermill": {
     "duration": 0.030274,
     "end_time": "2022-11-19T10:18:21.498572",
     "exception": false,
     "start_time": "2022-11-19T10:18:21.468298",
     "status": "completed"
    },
    "tags": []
   },
   "outputs": [],
   "source": [
    "PassengerId_ = []\n",
    "for df in [df_train, df_test]:\n",
    "    x = df.copy()[\"PassengerId\"]\n",
    "    PassengerId_.append(x)\n",
    "    df.drop(columns=\"PassengerId\", inplace=True)\n",
    "    \n",
    "df_survived = df_train[\"Survived\"]\n",
    "df_train = df_train.drop(columns=\"Survived\")"
   ]
  },
  {
   "cell_type": "code",
   "execution_count": 9,
   "id": "886ddf07",
   "metadata": {
    "execution": {
     "iopub.execute_input": "2022-11-19T10:18:21.531489Z",
     "iopub.status.busy": "2022-11-19T10:18:21.531069Z",
     "iopub.status.idle": "2022-11-19T10:18:21.546469Z",
     "shell.execute_reply": "2022-11-19T10:18:21.545579Z"
    },
    "papermill": {
     "duration": 0.034335,
     "end_time": "2022-11-19T10:18:21.548749",
     "exception": false,
     "start_time": "2022-11-19T10:18:21.514414",
     "status": "completed"
    },
    "tags": []
   },
   "outputs": [
    {
     "data": {
      "text/html": [
       "<div>\n",
       "<style scoped>\n",
       "    .dataframe tbody tr th:only-of-type {\n",
       "        vertical-align: middle;\n",
       "    }\n",
       "\n",
       "    .dataframe tbody tr th {\n",
       "        vertical-align: top;\n",
       "    }\n",
       "\n",
       "    .dataframe thead th {\n",
       "        text-align: right;\n",
       "    }\n",
       "</style>\n",
       "<table border=\"1\" class=\"dataframe\">\n",
       "  <thead>\n",
       "    <tr style=\"text-align: right;\">\n",
       "      <th></th>\n",
       "      <th>Pclass</th>\n",
       "      <th>Sex</th>\n",
       "      <th>Age</th>\n",
       "      <th>SibSp</th>\n",
       "      <th>Parch</th>\n",
       "      <th>Fare</th>\n",
       "      <th>Embarked</th>\n",
       "    </tr>\n",
       "  </thead>\n",
       "  <tbody>\n",
       "    <tr>\n",
       "      <th>0</th>\n",
       "      <td>3</td>\n",
       "      <td>male</td>\n",
       "      <td>22.00</td>\n",
       "      <td>1</td>\n",
       "      <td>0</td>\n",
       "      <td>7.25</td>\n",
       "      <td>S</td>\n",
       "    </tr>\n",
       "    <tr>\n",
       "      <th>1</th>\n",
       "      <td>1</td>\n",
       "      <td>female</td>\n",
       "      <td>38.00</td>\n",
       "      <td>1</td>\n",
       "      <td>0</td>\n",
       "      <td>71.28</td>\n",
       "      <td>C</td>\n",
       "    </tr>\n",
       "    <tr>\n",
       "      <th>2</th>\n",
       "      <td>3</td>\n",
       "      <td>female</td>\n",
       "      <td>26.00</td>\n",
       "      <td>0</td>\n",
       "      <td>0</td>\n",
       "      <td>7.92</td>\n",
       "      <td>S</td>\n",
       "    </tr>\n",
       "    <tr>\n",
       "      <th>3</th>\n",
       "      <td>1</td>\n",
       "      <td>female</td>\n",
       "      <td>35.00</td>\n",
       "      <td>1</td>\n",
       "      <td>0</td>\n",
       "      <td>53.10</td>\n",
       "      <td>S</td>\n",
       "    </tr>\n",
       "    <tr>\n",
       "      <th>4</th>\n",
       "      <td>3</td>\n",
       "      <td>male</td>\n",
       "      <td>35.00</td>\n",
       "      <td>0</td>\n",
       "      <td>0</td>\n",
       "      <td>8.05</td>\n",
       "      <td>S</td>\n",
       "    </tr>\n",
       "  </tbody>\n",
       "</table>\n",
       "</div>"
      ],
      "text/plain": [
       "   Pclass     Sex   Age  SibSp  Parch  Fare Embarked\n",
       "0       3    male 22.00      1      0  7.25        S\n",
       "1       1  female 38.00      1      0 71.28        C\n",
       "2       3  female 26.00      0      0  7.92        S\n",
       "3       1  female 35.00      1      0 53.10        S\n",
       "4       3    male 35.00      0      0  8.05        S"
      ]
     },
     "execution_count": 9,
     "metadata": {},
     "output_type": "execute_result"
    }
   ],
   "source": [
    "df_train.head()"
   ]
  },
  {
   "cell_type": "markdown",
   "id": "82814424",
   "metadata": {
    "papermill": {
     "duration": 0.01573,
     "end_time": "2022-11-19T10:18:21.579990",
     "exception": false,
     "start_time": "2022-11-19T10:18:21.564260",
     "status": "completed"
    },
    "tags": []
   },
   "source": [
    "## Transformation Pipeline"
   ]
  },
  {
   "cell_type": "markdown",
   "id": "48442091",
   "metadata": {
    "papermill": {
     "duration": 0.016205,
     "end_time": "2022-11-19T10:18:21.611824",
     "exception": false,
     "start_time": "2022-11-19T10:18:21.595619",
     "status": "completed"
    },
    "tags": []
   },
   "source": [
    "### Pipeline classes"
   ]
  },
  {
   "cell_type": "code",
   "execution_count": 10,
   "id": "ac0c0a43",
   "metadata": {
    "execution": {
     "iopub.execute_input": "2022-11-19T10:18:21.646479Z",
     "iopub.status.busy": "2022-11-19T10:18:21.645559Z",
     "iopub.status.idle": "2022-11-19T10:18:21.663810Z",
     "shell.execute_reply": "2022-11-19T10:18:21.662671Z"
    },
    "papermill": {
     "duration": 0.038594,
     "end_time": "2022-11-19T10:18:21.666526",
     "exception": false,
     "start_time": "2022-11-19T10:18:21.627932",
     "status": "completed"
    },
    "tags": []
   },
   "outputs": [],
   "source": [
    "class Encode_Impute(BaseEstimator, TransformerMixin):\n",
    "    def fit(self, x, y=None):\n",
    "        return self\n",
    "    def transform(self, x):\n",
    "        x = x.replace(\n",
    "            {\n",
    "                \"Sex\": {\"male\": 0, \"female\": 1},\n",
    "                \"Embarked\": {\"Q\": 0, \"C\": 1, \"S\": 2}\n",
    "            }\n",
    "        )\n",
    "        x[\"Fare_band\"] = pd.qcut(x=x[\"Fare\"], q=4, precision=0, labels=[0, 1, 2, 3])\n",
    "        x = x.drop(columns=\"Fare\")\n",
    "        imp_cols = [col for col in x.columns]\n",
    "        impute = KNNImputer(n_neighbors=3)\n",
    "        x[imp_cols] = impute.fit_transform(x[imp_cols])\n",
    "        x[\"Age\"] = x[\"Age\"]\n",
    "        return x\n",
    "    \n",
    "class EncodeFeatures(BaseEstimator, TransformerMixin):\n",
    "    def fit(self, x, y=None):\n",
    "        return self\n",
    "    def transform(self, x):\n",
    "        x = x.replace(\n",
    "            {\n",
    "                \"Sex\": {0: \"male\", 1: \"female\"},\n",
    "                \"Embarked\": {0: \"Q\", 1: \"C\", 2: \"S\"}\n",
    "            }\n",
    "        )\n",
    "        col_names = [\"female\", \"male\", \"cherbourg\", \"queenstown\", \"southampton\"]\n",
    "        ohe = OneHotEncoder()\n",
    "        array = ohe.fit_transform(x[[\"Sex\", \"Embarked\"]]).toarray()\n",
    "        for i in range(len(array.T)):\n",
    "            x[col_names[i]] = array.T[i]\n",
    "        x = x.drop(columns=[\"Sex\", \"Embarked\"])\n",
    "        return x\n",
    "    \n",
    "class Is_Alone(BaseEstimator, TransformerMixin):\n",
    "    def fit(self, x, y=None):\n",
    "        return self\n",
    "    def transform(self, x):\n",
    "        x.loc[(x[\"SibSp\"] > 0) | (x[\"Parch\"] > 0), \"Is_Alone\"] = 1\n",
    "        x[\"Is_Alone\"] = x[\"Is_Alone\"].fillna(value=0)\n",
    "        return x\n",
    "    \n",
    "class Optimized_Cols(BaseEstimator, TransformerMixin):\n",
    "    def fit(self, x, y=None):\n",
    "        return self\n",
    "    def transform(self, x):\n",
    "        x[\"Age\"] = x[\"Age\"].apply(np.ceil)\n",
    "        for col in x.columns:\n",
    "            x[col] = x[col].astype(np.int16)\n",
    "        return x"
   ]
  },
  {
   "cell_type": "markdown",
   "id": "d9c3f4ce",
   "metadata": {
    "papermill": {
     "duration": 0.014951,
     "end_time": "2022-11-19T10:18:21.696803",
     "exception": false,
     "start_time": "2022-11-19T10:18:21.681852",
     "status": "completed"
    },
    "tags": []
   },
   "source": [
    "#### Chaining classes as a pipeline"
   ]
  },
  {
   "cell_type": "code",
   "execution_count": 11,
   "id": "7be1770c",
   "metadata": {
    "execution": {
     "iopub.execute_input": "2022-11-19T10:18:21.730691Z",
     "iopub.status.busy": "2022-11-19T10:18:21.730013Z",
     "iopub.status.idle": "2022-11-19T10:18:21.736284Z",
     "shell.execute_reply": "2022-11-19T10:18:21.735141Z"
    },
    "papermill": {
     "duration": 0.026111,
     "end_time": "2022-11-19T10:18:21.738796",
     "exception": false,
     "start_time": "2022-11-19T10:18:21.712685",
     "status": "completed"
    },
    "tags": []
   },
   "outputs": [],
   "source": [
    "pipe_1 = Pipeline(\n",
    "    [\n",
    "        (\"imputation\", Encode_Impute()),\n",
    "        (\"encoding\", EncodeFeatures()),\n",
    "        (\"alone\", Is_Alone()),\n",
    "        (\"optimize\", Optimized_Cols())\n",
    "    ]\n",
    ")"
   ]
  },
  {
   "cell_type": "markdown",
   "id": "0792b759",
   "metadata": {
    "papermill": {
     "duration": 0.014883,
     "end_time": "2022-11-19T10:18:21.769001",
     "exception": false,
     "start_time": "2022-11-19T10:18:21.754118",
     "status": "completed"
    },
    "tags": []
   },
   "source": [
    "#### Data transformation through pipeline"
   ]
  },
  {
   "cell_type": "code",
   "execution_count": 12,
   "id": "81aeb004",
   "metadata": {
    "execution": {
     "iopub.execute_input": "2022-11-19T10:18:21.801936Z",
     "iopub.status.busy": "2022-11-19T10:18:21.801542Z",
     "iopub.status.idle": "2022-11-19T10:18:21.930806Z",
     "shell.execute_reply": "2022-11-19T10:18:21.929119Z"
    },
    "papermill": {
     "duration": 0.151131,
     "end_time": "2022-11-19T10:18:21.935919",
     "exception": false,
     "start_time": "2022-11-19T10:18:21.784788",
     "status": "completed"
    },
    "tags": []
   },
   "outputs": [],
   "source": [
    "piped_train = pipe_1.fit_transform(df_train)\n",
    "piped_test = pipe_1.fit_transform(df_test)\n",
    "# for df in [piped_train, piped_test]:\n",
    "#     df.drop(columns=[\"male\", \"queenstown\"], inplace=True)"
   ]
  },
  {
   "cell_type": "markdown",
   "id": "166b4847",
   "metadata": {
    "papermill": {
     "duration": 0.015189,
     "end_time": "2022-11-19T10:18:21.974553",
     "exception": false,
     "start_time": "2022-11-19T10:18:21.959364",
     "status": "completed"
    },
    "tags": []
   },
   "source": [
    "### Visualizing correlation between variables of processed data"
   ]
  },
  {
   "cell_type": "code",
   "execution_count": 13,
   "id": "19b4a242",
   "metadata": {
    "execution": {
     "iopub.execute_input": "2022-11-19T10:18:22.007370Z",
     "iopub.status.busy": "2022-11-19T10:18:22.006959Z",
     "iopub.status.idle": "2022-11-19T10:18:23.500809Z",
     "shell.execute_reply": "2022-11-19T10:18:23.499609Z"
    },
    "papermill": {
     "duration": 1.513421,
     "end_time": "2022-11-19T10:18:23.503448",
     "exception": false,
     "start_time": "2022-11-19T10:18:21.990027",
     "status": "completed"
    },
    "tags": []
   },
   "outputs": [
    {
     "data": {
      "image/png": "[encoded data removed]",
      "text/plain": [
       "<Figure size 1080x360 with 4 Axes>"
      ]
     },
     "metadata": {},
     "output_type": "display_data"
    }
   ],
   "source": [
    "corr_train = piped_train.corr(method=\"spearman\")\n",
    "corr_test = piped_test.corr(method=\"spearman\")\n",
    "corr_mask_train = np.triu(np.ones_like(corr_train))\n",
    "corr_mask_test = np.triu(np.ones_like(corr_test))\n",
    "\n",
    "fig_2, ax_2 = plt.subplots(nrows=1, ncols=2, figsize=(15,5))\n",
    "sns.heatmap(corr_train, ax=ax_2[0], cmap=\"turbo\", annot=True, vmin=-1, vmax=1, mask=corr_mask_train)\n",
    "ax_2[0].set_title(\"Correlation Heatmap for Training Dataset\")\n",
    "ax_2[0].tick_params(axis=\"x\", rotation=45)\n",
    "sns.heatmap(corr_test, ax=ax_2[1], cmap=\"turbo\", annot=True, vmin=-1, vmax=1, mask=corr_mask_test)\n",
    "ax_2[1].set_title(\"Correlation Heatmap for Testing Dataset\")\n",
    "ax_2[1].tick_params(axis=\"x\", rotation=45)"
   ]
  },
  {
   "cell_type": "markdown",
   "id": "39262ae6",
   "metadata": {
    "papermill": {
     "duration": 0.016562,
     "end_time": "2022-11-19T10:18:23.537297",
     "exception": false,
     "start_time": "2022-11-19T10:18:23.520735",
     "status": "completed"
    },
    "tags": []
   },
   "source": [
    "## Modeling using the following algorithms:</br>\n",
    "- Logistic Regression</br>\n",
    "- C-support Vector Classification of Support Vector Machine (SVM) for 2-category Dependent Variable</br>\n",
    "- K Nearest Neightbors</br>\n",
    "- Decision Tree Classifier</br>\n",
    "- Random Forest Classifier"
   ]
  },
  {
   "cell_type": "markdown",
   "id": "c25cfd01",
   "metadata": {
    "papermill": {
     "duration": 0.016437,
     "end_time": "2022-11-19T10:18:23.570412",
     "exception": false,
     "start_time": "2022-11-19T10:18:23.553975",
     "status": "completed"
    },
    "tags": []
   },
   "source": [
    "### Logistic Regression"
   ]
  },
  {
   "cell_type": "markdown",
   "id": "31475939",
   "metadata": {
    "papermill": {
     "duration": 0.016504,
     "end_time": "2022-11-19T10:18:23.603601",
     "exception": false,
     "start_time": "2022-11-19T10:18:23.587097",
     "status": "completed"
    },
    "tags": []
   },
   "source": [
    "#### Finding the best parameter for Logistic Regression"
   ]
  },
  {
   "cell_type": "code",
   "execution_count": 14,
   "id": "955a68dc",
   "metadata": {
    "execution": {
     "iopub.execute_input": "2022-11-19T10:18:23.640098Z",
     "iopub.status.busy": "2022-11-19T10:18:23.639703Z",
     "iopub.status.idle": "2022-11-19T10:18:24.339364Z",
     "shell.execute_reply": "2022-11-19T10:18:24.337752Z"
    },
    "papermill": {
     "duration": 0.722584,
     "end_time": "2022-11-19T10:18:24.343471",
     "exception": false,
     "start_time": "2022-11-19T10:18:23.620887",
     "status": "completed"
    },
    "scrolled": true,
    "tags": []
   },
   "outputs": [
    {
     "name": "stdout",
     "output_type": "stream",
     "text": [
      "Fitting 5 folds for each of 5 candidates, totalling 25 fits\n",
      "[CV 1/5] END solver=newton-cg; accuracy: (test=0.793) r2: (test=0.127) roc_auc: (test=0.831) total time=   0.0s\n",
      "[CV 2/5] END solver=newton-cg; accuracy: (test=0.803) r2: (test=0.167) roc_auc: (test=0.835) total time=   0.0s\n",
      "[CV 3/5] END solver=newton-cg; accuracy: (test=0.792) r2: (test=0.120) roc_auc: (test=0.861) total time=   0.0s\n",
      "[CV 4/5] END solver=newton-cg; accuracy: (test=0.798) r2: (test=0.143) roc_auc: (test=0.856) total time=   0.0s\n",
      "[CV 5/5] END solver=newton-cg; accuracy: (test=0.820) r2: (test=0.243) roc_auc: (test=0.883) total time=   0.0s\n",
      "[CV 1/5] END solver=lbfgs; accuracy: (test=0.793) r2: (test=0.127) roc_auc: (test=0.831) total time=   0.0s\n",
      "[CV 2/5] END solver=lbfgs; accuracy: (test=0.803) r2: (test=0.167) roc_auc: (test=0.836) total time=   0.0s\n",
      "[CV 3/5] END solver=lbfgs; accuracy: (test=0.781) r2: (test=0.072) roc_auc: (test=0.861) total time=   0.0s\n",
      "[CV 4/5] END solver=lbfgs; accuracy: (test=0.798) r2: (test=0.143) roc_auc: (test=0.855) total time=   0.0s\n",
      "[CV 5/5] END solver=lbfgs; accuracy: (test=0.820) r2: (test=0.243) roc_auc: (test=0.884) total time=   0.0s\n",
      "[CV 1/5] END solver=liblinear; accuracy: (test=0.777) r2: (test=0.057) roc_auc: (test=0.828) total time=   0.0s\n",
      "[CV 2/5] END solver=liblinear; accuracy: (test=0.803) r2: (test=0.167) roc_auc: (test=0.836) total time=   0.0s\n",
      "[CV 3/5] END solver=liblinear; accuracy: (test=0.781) r2: (test=0.072) roc_auc: (test=0.863) total time=   0.0s\n",
      "[CV 4/5] END solver=liblinear; accuracy: (test=0.792) r2: (test=0.120) roc_auc: (test=0.857) total time=   0.0s\n",
      "[CV 5/5] END solver=liblinear; accuracy: (test=0.815) r2: (test=0.219) roc_auc: (test=0.883) total time=   0.0s\n",
      "[CV 1/5] END solver=sag; accuracy: (test=0.788) r2: (test=0.104) roc_auc: (test=0.817) total time=   0.0s\n",
      "[CV 2/5] END solver=sag; accuracy: (test=0.820) r2: (test=0.239) roc_auc: (test=0.845) total time=   0.0s\n",
      "[CV 3/5] END solver=sag; accuracy: (test=0.781) r2: (test=0.072) roc_auc: (test=0.864) total time=   0.0s\n",
      "[CV 4/5] END solver=sag; accuracy: (test=0.787) r2: (test=0.096) roc_auc: (test=0.853) total time=   0.0s\n",
      "[CV 5/5] END solver=sag; accuracy: (test=0.809) r2: (test=0.195) roc_auc: (test=0.879) total time=   0.0s\n",
      "[CV 1/5] END solver=saga; accuracy: (test=0.749) r2: (test=-0.061) roc_auc: (test=0.808) total time=   0.0s\n",
      "[CV 2/5] END solver=saga; accuracy: (test=0.826) r2: (test=0.262) roc_auc: (test=0.847) total time=   0.0s\n",
      "[CV 3/5] END solver=saga; accuracy: (test=0.781) r2: (test=0.072) roc_auc: (test=0.862) total time=   0.0s\n",
      "[CV 4/5] END solver=saga; accuracy: (test=0.781) r2: (test=0.072) roc_auc: (test=0.852) total time=   0.0s\n",
      "[CV 5/5] END solver=saga; accuracy: (test=0.803) r2: (test=0.172) roc_auc: (test=0.880) total time=   0.0s\n"
     ]
    },
    {
     "data": {
      "text/html": [
       "<style>#sk-04c9d43c-1493-4385-b7aa-bd1975a97f88 {color: black;background-color: white;}#sk-04c9d43c-1493-4385-b7aa-bd1975a97f88 pre{padding: 0;}#sk-04c9d43c-1493-4385-b7aa-bd1975a97f88 div.sk-toggleable {background-color: white;}#sk-04c9d43c-1493-4385-b7aa-bd1975a97f88 label.sk-toggleable__label {cursor: pointer;display: block;width: 100%;margin-bottom: 0;padding: 0.3em;box-sizing: border-box;text-align: center;}#sk-04c9d43c-1493-4385-b7aa-bd1975a97f88 label.sk-toggleable__label-arrow:before {content: \"▸\";float: left;margin-right: 0.25em;color: #696969;}#sk-04c9d43c-1493-4385-b7aa-bd1975a97f88 label.sk-toggleable__label-arrow:hover:before {color: black;}#sk-04c9d43c-1493-4385-b7aa-bd1975a97f88 div.sk-estimator:hover label.sk-toggleable__label-arrow:before {color: black;}#sk-04c9d43c-1493-4385-b7aa-bd1975a97f88 div.sk-toggleable__content {max-height: 0;max-width: 0;overflow: hidden;text-align: left;background-color: #f0f8ff;}#sk-04c9d43c-1493-4385-b7aa-bd1975a97f88 div.sk-toggleable__content pre {margin: 0.2em;color: black;border-radius: 0.25em;background-color: #f0f8ff;}#sk-04c9d43c-1493-4385-b7aa-bd1975a97f88 input.sk-toggleable__control:checked~div.sk-toggleable__content {max-height: 200px;max-width: 100%;overflow: auto;}#sk-04c9d43c-1493-4385-b7aa-bd1975a97f88 input.sk-toggleable__control:checked~label.sk-toggleable__label-arrow:before {content: \"▾\";}#sk-04c9d43c-1493-4385-b7aa-bd1975a97f88 div.sk-estimator input.sk-toggleable__control:checked~label.sk-toggleable__label {background-color: #d4ebff;}#sk-04c9d43c-1493-4385-b7aa-bd1975a97f88 div.sk-label input.sk-toggleable__control:checked~label.sk-toggleable__label {background-color: #d4ebff;}#sk-04c9d43c-1493-4385-b7aa-bd1975a97f88 input.sk-hidden--visually {border: 0;clip: rect(1px 1px 1px 1px);clip: rect(1px, 1px, 1px, 1px);height: 1px;margin: -1px;overflow: hidden;padding: 0;position: absolute;width: 1px;}#sk-04c9d43c-1493-4385-b7aa-bd1975a97f88 div.sk-estimator {font-family: monospace;background-color: #f0f8ff;border: 1px dotted black;border-radius: 0.25em;box-sizing: border-box;margin-bottom: 0.5em;}#sk-04c9d43c-1493-4385-b7aa-bd1975a97f88 div.sk-estimator:hover {background-color: #d4ebff;}#sk-04c9d43c-1493-4385-b7aa-bd1975a97f88 div.sk-parallel-item::after {content: \"\";width: 100%;border-bottom: 1px solid gray;flex-grow: 1;}#sk-04c9d43c-1493-4385-b7aa-bd1975a97f88 div.sk-label:hover label.sk-toggleable__label {background-color: #d4ebff;}#sk-04c9d43c-1493-4385-b7aa-bd1975a97f88 div.sk-serial::before {content: \"\";position: absolute;border-left: 1px solid gray;box-sizing: border-box;top: 2em;bottom: 0;left: 50%;}#sk-04c9d43c-1493-4385-b7aa-bd1975a97f88 div.sk-serial {display: flex;flex-direction: column;align-items: center;background-color: white;padding-right: 0.2em;padding-left: 0.2em;}#sk-04c9d43c-1493-4385-b7aa-bd1975a97f88 div.sk-item {z-index: 1;}#sk-04c9d43c-1493-4385-b7aa-bd1975a97f88 div.sk-parallel {display: flex;align-items: stretch;justify-content: center;background-color: white;}#sk-04c9d43c-1493-4385-b7aa-bd1975a97f88 div.sk-parallel::before {content: \"\";position: absolute;border-left: 1px solid gray;box-sizing: border-box;top: 2em;bottom: 0;left: 50%;}#sk-04c9d43c-1493-4385-b7aa-bd1975a97f88 div.sk-parallel-item {display: flex;flex-direction: column;position: relative;background-color: white;}#sk-04c9d43c-1493-4385-b7aa-bd1975a97f88 div.sk-parallel-item:first-child::after {align-self: flex-end;width: 50%;}#sk-04c9d43c-1493-4385-b7aa-bd1975a97f88 div.sk-parallel-item:last-child::after {align-self: flex-start;width: 50%;}#sk-04c9d43c-1493-4385-b7aa-bd1975a97f88 div.sk-parallel-item:only-child::after {width: 0;}#sk-04c9d43c-1493-4385-b7aa-bd1975a97f88 div.sk-dashed-wrapped {border: 1px dashed gray;margin: 0 0.4em 0.5em 0.4em;box-sizing: border-box;padding-bottom: 0.4em;background-color: white;position: relative;}#sk-04c9d43c-1493-4385-b7aa-bd1975a97f88 div.sk-label label {font-family: monospace;font-weight: bold;background-color: white;display: inline-block;line-height: 1.2em;}#sk-04c9d43c-1493-4385-b7aa-bd1975a97f88 div.sk-label-container {position: relative;z-index: 2;text-align: center;}#sk-04c9d43c-1493-4385-b7aa-bd1975a97f88 div.sk-container {/* jupyter's `normalize.less` sets `[hidden] { display: none; }` but bootstrap.min.css set `[hidden] { display: none !important; }` so we also need the `!important` here to be able to override the default hidden behavior on the sphinx rendered scikit-learn.org. See: https://github.com/scikit-learn/scikit-learn/issues/21755 */display: inline-block !important;position: relative;}#sk-04c9d43c-1493-4385-b7aa-bd1975a97f88 div.sk-text-repr-fallback {display: none;}</style><div id=\"sk-04c9d43c-1493-4385-b7aa-bd1975a97f88\" class=\"sk-top-container\"><div class=\"sk-text-repr-fallback\"><pre>GridSearchCV(cv=5, estimator=LogisticRegression(),\n",
       "             param_grid={&#x27;solver&#x27;: [&#x27;newton-cg&#x27;, &#x27;lbfgs&#x27;, &#x27;liblinear&#x27;, &#x27;sag&#x27;,\n",
       "                                    &#x27;saga&#x27;]},\n",
       "             refit=&#x27;accuracy&#x27;, scoring=[&#x27;r2&#x27;, &#x27;accuracy&#x27;, &#x27;roc_auc&#x27;],\n",
       "             verbose=3)</pre><b>Please rerun this cell to show the HTML repr or trust the notebook.</b></div><div class=\"sk-container\" hidden><div class=\"sk-item sk-dashed-wrapped\"><div class=\"sk-label-container\"><div class=\"sk-label sk-toggleable\"><input class=\"sk-toggleable__control sk-hidden--visually\" id=\"14883db5-d092-4176-844a-13d98c6604d3\" type=\"checkbox\" ><label for=\"14883db5-d092-4176-844a-13d98c6604d3\" class=\"sk-toggleable__label sk-toggleable__label-arrow\">GridSearchCV</label><div class=\"sk-toggleable__content\"><pre>GridSearchCV(cv=5, estimator=LogisticRegression(),\n",
       "             param_grid={&#x27;solver&#x27;: [&#x27;newton-cg&#x27;, &#x27;lbfgs&#x27;, &#x27;liblinear&#x27;, &#x27;sag&#x27;,\n",
       "                                    &#x27;saga&#x27;]},\n",
       "             refit=&#x27;accuracy&#x27;, scoring=[&#x27;r2&#x27;, &#x27;accuracy&#x27;, &#x27;roc_auc&#x27;],\n",
       "             verbose=3)</pre></div></div></div><div class=\"sk-parallel\"><div class=\"sk-parallel-item\"><div class=\"sk-item\"><div class=\"sk-serial\"><div class=\"sk-item\"><div class=\"sk-estimator sk-toggleable\"><input class=\"sk-toggleable__control sk-hidden--visually\" id=\"6fd9aef1-e1c1-4d3b-a549-432fd31fe2a4\" type=\"checkbox\" ><label for=\"6fd9aef1-e1c1-4d3b-a549-432fd31fe2a4\" class=\"sk-toggleable__label sk-toggleable__label-arrow\">LogisticRegression</label><div class=\"sk-toggleable__content\"><pre>LogisticRegression()</pre></div></div></div></div></div></div></div></div></div></div>"
      ],
      "text/plain": [
       "GridSearchCV(cv=5, estimator=LogisticRegression(),\n",
       "             param_grid={'solver': ['newton-cg', 'lbfgs', 'liblinear', 'sag',\n",
       "                                    'saga']},\n",
       "             refit='accuracy', scoring=['r2', 'accuracy', 'roc_auc'],\n",
       "             verbose=3)"
      ]
     },
     "execution_count": 14,
     "metadata": {},
     "output_type": "execute_result"
    }
   ],
   "source": [
    "params_logreg_GS = {\"solver\": [\"newton-cg\", \"lbfgs\", \"liblinear\", \"sag\", \"saga\"]}\n",
    "logreg_GS = LogisticRegression()\n",
    "GS_logreg = GridSearchCV(\n",
    "    estimator=logreg_GS,\n",
    "    cv=5,\n",
    "    param_grid=params_logreg_GS, \n",
    "    scoring=[\"r2\", \"accuracy\", \"roc_auc\"],\n",
    "    refit=\"accuracy\",\n",
    "    verbose=3\n",
    ")\n",
    "GS_logreg.fit(piped_train, df_survived)"
   ]
  },
  {
   "cell_type": "code",
   "execution_count": 15,
   "id": "afca8384",
   "metadata": {
    "execution": {
     "iopub.execute_input": "2022-11-19T10:18:24.439776Z",
     "iopub.status.busy": "2022-11-19T10:18:24.439040Z",
     "iopub.status.idle": "2022-11-19T10:18:24.446993Z",
     "shell.execute_reply": "2022-11-19T10:18:24.446189Z"
    },
    "papermill": {
     "duration": 0.059231,
     "end_time": "2022-11-19T10:18:24.449169",
     "exception": false,
     "start_time": "2022-11-19T10:18:24.389938",
     "status": "completed"
    },
    "tags": []
   },
   "outputs": [
    {
     "name": "stdout",
     "output_type": "stream",
     "text": [
      "Best parameter for Logistic Regression is with newton-cg with an accuracy of 80.14%\n"
     ]
    }
   ],
   "source": [
    "solver_GS_logreg = GS_logreg.best_params_[\"solver\"]\n",
    "acc_GS_logreg = round(GS_logreg.best_score_*100, 2)\n",
    "print(f\"Best parameter for Logistic Regression is with {solver_GS_logreg} with an accuracy of {acc_GS_logreg}%\")"
   ]
  },
  {
   "cell_type": "markdown",
   "id": "a2068972",
   "metadata": {
    "papermill": {
     "duration": 0.017738,
     "end_time": "2022-11-19T10:18:24.485098",
     "exception": false,
     "start_time": "2022-11-19T10:18:24.467360",
     "status": "completed"
    },
    "tags": []
   },
   "source": [
    "#### Modeling logistic regression"
   ]
  },
  {
   "cell_type": "code",
   "execution_count": 16,
   "id": "efd7fd74",
   "metadata": {
    "execution": {
     "iopub.execute_input": "2022-11-19T10:18:24.522787Z",
     "iopub.status.busy": "2022-11-19T10:18:24.522346Z",
     "iopub.status.idle": "2022-11-19T10:18:24.530297Z",
     "shell.execute_reply": "2022-11-19T10:18:24.529354Z"
    },
    "papermill": {
     "duration": 0.029666,
     "end_time": "2022-11-19T10:18:24.532700",
     "exception": false,
     "start_time": "2022-11-19T10:18:24.503034",
     "status": "completed"
    },
    "tags": []
   },
   "outputs": [],
   "source": [
    "for df in[piped_train, piped_test]:\n",
    "    df.drop(columns=[\"male\", \"queenstown\"], inplace=True)"
   ]
  },
  {
   "cell_type": "code",
   "execution_count": 17,
   "id": "968394fa",
   "metadata": {
    "execution": {
     "iopub.execute_input": "2022-11-19T10:18:24.570855Z",
     "iopub.status.busy": "2022-11-19T10:18:24.569741Z",
     "iopub.status.idle": "2022-11-19T10:18:24.603791Z",
     "shell.execute_reply": "2022-11-19T10:18:24.602406Z"
    },
    "papermill": {
     "duration": 0.056244,
     "end_time": "2022-11-19T10:18:24.606780",
     "exception": false,
     "start_time": "2022-11-19T10:18:24.550536",
     "status": "completed"
    },
    "tags": []
   },
   "outputs": [
    {
     "name": "stdout",
     "output_type": "stream",
     "text": [
      "Resulting Coefficient for Logistic Regression\n",
      "             Coefficient\n",
      "Age                -0.04\n",
      "Fare_band           0.26\n",
      "Is_Alone            0.55\n",
      "Parch              -0.26\n",
      "Pclass             -0.93\n",
      "SibSp              -0.59\n",
      "cherbourg          -0.08\n",
      "female              2.46\n",
      "southampton        -0.40\n"
     ]
    }
   ],
   "source": [
    "best_logreg = LogisticRegression(solver=\"newton-cg\")\n",
    "# pipe_2 = make_pipeline(Encode_Impute(), EncodeFeatures(), Is_Alone(), Optimized_Cols(), logreg)\n",
    "# cross_val_score(pipe_2, df_train, y=df_survived, cv=10, scoring=\"accuracy\")\n",
    "best_logreg.fit(piped_train, df_survived)\n",
    "coeff_logreg = pd.DataFrame({\"Coefficient\": best_logreg.coef_[0]}, index=piped_train.columns)\n",
    "print(\"Resulting Coefficient for Logistic Regression\")\n",
    "print(coeff_logreg.sort_index(axis=\"index\", ascending=True))"
   ]
  },
  {
   "cell_type": "markdown",
   "id": "198fc8b5",
   "metadata": {
    "papermill": {
     "duration": 0.017885,
     "end_time": "2022-11-19T10:18:24.643897",
     "exception": false,
     "start_time": "2022-11-19T10:18:24.626012",
     "status": "completed"
    },
    "tags": []
   },
   "source": [
    "#### Predictions for Logistic Regression"
   ]
  },
  {
   "cell_type": "code",
   "execution_count": 18,
   "id": "4075cc75",
   "metadata": {
    "execution": {
     "iopub.execute_input": "2022-11-19T10:18:24.682313Z",
     "iopub.status.busy": "2022-11-19T10:18:24.681878Z",
     "iopub.status.idle": "2022-11-19T10:18:24.688592Z",
     "shell.execute_reply": "2022-11-19T10:18:24.687645Z"
    },
    "papermill": {
     "duration": 0.028628,
     "end_time": "2022-11-19T10:18:24.690989",
     "exception": false,
     "start_time": "2022-11-19T10:18:24.662361",
     "status": "completed"
    },
    "tags": []
   },
   "outputs": [],
   "source": [
    "pred_logreg = best_logreg.predict(piped_test)"
   ]
  },
  {
   "cell_type": "code",
   "execution_count": 19,
   "id": "173b7ca8",
   "metadata": {
    "execution": {
     "iopub.execute_input": "2022-11-19T10:18:24.731053Z",
     "iopub.status.busy": "2022-11-19T10:18:24.730334Z",
     "iopub.status.idle": "2022-11-19T10:18:24.734588Z",
     "shell.execute_reply": "2022-11-19T10:18:24.733705Z"
    },
    "papermill": {
     "duration": 0.027871,
     "end_time": "2022-11-19T10:18:24.736848",
     "exception": false,
     "start_time": "2022-11-19T10:18:24.708977",
     "status": "completed"
    },
    "scrolled": true,
    "tags": []
   },
   "outputs": [],
   "source": [
    "# f_GS_logreg_data = piped_train.copy()\n",
    "# f_GS_logreg_data[\"Survived\"] = df_survived\n",
    "# f_GS_logreg = logit(\"Survived ~ Pclass + Age + SibSp + Parch + Fare_band + female + cherbourg + southampton + Is_Alone\",\n",
    "#                    data=f_GS_logreg_data).fit()\n",
    "# f_GS_logreg.summary()\n",
    "# dir(f_GS_logreg)  # attributes of logistic regression in statsmodels"
   ]
  },
  {
   "cell_type": "markdown",
   "id": "6ad937cf",
   "metadata": {
    "papermill": {
     "duration": 0.018338,
     "end_time": "2022-11-19T10:18:24.773460",
     "exception": false,
     "start_time": "2022-11-19T10:18:24.755122",
     "status": "completed"
    },
    "tags": []
   },
   "source": [
    "### C-support Vector Classification of Support Vector Machine (SVM) for 2-category Dependent Variable"
   ]
  },
  {
   "cell_type": "markdown",
   "id": "18b4c5ed",
   "metadata": {
    "papermill": {
     "duration": 0.01809,
     "end_time": "2022-11-19T10:18:24.810341",
     "exception": false,
     "start_time": "2022-11-19T10:18:24.792251",
     "status": "completed"
    },
    "tags": []
   },
   "source": [
    "#### Finding the best parameter for C-SVM for 2-category DV"
   ]
  },
  {
   "cell_type": "code",
   "execution_count": 20,
   "id": "432f9a1c",
   "metadata": {
    "execution": {
     "iopub.execute_input": "2022-11-19T10:18:24.849456Z",
     "iopub.status.busy": "2022-11-19T10:18:24.848753Z",
     "iopub.status.idle": "2022-11-19T10:18:32.738898Z",
     "shell.execute_reply": "2022-11-19T10:18:32.737650Z"
    },
    "papermill": {
     "duration": 7.912891,
     "end_time": "2022-11-19T10:18:32.741457",
     "exception": false,
     "start_time": "2022-11-19T10:18:24.828566",
     "status": "completed"
    },
    "scrolled": true,
    "tags": []
   },
   "outputs": [
    {
     "name": "stdout",
     "output_type": "stream",
     "text": [
      "Fitting 5 folds for each of 40 candidates, totalling 200 fits\n",
      "[CV 1/5] END C=1.0, decision_function_shape=ovo; accuracy: (test=0.648) r2: (test=-0.486) roc_auc: (test=0.709) total time=   0.0s\n",
      "[CV 2/5] END C=1.0, decision_function_shape=ovo; accuracy: (test=0.640) r2: (test=-0.523) roc_auc: (test=0.793) total time=   0.0s\n",
      "[CV 3/5] END C=1.0, decision_function_shape=ovo; accuracy: (test=0.624) r2: (test=-0.594) roc_auc: (test=0.811) total time=   0.0s\n",
      "[CV 4/5] END C=1.0, decision_function_shape=ovo; accuracy: (test=0.646) r2: (test=-0.499) roc_auc: (test=0.841) total time=   0.0s\n",
      "[CV 5/5] END C=1.0, decision_function_shape=ovo; accuracy: (test=0.657) r2: (test=-0.444) roc_auc: (test=0.827) total time=   0.0s\n",
      "[CV 1/5] END C=1.0, decision_function_shape=ovr; accuracy: (test=0.648) r2: (test=-0.486) roc_auc: (test=0.709) total time=   0.0s\n",
      "[CV 2/5] END C=1.0, decision_function_shape=ovr; accuracy: (test=0.640) r2: (test=-0.523) roc_auc: (test=0.793) total time=   0.0s\n",
      "[CV 3/5] END C=1.0, decision_function_shape=ovr; accuracy: (test=0.624) r2: (test=-0.594) roc_auc: (test=0.811) total time=   0.0s\n",
      "[CV 4/5] END C=1.0, decision_function_shape=ovr; accuracy: (test=0.646) r2: (test=-0.499) roc_auc: (test=0.841) total time=   0.0s\n",
      "[CV 5/5] END C=1.0, decision_function_shape=ovr; accuracy: (test=0.657) r2: (test=-0.444) roc_auc: (test=0.827) total time=   0.0s\n",
      "[CV 1/5] END C=2.0, decision_function_shape=ovo; accuracy: (test=0.654) r2: (test=-0.462) roc_auc: (test=0.718) total time=   0.0s\n",
      "[CV 2/5] END C=2.0, decision_function_shape=ovo; accuracy: (test=0.730) r2: (test=-0.142) roc_auc: (test=0.812) total time=   0.0s\n",
      "[CV 3/5] END C=2.0, decision_function_shape=ovo; accuracy: (test=0.708) r2: (test=-0.237) roc_auc: (test=0.826) total time=   0.0s\n",
      "[CV 4/5] END C=2.0, decision_function_shape=ovo; accuracy: (test=0.758) r2: (test=-0.023) roc_auc: (test=0.850) total time=   0.0s\n",
      "[CV 5/5] END C=2.0, decision_function_shape=ovo; accuracy: (test=0.758) r2: (test=-0.018) roc_auc: (test=0.853) total time=   0.1s\n",
      "[CV 1/5] END C=2.0, decision_function_shape=ovr; accuracy: (test=0.654) r2: (test=-0.462) roc_auc: (test=0.718) total time=   0.1s\n",
      "[CV 2/5] END C=2.0, decision_function_shape=ovr; accuracy: (test=0.730) r2: (test=-0.142) roc_auc: (test=0.812) total time=   0.0s\n",
      "[CV 3/5] END C=2.0, decision_function_shape=ovr; accuracy: (test=0.708) r2: (test=-0.237) roc_auc: (test=0.826) total time=   0.1s\n",
      "[CV 4/5] END C=2.0, decision_function_shape=ovr; accuracy: (test=0.758) r2: (test=-0.023) roc_auc: (test=0.850) total time=   0.0s\n",
      "[CV 5/5] END C=2.0, decision_function_shape=ovr; accuracy: (test=0.758) r2: (test=-0.018) roc_auc: (test=0.853) total time=   0.0s\n",
      "[CV 1/5] END C=3.0, decision_function_shape=ovo; accuracy: (test=0.659) r2: (test=-0.439) roc_auc: (test=0.737) total time=   0.0s\n",
      "[CV 2/5] END C=3.0, decision_function_shape=ovo; accuracy: (test=0.753) r2: (test=-0.047) roc_auc: (test=0.821) total time=   0.0s\n",
      "[CV 3/5] END C=3.0, decision_function_shape=ovo; accuracy: (test=0.758) r2: (test=-0.023) roc_auc: (test=0.840) total time=   0.0s\n",
      "[CV 4/5] END C=3.0, decision_function_shape=ovo; accuracy: (test=0.775) r2: (test=0.048) roc_auc: (test=0.855) total time=   0.0s\n",
      "[CV 5/5] END C=3.0, decision_function_shape=ovo; accuracy: (test=0.781) r2: (test=0.077) roc_auc: (test=0.872) total time=   0.0s\n",
      "[CV 1/5] END C=3.0, decision_function_shape=ovr; accuracy: (test=0.659) r2: (test=-0.439) roc_auc: (test=0.737) total time=   0.0s\n",
      "[CV 2/5] END C=3.0, decision_function_shape=ovr; accuracy: (test=0.753) r2: (test=-0.047) roc_auc: (test=0.821) total time=   0.0s\n",
      "[CV 3/5] END C=3.0, decision_function_shape=ovr; accuracy: (test=0.758) r2: (test=-0.023) roc_auc: (test=0.840) total time=   0.0s\n",
      "[CV 4/5] END C=3.0, decision_function_shape=ovr; accuracy: (test=0.775) r2: (test=0.048) roc_auc: (test=0.855) total time=   0.0s\n",
      "[CV 5/5] END C=3.0, decision_function_shape=ovr; accuracy: (test=0.781) r2: (test=0.077) roc_auc: (test=0.872) total time=   0.0s\n",
      "[CV 1/5] END C=4.0, decision_function_shape=ovo; accuracy: (test=0.676) r2: (test=-0.368) roc_auc: (test=0.759) total time=   0.0s\n",
      "[CV 2/5] END C=4.0, decision_function_shape=ovo; accuracy: (test=0.758) r2: (test=-0.023) roc_auc: (test=0.830) total time=   0.0s\n",
      "[CV 3/5] END C=4.0, decision_function_shape=ovo; accuracy: (test=0.764) r2: (test=0.001) roc_auc: (test=0.846) total time=   0.0s\n",
      "[CV 4/5] END C=4.0, decision_function_shape=ovo; accuracy: (test=0.781) r2: (test=0.072) roc_auc: (test=0.856) total time=   0.0s\n",
      "[CV 5/5] END C=4.0, decision_function_shape=ovo; accuracy: (test=0.809) r2: (test=0.195) roc_auc: (test=0.882) total time=   0.0s\n",
      "[CV 1/5] END C=4.0, decision_function_shape=ovr; accuracy: (test=0.676) r2: (test=-0.368) roc_auc: (test=0.759) total time=   0.0s\n",
      "[CV 2/5] END C=4.0, decision_function_shape=ovr; accuracy: (test=0.758) r2: (test=-0.023) roc_auc: (test=0.830) total time=   0.0s\n",
      "[CV 3/5] END C=4.0, decision_function_shape=ovr; accuracy: (test=0.764) r2: (test=0.001) roc_auc: (test=0.846) total time=   0.0s\n",
      "[CV 4/5] END C=4.0, decision_function_shape=ovr; accuracy: (test=0.781) r2: (test=0.072) roc_auc: (test=0.856) total time=   0.0s\n",
      "[CV 5/5] END C=4.0, decision_function_shape=ovr; accuracy: (test=0.809) r2: (test=0.195) roc_auc: (test=0.882) total time=   0.0s\n",
      "[CV 1/5] END C=5.0, decision_function_shape=ovo; accuracy: (test=0.715) r2: (test=-0.203) roc_auc: (test=0.772) total time=   0.0s\n",
      "[CV 2/5] END C=5.0, decision_function_shape=ovo; accuracy: (test=0.781) r2: (test=0.072) roc_auc: (test=0.833) total time=   0.0s\n",
      "[CV 3/5] END C=5.0, decision_function_shape=ovo; accuracy: (test=0.815) r2: (test=0.215) roc_auc: (test=0.854) total time=   0.0s\n",
      "[CV 4/5] END C=5.0, decision_function_shape=ovo; accuracy: (test=0.775) r2: (test=0.048) roc_auc: (test=0.857) total time=   0.0s\n",
      "[CV 5/5] END C=5.0, decision_function_shape=ovo; accuracy: (test=0.826) r2: (test=0.266) roc_auc: (test=0.888) total time=   0.0s\n",
      "[CV 1/5] END C=5.0, decision_function_shape=ovr; accuracy: (test=0.715) r2: (test=-0.203) roc_auc: (test=0.772) total time=   0.0s\n",
      "[CV 2/5] END C=5.0, decision_function_shape=ovr; accuracy: (test=0.781) r2: (test=0.072) roc_auc: (test=0.833) total time=   0.0s\n",
      "[CV 3/5] END C=5.0, decision_function_shape=ovr; accuracy: (test=0.815) r2: (test=0.215) roc_auc: (test=0.854) total time=   0.0s\n",
      "[CV 4/5] END C=5.0, decision_function_shape=ovr; accuracy: (test=0.775) r2: (test=0.048) roc_auc: (test=0.857) total time=   0.0s\n",
      "[CV 5/5] END C=5.0, decision_function_shape=ovr; accuracy: (test=0.826) r2: (test=0.266) roc_auc: (test=0.888) total time=   0.0s\n",
      "[CV 1/5] END C=6.0, decision_function_shape=ovo; accuracy: (test=0.721) r2: (test=-0.179) roc_auc: (test=0.792) total time=   0.0s\n",
      "[CV 2/5] END C=6.0, decision_function_shape=ovo; accuracy: (test=0.792) r2: (test=0.120) roc_auc: (test=0.839) total time=   0.0s\n",
      "[CV 3/5] END C=6.0, decision_function_shape=ovo; accuracy: (test=0.831) r2: (test=0.286) roc_auc: (test=0.858) total time=   0.0s\n",
      "[CV 4/5] END C=6.0, decision_function_shape=ovo; accuracy: (test=0.781) r2: (test=0.072) roc_auc: (test=0.857) total time=   0.0s\n",
      "[CV 5/5] END C=6.0, decision_function_shape=ovo; accuracy: (test=0.843) r2: (test=0.337) roc_auc: (test=0.892) total time=   0.0s\n",
      "[CV 1/5] END C=6.0, decision_function_shape=ovr; accuracy: (test=0.721) r2: (test=-0.179) roc_auc: (test=0.792) total time=   0.0s\n",
      "[CV 2/5] END C=6.0, decision_function_shape=ovr; accuracy: (test=0.792) r2: (test=0.120) roc_auc: (test=0.839) total time=   0.0s\n",
      "[CV 3/5] END C=6.0, decision_function_shape=ovr; accuracy: (test=0.831) r2: (test=0.286) roc_auc: (test=0.858) total time=   0.0s\n",
      "[CV 4/5] END C=6.0, decision_function_shape=ovr; accuracy: (test=0.781) r2: (test=0.072) roc_auc: (test=0.857) total time=   0.0s\n",
      "[CV 5/5] END C=6.0, decision_function_shape=ovr; accuracy: (test=0.843) r2: (test=0.337) roc_auc: (test=0.892) total time=   0.0s\n",
      "[CV 1/5] END C=7.0, decision_function_shape=ovo; accuracy: (test=0.726) r2: (test=-0.156) roc_auc: (test=0.803) total time=   0.0s\n",
      "[CV 2/5] END C=7.0, decision_function_shape=ovo; accuracy: (test=0.798) r2: (test=0.143) roc_auc: (test=0.844) total time=   0.0s\n",
      "[CV 3/5] END C=7.0, decision_function_shape=ovo; accuracy: (test=0.820) r2: (test=0.239) roc_auc: (test=0.860) total time=   0.0s\n",
      "[CV 4/5] END C=7.0, decision_function_shape=ovo; accuracy: (test=0.775) r2: (test=0.048) roc_auc: (test=0.854) total time=   0.0s\n",
      "[CV 5/5] END C=7.0, decision_function_shape=ovo; accuracy: (test=0.860) r2: (test=0.408) roc_auc: (test=0.895) total time=   0.0s\n",
      "[CV 1/5] END C=7.0, decision_function_shape=ovr; accuracy: (test=0.726) r2: (test=-0.156) roc_auc: (test=0.803) total time=   0.0s\n",
      "[CV 2/5] END C=7.0, decision_function_shape=ovr; accuracy: (test=0.798) r2: (test=0.143) roc_auc: (test=0.844) total time=   0.0s\n",
      "[CV 3/5] END C=7.0, decision_function_shape=ovr; accuracy: (test=0.820) r2: (test=0.239) roc_auc: (test=0.860) total time=   0.0s\n",
      "[CV 4/5] END C=7.0, decision_function_shape=ovr; accuracy: (test=0.775) r2: (test=0.048) roc_auc: (test=0.854) total time=   0.0s\n",
      "[CV 5/5] END C=7.0, decision_function_shape=ovr; accuracy: (test=0.860) r2: (test=0.408) roc_auc: (test=0.895) total time=   0.0s\n",
      "[CV 1/5] END C=8.0, decision_function_shape=ovo; accuracy: (test=0.737) r2: (test=-0.108) roc_auc: (test=0.816) total time=   0.0s\n",
      "[CV 2/5] END C=8.0, decision_function_shape=ovo; accuracy: (test=0.837) r2: (test=0.310) roc_auc: (test=0.847) total time=   0.1s\n",
      "[CV 3/5] END C=8.0, decision_function_shape=ovo; accuracy: (test=0.803) r2: (test=0.167) roc_auc: (test=0.859) total time=   0.0s\n",
      "[CV 4/5] END C=8.0, decision_function_shape=ovo; accuracy: (test=0.775) r2: (test=0.048) roc_auc: (test=0.850) total time=   0.0s\n",
      "[CV 5/5] END C=8.0, decision_function_shape=ovo; accuracy: (test=0.854) r2: (test=0.385) roc_auc: (test=0.893) total time=   0.0s\n",
      "[CV 1/5] END C=8.0, decision_function_shape=ovr; accuracy: (test=0.737) r2: (test=-0.108) roc_auc: (test=0.816) total time=   0.0s\n",
      "[CV 2/5] END C=8.0, decision_function_shape=ovr; accuracy: (test=0.837) r2: (test=0.310) roc_auc: (test=0.847) total time=   0.0s\n",
      "[CV 3/5] END C=8.0, decision_function_shape=ovr; accuracy: (test=0.803) r2: (test=0.167) roc_auc: (test=0.859) total time=   0.0s\n",
      "[CV 4/5] END C=8.0, decision_function_shape=ovr; accuracy: (test=0.775) r2: (test=0.048) roc_auc: (test=0.850) total time=   0.0s\n",
      "[CV 5/5] END C=8.0, decision_function_shape=ovr; accuracy: (test=0.854) r2: (test=0.385) roc_auc: (test=0.893) total time=   0.0s\n",
      "[CV 1/5] END C=9.0, decision_function_shape=ovo; accuracy: (test=0.765) r2: (test=0.009) roc_auc: (test=0.825) total time=   0.0s\n",
      "[CV 2/5] END C=9.0, decision_function_shape=ovo; accuracy: (test=0.831) r2: (test=0.286) roc_auc: (test=0.846) total time=   0.0s\n",
      "[CV 3/5] END C=9.0, decision_function_shape=ovo; accuracy: (test=0.798) r2: (test=0.143) roc_auc: (test=0.862) total time=   0.0s\n",
      "[CV 4/5] END C=9.0, decision_function_shape=ovo; accuracy: (test=0.775) r2: (test=0.048) roc_auc: (test=0.847) total time=   0.0s\n",
      "[CV 5/5] END C=9.0, decision_function_shape=ovo; accuracy: (test=0.848) r2: (test=0.361) roc_auc: (test=0.892) total time=   0.0s\n",
      "[CV 1/5] END C=9.0, decision_function_shape=ovr; accuracy: (test=0.765) r2: (test=0.009) roc_auc: (test=0.825) total time=   0.0s\n",
      "[CV 2/5] END C=9.0, decision_function_shape=ovr; accuracy: (test=0.831) r2: (test=0.286) roc_auc: (test=0.846) total time=   0.0s\n",
      "[CV 3/5] END C=9.0, decision_function_shape=ovr; accuracy: (test=0.798) r2: (test=0.143) roc_auc: (test=0.862) total time=   0.0s\n",
      "[CV 4/5] END C=9.0, decision_function_shape=ovr; accuracy: (test=0.775) r2: (test=0.048) roc_auc: (test=0.847) total time=   0.0s\n",
      "[CV 5/5] END C=9.0, decision_function_shape=ovr; accuracy: (test=0.848) r2: (test=0.361) roc_auc: (test=0.892) total time=   0.0s\n",
      "[CV 1/5] END C=10.0, decision_function_shape=ovo; accuracy: (test=0.771) r2: (test=0.033) roc_auc: (test=0.835) total time=   0.0s\n",
      "[CV 2/5] END C=10.0, decision_function_shape=ovo; accuracy: (test=0.820) r2: (test=0.239) roc_auc: (test=0.844) total time=   0.0s\n",
      "[CV 3/5] END C=10.0, decision_function_shape=ovo; accuracy: (test=0.792) r2: (test=0.120) roc_auc: (test=0.863) total time=   0.0s\n",
      "[CV 4/5] END C=10.0, decision_function_shape=ovo; accuracy: (test=0.775) r2: (test=0.048) roc_auc: (test=0.843) total time=   0.0s\n",
      "[CV 5/5] END C=10.0, decision_function_shape=ovo; accuracy: (test=0.848) r2: (test=0.361) roc_auc: (test=0.893) total time=   0.0s\n",
      "[CV 1/5] END C=10.0, decision_function_shape=ovr; accuracy: (test=0.771) r2: (test=0.033) roc_auc: (test=0.835) total time=   0.0s\n",
      "[CV 2/5] END C=10.0, decision_function_shape=ovr; accuracy: (test=0.820) r2: (test=0.239) roc_auc: (test=0.844) total time=   0.0s\n",
      "[CV 3/5] END C=10.0, decision_function_shape=ovr; accuracy: (test=0.792) r2: (test=0.120) roc_auc: (test=0.863) total time=   0.0s\n",
      "[CV 4/5] END C=10.0, decision_function_shape=ovr; accuracy: (test=0.775) r2: (test=0.048) roc_auc: (test=0.843) total time=   0.0s\n",
      "[CV 5/5] END C=10.0, decision_function_shape=ovr; accuracy: (test=0.848) r2: (test=0.361) roc_auc: (test=0.893) total time=   0.0s\n",
      "[CV 1/5] END C=11.0, decision_function_shape=ovo; accuracy: (test=0.782) r2: (test=0.080) roc_auc: (test=0.843) total time=   0.0s\n",
      "[CV 2/5] END C=11.0, decision_function_shape=ovo; accuracy: (test=0.826) r2: (test=0.262) roc_auc: (test=0.846) total time=   0.0s\n",
      "[CV 3/5] END C=11.0, decision_function_shape=ovo; accuracy: (test=0.803) r2: (test=0.167) roc_auc: (test=0.861) total time=   0.0s\n",
      "[CV 4/5] END C=11.0, decision_function_shape=ovo; accuracy: (test=0.775) r2: (test=0.048) roc_auc: (test=0.837) total time=   0.0s\n",
      "[CV 5/5] END C=11.0, decision_function_shape=ovo; accuracy: (test=0.848) r2: (test=0.361) roc_auc: (test=0.891) total time=   0.0s\n",
      "[CV 1/5] END C=11.0, decision_function_shape=ovr; accuracy: (test=0.782) r2: (test=0.080) roc_auc: (test=0.843) total time=   0.0s\n",
      "[CV 2/5] END C=11.0, decision_function_shape=ovr; accuracy: (test=0.826) r2: (test=0.262) roc_auc: (test=0.846) total time=   0.0s\n",
      "[CV 3/5] END C=11.0, decision_function_shape=ovr; accuracy: (test=0.803) r2: (test=0.167) roc_auc: (test=0.861) total time=   0.0s\n",
      "[CV 4/5] END C=11.0, decision_function_shape=ovr; accuracy: (test=0.775) r2: (test=0.048) roc_auc: (test=0.837) total time=   0.0s\n",
      "[CV 5/5] END C=11.0, decision_function_shape=ovr; accuracy: (test=0.848) r2: (test=0.361) roc_auc: (test=0.891) total time=   0.0s\n",
      "[CV 1/5] END C=12.0, decision_function_shape=ovo; accuracy: (test=0.804) r2: (test=0.175) roc_auc: (test=0.849) total time=   0.0s\n",
      "[CV 2/5] END C=12.0, decision_function_shape=ovo; accuracy: (test=0.826) r2: (test=0.262) roc_auc: (test=0.845) total time=   0.0s\n",
      "[CV 3/5] END C=12.0, decision_function_shape=ovo; accuracy: (test=0.803) r2: (test=0.167) roc_auc: (test=0.861) total time=   0.0s\n",
      "[CV 4/5] END C=12.0, decision_function_shape=ovo; accuracy: (test=0.770) r2: (test=0.024) roc_auc: (test=0.832) total time=   0.0s\n",
      "[CV 5/5] END C=12.0, decision_function_shape=ovo; accuracy: (test=0.843) r2: (test=0.337) roc_auc: (test=0.891) total time=   0.0s\n",
      "[CV 1/5] END C=12.0, decision_function_shape=ovr; accuracy: (test=0.804) r2: (test=0.175) roc_auc: (test=0.849) total time=   0.0s\n",
      "[CV 2/5] END C=12.0, decision_function_shape=ovr; accuracy: (test=0.826) r2: (test=0.262) roc_auc: (test=0.845) total time=   0.0s\n",
      "[CV 3/5] END C=12.0, decision_function_shape=ovr; accuracy: (test=0.803) r2: (test=0.167) roc_auc: (test=0.861) total time=   0.0s\n",
      "[CV 4/5] END C=12.0, decision_function_shape=ovr; accuracy: (test=0.770) r2: (test=0.024) roc_auc: (test=0.832) total time=   0.0s\n",
      "[CV 5/5] END C=12.0, decision_function_shape=ovr; accuracy: (test=0.843) r2: (test=0.337) roc_auc: (test=0.891) total time=   0.0s\n",
      "[CV 1/5] END C=13.0, decision_function_shape=ovo; accuracy: (test=0.821) r2: (test=0.245) roc_auc: (test=0.852) total time=   0.0s\n",
      "[CV 2/5] END C=13.0, decision_function_shape=ovo; accuracy: (test=0.831) r2: (test=0.286) roc_auc: (test=0.845) total time=   0.0s\n",
      "[CV 3/5] END C=13.0, decision_function_shape=ovo; accuracy: (test=0.803) r2: (test=0.167) roc_auc: (test=0.861) total time=   0.0s\n",
      "[CV 4/5] END C=13.0, decision_function_shape=ovo; accuracy: (test=0.770) r2: (test=0.024) roc_auc: (test=0.828) total time=   0.0s\n",
      "[CV 5/5] END C=13.0, decision_function_shape=ovo; accuracy: (test=0.848) r2: (test=0.361) roc_auc: (test=0.890) total time=   0.0s\n",
      "[CV 1/5] END C=13.0, decision_function_shape=ovr; accuracy: (test=0.821) r2: (test=0.245) roc_auc: (test=0.852) total time=   0.0s\n",
      "[CV 2/5] END C=13.0, decision_function_shape=ovr; accuracy: (test=0.831) r2: (test=0.286) roc_auc: (test=0.845) total time=   0.0s\n",
      "[CV 3/5] END C=13.0, decision_function_shape=ovr; accuracy: (test=0.803) r2: (test=0.167) roc_auc: (test=0.861) total time=   0.0s\n",
      "[CV 4/5] END C=13.0, decision_function_shape=ovr; accuracy: (test=0.770) r2: (test=0.024) roc_auc: (test=0.828) total time=   0.0s\n",
      "[CV 5/5] END C=13.0, decision_function_shape=ovr; accuracy: (test=0.848) r2: (test=0.361) roc_auc: (test=0.890) total time=   0.0s\n",
      "[CV 1/5] END C=14.0, decision_function_shape=ovo; accuracy: (test=0.821) r2: (test=0.245) roc_auc: (test=0.854) total time=   0.0s\n",
      "[CV 2/5] END C=14.0, decision_function_shape=ovo; accuracy: (test=0.826) r2: (test=0.262) roc_auc: (test=0.842) total time=   0.0s\n",
      "[CV 3/5] END C=14.0, decision_function_shape=ovo; accuracy: (test=0.803) r2: (test=0.167) roc_auc: (test=0.860) total time=   0.0s\n",
      "[CV 4/5] END C=14.0, decision_function_shape=ovo; accuracy: (test=0.770) r2: (test=0.024) roc_auc: (test=0.822) total time=   0.0s\n",
      "[CV 5/5] END C=14.0, decision_function_shape=ovo; accuracy: (test=0.848) r2: (test=0.361) roc_auc: (test=0.890) total time=   0.0s\n",
      "[CV 1/5] END C=14.0, decision_function_shape=ovr; accuracy: (test=0.821) r2: (test=0.245) roc_auc: (test=0.854) total time=   0.0s\n",
      "[CV 2/5] END C=14.0, decision_function_shape=ovr; accuracy: (test=0.826) r2: (test=0.262) roc_auc: (test=0.842) total time=   0.0s\n",
      "[CV 3/5] END C=14.0, decision_function_shape=ovr; accuracy: (test=0.803) r2: (test=0.167) roc_auc: (test=0.860) total time=   0.0s\n",
      "[CV 4/5] END C=14.0, decision_function_shape=ovr; accuracy: (test=0.770) r2: (test=0.024) roc_auc: (test=0.822) total time=   0.0s\n",
      "[CV 5/5] END C=14.0, decision_function_shape=ovr; accuracy: (test=0.848) r2: (test=0.361) roc_auc: (test=0.890) total time=   0.0s\n",
      "[CV 1/5] END C=15.0, decision_function_shape=ovo; accuracy: (test=0.838) r2: (test=0.316) roc_auc: (test=0.857) total time=   0.0s\n",
      "[CV 2/5] END C=15.0, decision_function_shape=ovo; accuracy: (test=0.826) r2: (test=0.262) roc_auc: (test=0.842) total time=   0.0s\n",
      "[CV 3/5] END C=15.0, decision_function_shape=ovo; accuracy: (test=0.803) r2: (test=0.167) roc_auc: (test=0.861) total time=   0.0s\n",
      "[CV 4/5] END C=15.0, decision_function_shape=ovo; accuracy: (test=0.770) r2: (test=0.024) roc_auc: (test=0.819) total time=   0.0s\n",
      "[CV 5/5] END C=15.0, decision_function_shape=ovo; accuracy: (test=0.837) r2: (test=0.314) roc_auc: (test=0.889) total time=   0.0s\n",
      "[CV 1/5] END C=15.0, decision_function_shape=ovr; accuracy: (test=0.838) r2: (test=0.316) roc_auc: (test=0.857) total time=   0.0s\n",
      "[CV 2/5] END C=15.0, decision_function_shape=ovr; accuracy: (test=0.826) r2: (test=0.262) roc_auc: (test=0.842) total time=   0.0s\n",
      "[CV 3/5] END C=15.0, decision_function_shape=ovr; accuracy: (test=0.803) r2: (test=0.167) roc_auc: (test=0.861) total time=   0.0s\n",
      "[CV 4/5] END C=15.0, decision_function_shape=ovr; accuracy: (test=0.770) r2: (test=0.024) roc_auc: (test=0.819) total time=   0.0s\n",
      "[CV 5/5] END C=15.0, decision_function_shape=ovr; accuracy: (test=0.837) r2: (test=0.314) roc_auc: (test=0.889) total time=   0.0s\n",
      "[CV 1/5] END C=16.0, decision_function_shape=ovo; accuracy: (test=0.844) r2: (test=0.340) roc_auc: (test=0.857) total time=   0.0s\n",
      "[CV 2/5] END C=16.0, decision_function_shape=ovo; accuracy: (test=0.826) r2: (test=0.262) roc_auc: (test=0.840) total time=   0.1s\n",
      "[CV 3/5] END C=16.0, decision_function_shape=ovo; accuracy: (test=0.803) r2: (test=0.167) roc_auc: (test=0.860) total time=   0.0s\n",
      "[CV 4/5] END C=16.0, decision_function_shape=ovo; accuracy: (test=0.770) r2: (test=0.024) roc_auc: (test=0.814) total time=   0.0s\n",
      "[CV 5/5] END C=16.0, decision_function_shape=ovo; accuracy: (test=0.837) r2: (test=0.314) roc_auc: (test=0.886) total time=   0.0s\n",
      "[CV 1/5] END C=16.0, decision_function_shape=ovr; accuracy: (test=0.844) r2: (test=0.340) roc_auc: (test=0.857) total time=   0.0s\n",
      "[CV 2/5] END C=16.0, decision_function_shape=ovr; accuracy: (test=0.826) r2: (test=0.262) roc_auc: (test=0.840) total time=   0.0s\n",
      "[CV 3/5] END C=16.0, decision_function_shape=ovr; accuracy: (test=0.803) r2: (test=0.167) roc_auc: (test=0.860) total time=   0.0s\n",
      "[CV 4/5] END C=16.0, decision_function_shape=ovr; accuracy: (test=0.770) r2: (test=0.024) roc_auc: (test=0.814) total time=   0.0s\n",
      "[CV 5/5] END C=16.0, decision_function_shape=ovr; accuracy: (test=0.837) r2: (test=0.314) roc_auc: (test=0.886) total time=   0.0s\n",
      "[CV 1/5] END C=17.0, decision_function_shape=ovo; accuracy: (test=0.844) r2: (test=0.340) roc_auc: (test=0.858) total time=   0.0s\n",
      "[CV 2/5] END C=17.0, decision_function_shape=ovo; accuracy: (test=0.826) r2: (test=0.262) roc_auc: (test=0.841) total time=   0.0s\n",
      "[CV 3/5] END C=17.0, decision_function_shape=ovo; accuracy: (test=0.803) r2: (test=0.167) roc_auc: (test=0.859) total time=   0.0s\n",
      "[CV 4/5] END C=17.0, decision_function_shape=ovo; accuracy: (test=0.770) r2: (test=0.024) roc_auc: (test=0.808) total time=   0.0s\n",
      "[CV 5/5] END C=17.0, decision_function_shape=ovo; accuracy: (test=0.837) r2: (test=0.314) roc_auc: (test=0.886) total time=   0.0s\n",
      "[CV 1/5] END C=17.0, decision_function_shape=ovr; accuracy: (test=0.844) r2: (test=0.340) roc_auc: (test=0.858) total time=   0.0s\n",
      "[CV 2/5] END C=17.0, decision_function_shape=ovr; accuracy: (test=0.826) r2: (test=0.262) roc_auc: (test=0.841) total time=   0.0s\n",
      "[CV 3/5] END C=17.0, decision_function_shape=ovr; accuracy: (test=0.803) r2: (test=0.167) roc_auc: (test=0.859) total time=   0.0s\n",
      "[CV 4/5] END C=17.0, decision_function_shape=ovr; accuracy: (test=0.770) r2: (test=0.024) roc_auc: (test=0.808) total time=   0.0s\n",
      "[CV 5/5] END C=17.0, decision_function_shape=ovr; accuracy: (test=0.837) r2: (test=0.314) roc_auc: (test=0.886) total time=   0.0s\n",
      "[CV 1/5] END C=18.0, decision_function_shape=ovo; accuracy: (test=0.844) r2: (test=0.340) roc_auc: (test=0.858) total time=   0.0s\n",
      "[CV 2/5] END C=18.0, decision_function_shape=ovo; accuracy: (test=0.826) r2: (test=0.262) roc_auc: (test=0.840) total time=   0.0s\n",
      "[CV 3/5] END C=18.0, decision_function_shape=ovo; accuracy: (test=0.803) r2: (test=0.167) roc_auc: (test=0.858) total time=   0.0s\n",
      "[CV 4/5] END C=18.0, decision_function_shape=ovo; accuracy: (test=0.770) r2: (test=0.024) roc_auc: (test=0.804) total time=   0.0s\n",
      "[CV 5/5] END C=18.0, decision_function_shape=ovo; accuracy: (test=0.837) r2: (test=0.314) roc_auc: (test=0.883) total time=   0.0s\n",
      "[CV 1/5] END C=18.0, decision_function_shape=ovr; accuracy: (test=0.844) r2: (test=0.340) roc_auc: (test=0.858) total time=   0.0s\n",
      "[CV 2/5] END C=18.0, decision_function_shape=ovr; accuracy: (test=0.826) r2: (test=0.262) roc_auc: (test=0.840) total time=   0.0s\n",
      "[CV 3/5] END C=18.0, decision_function_shape=ovr; accuracy: (test=0.803) r2: (test=0.167) roc_auc: (test=0.858) total time=   0.0s\n",
      "[CV 4/5] END C=18.0, decision_function_shape=ovr; accuracy: (test=0.770) r2: (test=0.024) roc_auc: (test=0.804) total time=   0.0s\n",
      "[CV 5/5] END C=18.0, decision_function_shape=ovr; accuracy: (test=0.837) r2: (test=0.314) roc_auc: (test=0.883) total time=   0.0s\n",
      "[CV 1/5] END C=19.0, decision_function_shape=ovo; accuracy: (test=0.844) r2: (test=0.340) roc_auc: (test=0.857) total time=   0.0s\n",
      "[CV 2/5] END C=19.0, decision_function_shape=ovo; accuracy: (test=0.826) r2: (test=0.262) roc_auc: (test=0.839) total time=   0.0s\n",
      "[CV 3/5] END C=19.0, decision_function_shape=ovo; accuracy: (test=0.803) r2: (test=0.167) roc_auc: (test=0.858) total time=   0.0s\n",
      "[CV 4/5] END C=19.0, decision_function_shape=ovo; accuracy: (test=0.770) r2: (test=0.024) roc_auc: (test=0.803) total time=   0.0s\n",
      "[CV 5/5] END C=19.0, decision_function_shape=ovo; accuracy: (test=0.837) r2: (test=0.314) roc_auc: (test=0.876) total time=   0.0s\n",
      "[CV 1/5] END C=19.0, decision_function_shape=ovr; accuracy: (test=0.844) r2: (test=0.340) roc_auc: (test=0.857) total time=   0.0s\n",
      "[CV 2/5] END C=19.0, decision_function_shape=ovr; accuracy: (test=0.826) r2: (test=0.262) roc_auc: (test=0.839) total time=   0.0s\n",
      "[CV 3/5] END C=19.0, decision_function_shape=ovr; accuracy: (test=0.803) r2: (test=0.167) roc_auc: (test=0.858) total time=   0.0s\n",
      "[CV 4/5] END C=19.0, decision_function_shape=ovr; accuracy: (test=0.770) r2: (test=0.024) roc_auc: (test=0.803) total time=   0.0s\n",
      "[CV 5/5] END C=19.0, decision_function_shape=ovr; accuracy: (test=0.837) r2: (test=0.314) roc_auc: (test=0.876) total time=   0.0s\n",
      "[CV 1/5] END C=20.0, decision_function_shape=ovo; accuracy: (test=0.849) r2: (test=0.363) roc_auc: (test=0.858) total time=   0.0s\n",
      "[CV 2/5] END C=20.0, decision_function_shape=ovo; accuracy: (test=0.826) r2: (test=0.262) roc_auc: (test=0.839) total time=   0.0s\n",
      "[CV 3/5] END C=20.0, decision_function_shape=ovo; accuracy: (test=0.803) r2: (test=0.167) roc_auc: (test=0.858) total time=   0.0s\n",
      "[CV 4/5] END C=20.0, decision_function_shape=ovo; accuracy: (test=0.770) r2: (test=0.024) roc_auc: (test=0.805) total time=   0.0s\n",
      "[CV 5/5] END C=20.0, decision_function_shape=ovo; accuracy: (test=0.837) r2: (test=0.314) roc_auc: (test=0.875) total time=   0.0s\n",
      "[CV 1/5] END C=20.0, decision_function_shape=ovr; accuracy: (test=0.849) r2: (test=0.363) roc_auc: (test=0.858) total time=   0.0s\n",
      "[CV 2/5] END C=20.0, decision_function_shape=ovr; accuracy: (test=0.826) r2: (test=0.262) roc_auc: (test=0.839) total time=   0.0s\n",
      "[CV 3/5] END C=20.0, decision_function_shape=ovr; accuracy: (test=0.803) r2: (test=0.167) roc_auc: (test=0.858) total time=   0.0s\n",
      "[CV 4/5] END C=20.0, decision_function_shape=ovr; accuracy: (test=0.770) r2: (test=0.024) roc_auc: (test=0.805) total time=   0.0s\n",
      "[CV 5/5] END C=20.0, decision_function_shape=ovr; accuracy: (test=0.837) r2: (test=0.314) roc_auc: (test=0.875) total time=   0.0s\n"
     ]
    },
    {
     "data": {
      "text/html": [
       "<style>#sk-c3d84123-6e92-4615-b512-934f8cb77d47 {color: black;background-color: white;}#sk-c3d84123-6e92-4615-b512-934f8cb77d47 pre{padding: 0;}#sk-c3d84123-6e92-4615-b512-934f8cb77d47 div.sk-toggleable {background-color: white;}#sk-c3d84123-6e92-4615-b512-934f8cb77d47 label.sk-toggleable__label {cursor: pointer;display: block;width: 100%;margin-bottom: 0;padding: 0.3em;box-sizing: border-box;text-align: center;}#sk-c3d84123-6e92-4615-b512-934f8cb77d47 label.sk-toggleable__label-arrow:before {content: \"▸\";float: left;margin-right: 0.25em;color: #696969;}#sk-c3d84123-6e92-4615-b512-934f8cb77d47 label.sk-toggleable__label-arrow:hover:before {color: black;}#sk-c3d84123-6e92-4615-b512-934f8cb77d47 div.sk-estimator:hover label.sk-toggleable__label-arrow:before {color: black;}#sk-c3d84123-6e92-4615-b512-934f8cb77d47 div.sk-toggleable__content {max-height: 0;max-width: 0;overflow: hidden;text-align: left;background-color: #f0f8ff;}#sk-c3d84123-6e92-4615-b512-934f8cb77d47 div.sk-toggleable__content pre {margin: 0.2em;color: black;border-radius: 0.25em;background-color: #f0f8ff;}#sk-c3d84123-6e92-4615-b512-934f8cb77d47 input.sk-toggleable__control:checked~div.sk-toggleable__content {max-height: 200px;max-width: 100%;overflow: auto;}#sk-c3d84123-6e92-4615-b512-934f8cb77d47 input.sk-toggleable__control:checked~label.sk-toggleable__label-arrow:before {content: \"▾\";}#sk-c3d84123-6e92-4615-b512-934f8cb77d47 div.sk-estimator input.sk-toggleable__control:checked~label.sk-toggleable__label {background-color: #d4ebff;}#sk-c3d84123-6e92-4615-b512-934f8cb77d47 div.sk-label input.sk-toggleable__control:checked~label.sk-toggleable__label {background-color: #d4ebff;}#sk-c3d84123-6e92-4615-b512-934f8cb77d47 input.sk-hidden--visually {border: 0;clip: rect(1px 1px 1px 1px);clip: rect(1px, 1px, 1px, 1px);height: 1px;margin: -1px;overflow: hidden;padding: 0;position: absolute;width: 1px;}#sk-c3d84123-6e92-4615-b512-934f8cb77d47 div.sk-estimator {font-family: monospace;background-color: #f0f8ff;border: 1px dotted black;border-radius: 0.25em;box-sizing: border-box;margin-bottom: 0.5em;}#sk-c3d84123-6e92-4615-b512-934f8cb77d47 div.sk-estimator:hover {background-color: #d4ebff;}#sk-c3d84123-6e92-4615-b512-934f8cb77d47 div.sk-parallel-item::after {content: \"\";width: 100%;border-bottom: 1px solid gray;flex-grow: 1;}#sk-c3d84123-6e92-4615-b512-934f8cb77d47 div.sk-label:hover label.sk-toggleable__label {background-color: #d4ebff;}#sk-c3d84123-6e92-4615-b512-934f8cb77d47 div.sk-serial::before {content: \"\";position: absolute;border-left: 1px solid gray;box-sizing: border-box;top: 2em;bottom: 0;left: 50%;}#sk-c3d84123-6e92-4615-b512-934f8cb77d47 div.sk-serial {display: flex;flex-direction: column;align-items: center;background-color: white;padding-right: 0.2em;padding-left: 0.2em;}#sk-c3d84123-6e92-4615-b512-934f8cb77d47 div.sk-item {z-index: 1;}#sk-c3d84123-6e92-4615-b512-934f8cb77d47 div.sk-parallel {display: flex;align-items: stretch;justify-content: center;background-color: white;}#sk-c3d84123-6e92-4615-b512-934f8cb77d47 div.sk-parallel::before {content: \"\";position: absolute;border-left: 1px solid gray;box-sizing: border-box;top: 2em;bottom: 0;left: 50%;}#sk-c3d84123-6e92-4615-b512-934f8cb77d47 div.sk-parallel-item {display: flex;flex-direction: column;position: relative;background-color: white;}#sk-c3d84123-6e92-4615-b512-934f8cb77d47 div.sk-parallel-item:first-child::after {align-self: flex-end;width: 50%;}#sk-c3d84123-6e92-4615-b512-934f8cb77d47 div.sk-parallel-item:last-child::after {align-self: flex-start;width: 50%;}#sk-c3d84123-6e92-4615-b512-934f8cb77d47 div.sk-parallel-item:only-child::after {width: 0;}#sk-c3d84123-6e92-4615-b512-934f8cb77d47 div.sk-dashed-wrapped {border: 1px dashed gray;margin: 0 0.4em 0.5em 0.4em;box-sizing: border-box;padding-bottom: 0.4em;background-color: white;position: relative;}#sk-c3d84123-6e92-4615-b512-934f8cb77d47 div.sk-label label {font-family: monospace;font-weight: bold;background-color: white;display: inline-block;line-height: 1.2em;}#sk-c3d84123-6e92-4615-b512-934f8cb77d47 div.sk-label-container {position: relative;z-index: 2;text-align: center;}#sk-c3d84123-6e92-4615-b512-934f8cb77d47 div.sk-container {/* jupyter's `normalize.less` sets `[hidden] { display: none; }` but bootstrap.min.css set `[hidden] { display: none !important; }` so we also need the `!important` here to be able to override the default hidden behavior on the sphinx rendered scikit-learn.org. See: https://github.com/scikit-learn/scikit-learn/issues/21755 */display: inline-block !important;position: relative;}#sk-c3d84123-6e92-4615-b512-934f8cb77d47 div.sk-text-repr-fallback {display: none;}</style><div id=\"sk-c3d84123-6e92-4615-b512-934f8cb77d47\" class=\"sk-top-container\"><div class=\"sk-text-repr-fallback\"><pre>GridSearchCV(cv=5, estimator=SVC(),\n",
       "             param_grid={&#x27;C&#x27;: array([ 1.,  2.,  3.,  4.,  5.,  6.,  7.,  8.,  9., 10., 11., 12., 13.,\n",
       "       14., 15., 16., 17., 18., 19., 20.]),\n",
       "                         &#x27;decision_function_shape&#x27;: [&#x27;ovo&#x27;, &#x27;ovr&#x27;]},\n",
       "             refit=&#x27;accuracy&#x27;, scoring=[&#x27;r2&#x27;, &#x27;accuracy&#x27;, &#x27;roc_auc&#x27;],\n",
       "             verbose=3)</pre><b>Please rerun this cell to show the HTML repr or trust the notebook.</b></div><div class=\"sk-container\" hidden><div class=\"sk-item sk-dashed-wrapped\"><div class=\"sk-label-container\"><div class=\"sk-label sk-toggleable\"><input class=\"sk-toggleable__control sk-hidden--visually\" id=\"a33cb38a-349c-4897-8c9a-f5c9feab305d\" type=\"checkbox\" ><label for=\"a33cb38a-349c-4897-8c9a-f5c9feab305d\" class=\"sk-toggleable__label sk-toggleable__label-arrow\">GridSearchCV</label><div class=\"sk-toggleable__content\"><pre>GridSearchCV(cv=5, estimator=SVC(),\n",
       "             param_grid={&#x27;C&#x27;: array([ 1.,  2.,  3.,  4.,  5.,  6.,  7.,  8.,  9., 10., 11., 12., 13.,\n",
       "       14., 15., 16., 17., 18., 19., 20.]),\n",
       "                         &#x27;decision_function_shape&#x27;: [&#x27;ovo&#x27;, &#x27;ovr&#x27;]},\n",
       "             refit=&#x27;accuracy&#x27;, scoring=[&#x27;r2&#x27;, &#x27;accuracy&#x27;, &#x27;roc_auc&#x27;],\n",
       "             verbose=3)</pre></div></div></div><div class=\"sk-parallel\"><div class=\"sk-parallel-item\"><div class=\"sk-item\"><div class=\"sk-serial\"><div class=\"sk-item\"><div class=\"sk-estimator sk-toggleable\"><input class=\"sk-toggleable__control sk-hidden--visually\" id=\"330bcb52-a566-43e6-bdd5-1a37307619cf\" type=\"checkbox\" ><label for=\"330bcb52-a566-43e6-bdd5-1a37307619cf\" class=\"sk-toggleable__label sk-toggleable__label-arrow\">SVC</label><div class=\"sk-toggleable__content\"><pre>SVC()</pre></div></div></div></div></div></div></div></div></div></div>"
      ],
      "text/plain": [
       "GridSearchCV(cv=5, estimator=SVC(),\n",
       "             param_grid={'C': array([ 1.,  2.,  3.,  4.,  5.,  6.,  7.,  8.,  9., 10., 11., 12., 13.,\n",
       "       14., 15., 16., 17., 18., 19., 20.]),\n",
       "                         'decision_function_shape': ['ovo', 'ovr']},\n",
       "             refit='accuracy', scoring=['r2', 'accuracy', 'roc_auc'],\n",
       "             verbose=3)"
      ]
     },
     "execution_count": 20,
     "metadata": {},
     "output_type": "execute_result"
    }
   ],
   "source": [
    "params_csvm_GS = {\"C\": np.linspace(1,20,20),\n",
    "                 \"decision_function_shape\": [\"ovo\", \"ovr\"]}\n",
    "csvc = SVC()\n",
    "GS_csvc = GridSearchCV(\n",
    "    estimator=csvc,\n",
    "    cv=5,\n",
    "    param_grid=params_csvm_GS, \n",
    "    scoring=[\"r2\", \"accuracy\", \"roc_auc\"],\n",
    "    refit=\"accuracy\",\n",
    "    verbose=3\n",
    ")\n",
    "GS_csvc.fit(piped_train, df_survived)"
   ]
  },
  {
   "cell_type": "code",
   "execution_count": 21,
   "id": "2d987e74",
   "metadata": {
    "execution": {
     "iopub.execute_input": "2022-11-19T10:18:32.785038Z",
     "iopub.status.busy": "2022-11-19T10:18:32.784636Z",
     "iopub.status.idle": "2022-11-19T10:18:32.791944Z",
     "shell.execute_reply": "2022-11-19T10:18:32.790666Z"
    },
    "papermill": {
     "duration": 0.032349,
     "end_time": "2022-11-19T10:18:32.794614",
     "exception": false,
     "start_time": "2022-11-19T10:18:32.762265",
     "status": "completed"
    },
    "scrolled": true,
    "tags": []
   },
   "outputs": [
    {
     "name": "stdout",
     "output_type": "stream",
     "text": [
      "Best parameter for C-SVM is with C of 20 and decision function shape of ovo with an accuracy of 81.7%\n"
     ]
    }
   ],
   "source": [
    "acc_GS_csvc = round(GS_csvc.best_score_*100, 2)\n",
    "C_GS_csvc = GS_csvc.best_params_[\"C\"]\n",
    "dec_GS_csvc = GS_csvc.best_params_[\"decision_function_shape\"]\n",
    "print(f\"Best parameter for C-SVM is with C of {C_GS_csvc:.0f} and decision function shape of {dec_GS_csvc} with an accuracy of {acc_GS_csvc}%\")"
   ]
  },
  {
   "cell_type": "markdown",
   "id": "cc6ba3a6",
   "metadata": {
    "papermill": {
     "duration": 0.021225,
     "end_time": "2022-11-19T10:18:32.837420",
     "exception": false,
     "start_time": "2022-11-19T10:18:32.816195",
     "status": "completed"
    },
    "tags": []
   },
   "source": [
    "#### Modeling C-SVM"
   ]
  },
  {
   "cell_type": "code",
   "execution_count": 22,
   "id": "bbcbb9ad",
   "metadata": {
    "execution": {
     "iopub.execute_input": "2022-11-19T10:18:32.881140Z",
     "iopub.status.busy": "2022-11-19T10:18:32.880419Z",
     "iopub.status.idle": "2022-11-19T10:18:32.918719Z",
     "shell.execute_reply": "2022-11-19T10:18:32.917764Z"
    },
    "papermill": {
     "duration": 0.063087,
     "end_time": "2022-11-19T10:18:32.921268",
     "exception": false,
     "start_time": "2022-11-19T10:18:32.858181",
     "status": "completed"
    },
    "tags": []
   },
   "outputs": [],
   "source": [
    "best_csvc = SVC(C=20, decision_function_shape=\"ovo\")\n",
    "best_csvc.fit(piped_train, df_survived)\n",
    "\n",
    "fit_best_csvc = best_csvc.fit_status_\n",
    "nfeat_best_csvc = best_csvc.n_features_in_"
   ]
  },
  {
   "cell_type": "markdown",
   "id": "309217a2",
   "metadata": {
    "papermill": {
     "duration": 0.021261,
     "end_time": "2022-11-19T10:18:32.963382",
     "exception": false,
     "start_time": "2022-11-19T10:18:32.942121",
     "status": "completed"
    },
    "tags": []
   },
   "source": [
    "#### Predictions for C-SVM"
   ]
  },
  {
   "cell_type": "code",
   "execution_count": 23,
   "id": "4fe2b900",
   "metadata": {
    "execution": {
     "iopub.execute_input": "2022-11-19T10:18:33.007255Z",
     "iopub.status.busy": "2022-11-19T10:18:33.006822Z",
     "iopub.status.idle": "2022-11-19T10:18:33.027329Z",
     "shell.execute_reply": "2022-11-19T10:18:33.026020Z"
    },
    "papermill": {
     "duration": 0.045828,
     "end_time": "2022-11-19T10:18:33.030092",
     "exception": false,
     "start_time": "2022-11-19T10:18:32.984264",
     "status": "completed"
    },
    "tags": []
   },
   "outputs": [],
   "source": [
    "pred_csvc = best_csvc.predict(piped_test)"
   ]
  },
  {
   "cell_type": "markdown",
   "id": "a35bb4da",
   "metadata": {
    "papermill": {
     "duration": 0.020339,
     "end_time": "2022-11-19T10:18:33.071257",
     "exception": false,
     "start_time": "2022-11-19T10:18:33.050918",
     "status": "completed"
    },
    "tags": []
   },
   "source": [
    "### K Nearest Neighbors"
   ]
  },
  {
   "cell_type": "markdown",
   "id": "7d5d6c2b",
   "metadata": {
    "papermill": {
     "duration": 0.020576,
     "end_time": "2022-11-19T10:18:33.112546",
     "exception": false,
     "start_time": "2022-11-19T10:18:33.091970",
     "status": "completed"
    },
    "tags": []
   },
   "source": [
    "#### Finding best parameters for KNN"
   ]
  },
  {
   "cell_type": "code",
   "execution_count": 24,
   "id": "79c62e7f",
   "metadata": {
    "execution": {
     "iopub.execute_input": "2022-11-19T10:18:33.156375Z",
     "iopub.status.busy": "2022-11-19T10:18:33.155934Z",
     "iopub.status.idle": "2022-11-19T10:18:39.577295Z",
     "shell.execute_reply": "2022-11-19T10:18:39.575569Z"
    },
    "papermill": {
     "duration": 6.448379,
     "end_time": "2022-11-19T10:18:39.582208",
     "exception": false,
     "start_time": "2022-11-19T10:18:33.133829",
     "status": "completed"
    },
    "scrolled": true,
    "tags": []
   },
   "outputs": [
    {
     "name": "stdout",
     "output_type": "stream",
     "text": [
      "Fitting 5 folds for each of 75 candidates, totalling 375 fits\n",
      "[CV 1/5] END algorithm=ball_tree, n_neighbors=1;, score=0.709 total time=   0.0s\n",
      "[CV 2/5] END algorithm=ball_tree, n_neighbors=1;, score=0.691 total time=   0.0s\n",
      "[CV 3/5] END algorithm=ball_tree, n_neighbors=1;, score=0.747 total time=   0.0s\n",
      "[CV 4/5] END algorithm=ball_tree, n_neighbors=1;, score=0.792 total time=   0.0s\n",
      "[CV 5/5] END algorithm=ball_tree, n_neighbors=1;, score=0.764 total time=   0.0s\n",
      "[CV 1/5] END algorithm=ball_tree, n_neighbors=2;, score=0.721 total time=   0.0s\n",
      "[CV 2/5] END algorithm=ball_tree, n_neighbors=2;, score=0.725 total time=   0.0s\n",
      "[CV 3/5] END algorithm=ball_tree, n_neighbors=2;, score=0.764 total time=   0.0s\n",
      "[CV 4/5] END algorithm=ball_tree, n_neighbors=2;, score=0.770 total time=   0.0s\n",
      "[CV 5/5] END algorithm=ball_tree, n_neighbors=2;, score=0.764 total time=   0.0s\n",
      "[CV 1/5] END algorithm=ball_tree, n_neighbors=3;, score=0.737 total time=   0.0s\n",
      "[CV 2/5] END algorithm=ball_tree, n_neighbors=3;, score=0.747 total time=   0.0s\n",
      "[CV 3/5] END algorithm=ball_tree, n_neighbors=3;, score=0.758 total time=   0.0s\n",
      "[CV 4/5] END algorithm=ball_tree, n_neighbors=3;, score=0.787 total time=   0.0s\n",
      "[CV 5/5] END algorithm=ball_tree, n_neighbors=3;, score=0.753 total time=   0.0s\n",
      "[CV 1/5] END algorithm=ball_tree, n_neighbors=4;, score=0.760 total time=   0.0s\n",
      "[CV 2/5] END algorithm=ball_tree, n_neighbors=4;, score=0.764 total time=   0.0s\n",
      "[CV 3/5] END algorithm=ball_tree, n_neighbors=4;, score=0.758 total time=   0.0s\n",
      "[CV 4/5] END algorithm=ball_tree, n_neighbors=4;, score=0.775 total time=   0.0s\n",
      "[CV 5/5] END algorithm=ball_tree, n_neighbors=4;, score=0.787 total time=   0.0s\n",
      "[CV 1/5] END algorithm=ball_tree, n_neighbors=5;, score=0.765 total time=   0.0s\n",
      "[CV 2/5] END algorithm=ball_tree, n_neighbors=5;, score=0.792 total time=   0.0s\n",
      "[CV 3/5] END algorithm=ball_tree, n_neighbors=5;, score=0.815 total time=   0.0s\n",
      "[CV 4/5] END algorithm=ball_tree, n_neighbors=5;, score=0.798 total time=   0.0s\n",
      "[CV 5/5] END algorithm=ball_tree, n_neighbors=5;, score=0.787 total time=   0.0s\n",
      "[CV 1/5] END algorithm=ball_tree, n_neighbors=6;, score=0.771 total time=   0.0s\n",
      "[CV 2/5] END algorithm=ball_tree, n_neighbors=6;, score=0.753 total time=   0.0s\n",
      "[CV 3/5] END algorithm=ball_tree, n_neighbors=6;, score=0.758 total time=   0.0s\n",
      "[CV 4/5] END algorithm=ball_tree, n_neighbors=6;, score=0.792 total time=   0.0s\n",
      "[CV 5/5] END algorithm=ball_tree, n_neighbors=6;, score=0.792 total time=   0.0s\n",
      "[CV 1/5] END algorithm=ball_tree, n_neighbors=7;, score=0.726 total time=   0.0s\n",
      "[CV 2/5] END algorithm=ball_tree, n_neighbors=7;, score=0.758 total time=   0.0s\n",
      "[CV 3/5] END algorithm=ball_tree, n_neighbors=7;, score=0.792 total time=   0.0s\n",
      "[CV 4/5] END algorithm=ball_tree, n_neighbors=7;, score=0.758 total time=   0.0s\n",
      "[CV 5/5] END algorithm=ball_tree, n_neighbors=7;, score=0.787 total time=   0.0s\n",
      "[CV 1/5] END algorithm=ball_tree, n_neighbors=8;, score=0.737 total time=   0.0s\n",
      "[CV 2/5] END algorithm=ball_tree, n_neighbors=8;, score=0.775 total time=   0.0s\n",
      "[CV 3/5] END algorithm=ball_tree, n_neighbors=8;, score=0.758 total time=   0.0s\n",
      "[CV 4/5] END algorithm=ball_tree, n_neighbors=8;, score=0.758 total time=   0.0s\n",
      "[CV 5/5] END algorithm=ball_tree, n_neighbors=8;, score=0.787 total time=   0.0s\n",
      "[CV 1/5] END algorithm=ball_tree, n_neighbors=9;, score=0.704 total time=   0.0s\n",
      "[CV 2/5] END algorithm=ball_tree, n_neighbors=9;, score=0.787 total time=   0.0s\n",
      "[CV 3/5] END algorithm=ball_tree, n_neighbors=9;, score=0.770 total time=   0.0s\n",
      "[CV 4/5] END algorithm=ball_tree, n_neighbors=9;, score=0.775 total time=   0.0s\n",
      "[CV 5/5] END algorithm=ball_tree, n_neighbors=9;, score=0.781 total time=   0.0s\n",
      "[CV 1/5] END algorithm=ball_tree, n_neighbors=10;, score=0.715 total time=   0.0s\n",
      "[CV 2/5] END algorithm=ball_tree, n_neighbors=10;, score=0.764 total time=   0.0s\n",
      "[CV 3/5] END algorithm=ball_tree, n_neighbors=10;, score=0.753 total time=   0.0s\n",
      "[CV 4/5] END algorithm=ball_tree, n_neighbors=10;, score=0.792 total time=   0.0s\n",
      "[CV 5/5] END algorithm=ball_tree, n_neighbors=10;, score=0.775 total time=   0.0s\n",
      "[CV 1/5] END algorithm=ball_tree, n_neighbors=11;, score=0.709 total time=   0.0s\n",
      "[CV 2/5] END algorithm=ball_tree, n_neighbors=11;, score=0.758 total time=   0.0s\n",
      "[CV 3/5] END algorithm=ball_tree, n_neighbors=11;, score=0.764 total time=   0.0s\n",
      "[CV 4/5] END algorithm=ball_tree, n_neighbors=11;, score=0.770 total time=   0.0s\n",
      "[CV 5/5] END algorithm=ball_tree, n_neighbors=11;, score=0.787 total time=   0.0s\n",
      "[CV 1/5] END algorithm=ball_tree, n_neighbors=12;, score=0.726 total time=   0.0s\n",
      "[CV 2/5] END algorithm=ball_tree, n_neighbors=12;, score=0.758 total time=   0.0s\n",
      "[CV 3/5] END algorithm=ball_tree, n_neighbors=12;, score=0.764 total time=   0.0s\n",
      "[CV 4/5] END algorithm=ball_tree, n_neighbors=12;, score=0.770 total time=   0.0s\n",
      "[CV 5/5] END algorithm=ball_tree, n_neighbors=12;, score=0.753 total time=   0.0s\n",
      "[CV 1/5] END algorithm=ball_tree, n_neighbors=13;, score=0.709 total time=   0.0s\n",
      "[CV 2/5] END algorithm=ball_tree, n_neighbors=13;, score=0.758 total time=   0.0s\n",
      "[CV 3/5] END algorithm=ball_tree, n_neighbors=13;, score=0.736 total time=   0.0s\n",
      "[CV 4/5] END algorithm=ball_tree, n_neighbors=13;, score=0.787 total time=   0.0s\n",
      "[CV 5/5] END algorithm=ball_tree, n_neighbors=13;, score=0.781 total time=   0.0s\n",
      "[CV 1/5] END algorithm=ball_tree, n_neighbors=14;, score=0.687 total time=   0.0s\n",
      "[CV 2/5] END algorithm=ball_tree, n_neighbors=14;, score=0.770 total time=   0.0s\n",
      "[CV 3/5] END algorithm=ball_tree, n_neighbors=14;, score=0.770 total time=   0.0s\n",
      "[CV 4/5] END algorithm=ball_tree, n_neighbors=14;, score=0.770 total time=   0.0s\n",
      "[CV 5/5] END algorithm=ball_tree, n_neighbors=14;, score=0.742 total time=   0.0s\n",
      "[CV 1/5] END algorithm=ball_tree, n_neighbors=15;, score=0.687 total time=   0.0s\n",
      "[CV 2/5] END algorithm=ball_tree, n_neighbors=15;, score=0.742 total time=   0.0s\n",
      "[CV 3/5] END algorithm=ball_tree, n_neighbors=15;, score=0.753 total time=   0.0s\n",
      "[CV 4/5] END algorithm=ball_tree, n_neighbors=15;, score=0.764 total time=   0.0s\n",
      "[CV 5/5] END algorithm=ball_tree, n_neighbors=15;, score=0.758 total time=   0.0s\n",
      "[CV 1/5] END algorithm=ball_tree, n_neighbors=16;, score=0.693 total time=   0.0s\n",
      "[CV 2/5] END algorithm=ball_tree, n_neighbors=16;, score=0.775 total time=   0.0s\n",
      "[CV 3/5] END algorithm=ball_tree, n_neighbors=16;, score=0.764 total time=   0.0s\n",
      "[CV 4/5] END algorithm=ball_tree, n_neighbors=16;, score=0.764 total time=   0.0s\n",
      "[CV 5/5] END algorithm=ball_tree, n_neighbors=16;, score=0.742 total time=   0.0s\n",
      "[CV 1/5] END algorithm=ball_tree, n_neighbors=17;, score=0.682 total time=   0.0s\n",
      "[CV 2/5] END algorithm=ball_tree, n_neighbors=17;, score=0.742 total time=   0.0s\n",
      "[CV 3/5] END algorithm=ball_tree, n_neighbors=17;, score=0.747 total time=   0.0s\n",
      "[CV 4/5] END algorithm=ball_tree, n_neighbors=17;, score=0.781 total time=   0.0s\n",
      "[CV 5/5] END algorithm=ball_tree, n_neighbors=17;, score=0.764 total time=   0.0s\n",
      "[CV 1/5] END algorithm=ball_tree, n_neighbors=18;, score=0.682 total time=   0.0s\n",
      "[CV 2/5] END algorithm=ball_tree, n_neighbors=18;, score=0.758 total time=   0.0s\n",
      "[CV 3/5] END algorithm=ball_tree, n_neighbors=18;, score=0.764 total time=   0.0s\n",
      "[CV 4/5] END algorithm=ball_tree, n_neighbors=18;, score=0.753 total time=   0.0s\n",
      "[CV 5/5] END algorithm=ball_tree, n_neighbors=18;, score=0.747 total time=   0.0s\n",
      "[CV 1/5] END algorithm=ball_tree, n_neighbors=19;, score=0.687 total time=   0.0s\n",
      "[CV 2/5] END algorithm=ball_tree, n_neighbors=19;, score=0.730 total time=   0.0s\n",
      "[CV 3/5] END algorithm=ball_tree, n_neighbors=19;, score=0.730 total time=   0.0s\n",
      "[CV 4/5] END algorithm=ball_tree, n_neighbors=19;, score=0.758 total time=   0.0s\n",
      "[CV 5/5] END algorithm=ball_tree, n_neighbors=19;, score=0.775 total time=   0.0s\n",
      "[CV 1/5] END algorithm=ball_tree, n_neighbors=20;, score=0.687 total time=   0.0s\n",
      "[CV 2/5] END algorithm=ball_tree, n_neighbors=20;, score=0.742 total time=   0.0s\n",
      "[CV 3/5] END algorithm=ball_tree, n_neighbors=20;, score=0.736 total time=   0.0s\n",
      "[CV 4/5] END algorithm=ball_tree, n_neighbors=20;, score=0.764 total time=   0.0s\n",
      "[CV 5/5] END algorithm=ball_tree, n_neighbors=20;, score=0.747 total time=   0.0s\n",
      "[CV 1/5] END algorithm=ball_tree, n_neighbors=21;, score=0.659 total time=   0.0s\n",
      "[CV 2/5] END algorithm=ball_tree, n_neighbors=21;, score=0.730 total time=   0.0s\n",
      "[CV 3/5] END algorithm=ball_tree, n_neighbors=21;, score=0.725 total time=   0.0s\n",
      "[CV 4/5] END algorithm=ball_tree, n_neighbors=21;, score=0.758 total time=   0.0s\n",
      "[CV 5/5] END algorithm=ball_tree, n_neighbors=21;, score=0.742 total time=   0.0s\n",
      "[CV 1/5] END algorithm=ball_tree, n_neighbors=22;, score=0.676 total time=   0.0s\n",
      "[CV 2/5] END algorithm=ball_tree, n_neighbors=22;, score=0.775 total time=   0.0s\n",
      "[CV 3/5] END algorithm=ball_tree, n_neighbors=22;, score=0.730 total time=   0.0s\n",
      "[CV 4/5] END algorithm=ball_tree, n_neighbors=22;, score=0.736 total time=   0.0s\n",
      "[CV 5/5] END algorithm=ball_tree, n_neighbors=22;, score=0.736 total time=   0.0s\n",
      "[CV 1/5] END algorithm=ball_tree, n_neighbors=23;, score=0.665 total time=   0.0s\n",
      "[CV 2/5] END algorithm=ball_tree, n_neighbors=23;, score=0.742 total time=   0.0s\n",
      "[CV 3/5] END algorithm=ball_tree, n_neighbors=23;, score=0.730 total time=   0.0s\n",
      "[CV 4/5] END algorithm=ball_tree, n_neighbors=23;, score=0.753 total time=   0.0s\n",
      "[CV 5/5] END algorithm=ball_tree, n_neighbors=23;, score=0.747 total time=   0.0s\n",
      "[CV 1/5] END algorithm=ball_tree, n_neighbors=24;, score=0.665 total time=   0.0s\n",
      "[CV 2/5] END algorithm=ball_tree, n_neighbors=24;, score=0.747 total time=   0.0s\n",
      "[CV 3/5] END algorithm=ball_tree, n_neighbors=24;, score=0.725 total time=   0.0s\n",
      "[CV 4/5] END algorithm=ball_tree, n_neighbors=24;, score=0.747 total time=   0.0s\n",
      "[CV 5/5] END algorithm=ball_tree, n_neighbors=24;, score=0.742 total time=   0.0s\n",
      "[CV 1/5] END algorithm=ball_tree, n_neighbors=25;, score=0.670 total time=   0.0s\n",
      "[CV 2/5] END algorithm=ball_tree, n_neighbors=25;, score=0.725 total time=   0.0s\n",
      "[CV 3/5] END algorithm=ball_tree, n_neighbors=25;, score=0.736 total time=   0.0s\n",
      "[CV 4/5] END algorithm=ball_tree, n_neighbors=25;, score=0.753 total time=   0.0s\n",
      "[CV 5/5] END algorithm=ball_tree, n_neighbors=25;, score=0.747 total time=   0.0s\n",
      "[CV 1/5] END ..algorithm=kd_tree, n_neighbors=1;, score=0.709 total time=   0.0s\n",
      "[CV 2/5] END ..algorithm=kd_tree, n_neighbors=1;, score=0.685 total time=   0.0s\n",
      "[CV 3/5] END ..algorithm=kd_tree, n_neighbors=1;, score=0.753 total time=   0.0s\n",
      "[CV 4/5] END ..algorithm=kd_tree, n_neighbors=1;, score=0.792 total time=   0.0s\n",
      "[CV 5/5] END ..algorithm=kd_tree, n_neighbors=1;, score=0.764 total time=   0.0s\n",
      "[CV 1/5] END ..algorithm=kd_tree, n_neighbors=2;, score=0.709 total time=   0.0s\n",
      "[CV 2/5] END ..algorithm=kd_tree, n_neighbors=2;, score=0.725 total time=   0.0s\n",
      "[CV 3/5] END ..algorithm=kd_tree, n_neighbors=2;, score=0.764 total time=   0.0s\n",
      "[CV 4/5] END ..algorithm=kd_tree, n_neighbors=2;, score=0.764 total time=   0.0s\n",
      "[CV 5/5] END ..algorithm=kd_tree, n_neighbors=2;, score=0.775 total time=   0.0s\n",
      "[CV 1/5] END ..algorithm=kd_tree, n_neighbors=3;, score=0.743 total time=   0.0s\n",
      "[CV 2/5] END ..algorithm=kd_tree, n_neighbors=3;, score=0.742 total time=   0.0s\n",
      "[CV 3/5] END ..algorithm=kd_tree, n_neighbors=3;, score=0.770 total time=   0.0s\n",
      "[CV 4/5] END ..algorithm=kd_tree, n_neighbors=3;, score=0.781 total time=   0.0s\n",
      "[CV 5/5] END ..algorithm=kd_tree, n_neighbors=3;, score=0.781 total time=   0.0s\n",
      "[CV 1/5] END ..algorithm=kd_tree, n_neighbors=4;, score=0.760 total time=   0.0s\n",
      "[CV 2/5] END ..algorithm=kd_tree, n_neighbors=4;, score=0.753 total time=   0.0s\n",
      "[CV 3/5] END ..algorithm=kd_tree, n_neighbors=4;, score=0.758 total time=   0.0s\n",
      "[CV 4/5] END ..algorithm=kd_tree, n_neighbors=4;, score=0.770 total time=   0.0s\n",
      "[CV 5/5] END ..algorithm=kd_tree, n_neighbors=4;, score=0.803 total time=   0.0s\n",
      "[CV 1/5] END ..algorithm=kd_tree, n_neighbors=5;, score=0.760 total time=   0.0s\n",
      "[CV 2/5] END ..algorithm=kd_tree, n_neighbors=5;, score=0.787 total time=   0.0s\n",
      "[CV 3/5] END ..algorithm=kd_tree, n_neighbors=5;, score=0.803 total time=   0.0s\n",
      "[CV 4/5] END ..algorithm=kd_tree, n_neighbors=5;, score=0.792 total time=   0.0s\n",
      "[CV 5/5] END ..algorithm=kd_tree, n_neighbors=5;, score=0.792 total time=   0.0s\n",
      "[CV 1/5] END ..algorithm=kd_tree, n_neighbors=6;, score=0.754 total time=   0.0s\n",
      "[CV 2/5] END ..algorithm=kd_tree, n_neighbors=6;, score=0.753 total time=   0.0s\n",
      "[CV 3/5] END ..algorithm=kd_tree, n_neighbors=6;, score=0.747 total time=   0.0s\n",
      "[CV 4/5] END ..algorithm=kd_tree, n_neighbors=6;, score=0.798 total time=   0.0s\n",
      "[CV 5/5] END ..algorithm=kd_tree, n_neighbors=6;, score=0.787 total time=   0.0s\n",
      "[CV 1/5] END ..algorithm=kd_tree, n_neighbors=7;, score=0.726 total time=   0.0s\n",
      "[CV 2/5] END ..algorithm=kd_tree, n_neighbors=7;, score=0.747 total time=   0.0s\n",
      "[CV 3/5] END ..algorithm=kd_tree, n_neighbors=7;, score=0.770 total time=   0.0s\n",
      "[CV 4/5] END ..algorithm=kd_tree, n_neighbors=7;, score=0.764 total time=   0.0s\n",
      "[CV 5/5] END ..algorithm=kd_tree, n_neighbors=7;, score=0.787 total time=   0.0s\n",
      "[CV 1/5] END ..algorithm=kd_tree, n_neighbors=8;, score=0.726 total time=   0.0s\n",
      "[CV 2/5] END ..algorithm=kd_tree, n_neighbors=8;, score=0.764 total time=   0.0s\n",
      "[CV 3/5] END ..algorithm=kd_tree, n_neighbors=8;, score=0.758 total time=   0.0s\n",
      "[CV 4/5] END ..algorithm=kd_tree, n_neighbors=8;, score=0.758 total time=   0.0s\n",
      "[CV 5/5] END ..algorithm=kd_tree, n_neighbors=8;, score=0.787 total time=   0.0s\n",
      "[CV 1/5] END ..algorithm=kd_tree, n_neighbors=9;, score=0.698 total time=   0.0s\n",
      "[CV 2/5] END ..algorithm=kd_tree, n_neighbors=9;, score=0.781 total time=   0.0s\n",
      "[CV 3/5] END ..algorithm=kd_tree, n_neighbors=9;, score=0.764 total time=   0.0s\n",
      "[CV 4/5] END ..algorithm=kd_tree, n_neighbors=9;, score=0.775 total time=   0.0s\n",
      "[CV 5/5] END ..algorithm=kd_tree, n_neighbors=9;, score=0.770 total time=   0.0s\n",
      "[CV 1/5] END .algorithm=kd_tree, n_neighbors=10;, score=0.704 total time=   0.0s\n",
      "[CV 2/5] END .algorithm=kd_tree, n_neighbors=10;, score=0.758 total time=   0.0s\n",
      "[CV 3/5] END .algorithm=kd_tree, n_neighbors=10;, score=0.753 total time=   0.0s\n",
      "[CV 4/5] END .algorithm=kd_tree, n_neighbors=10;, score=0.787 total time=   0.0s\n",
      "[CV 5/5] END .algorithm=kd_tree, n_neighbors=10;, score=0.781 total time=   0.0s\n",
      "[CV 1/5] END .algorithm=kd_tree, n_neighbors=11;, score=0.698 total time=   0.0s\n",
      "[CV 2/5] END .algorithm=kd_tree, n_neighbors=11;, score=0.753 total time=   0.0s\n",
      "[CV 3/5] END .algorithm=kd_tree, n_neighbors=11;, score=0.758 total time=   0.0s\n",
      "[CV 4/5] END .algorithm=kd_tree, n_neighbors=11;, score=0.764 total time=   0.0s\n",
      "[CV 5/5] END .algorithm=kd_tree, n_neighbors=11;, score=0.787 total time=   0.0s\n",
      "[CV 1/5] END .algorithm=kd_tree, n_neighbors=12;, score=0.715 total time=   0.0s\n",
      "[CV 2/5] END .algorithm=kd_tree, n_neighbors=12;, score=0.753 total time=   0.0s\n",
      "[CV 3/5] END .algorithm=kd_tree, n_neighbors=12;, score=0.770 total time=   0.0s\n",
      "[CV 4/5] END .algorithm=kd_tree, n_neighbors=12;, score=0.770 total time=   0.0s\n",
      "[CV 5/5] END .algorithm=kd_tree, n_neighbors=12;, score=0.747 total time=   0.0s\n",
      "[CV 1/5] END .algorithm=kd_tree, n_neighbors=13;, score=0.709 total time=   0.0s\n",
      "[CV 2/5] END .algorithm=kd_tree, n_neighbors=13;, score=0.758 total time=   0.0s\n",
      "[CV 3/5] END .algorithm=kd_tree, n_neighbors=13;, score=0.747 total time=   0.0s\n",
      "[CV 4/5] END .algorithm=kd_tree, n_neighbors=13;, score=0.792 total time=   0.0s\n",
      "[CV 5/5] END .algorithm=kd_tree, n_neighbors=13;, score=0.770 total time=   0.0s\n",
      "[CV 1/5] END .algorithm=kd_tree, n_neighbors=14;, score=0.687 total time=   0.0s\n",
      "[CV 2/5] END .algorithm=kd_tree, n_neighbors=14;, score=0.770 total time=   0.0s\n",
      "[CV 3/5] END .algorithm=kd_tree, n_neighbors=14;, score=0.764 total time=   0.0s\n",
      "[CV 4/5] END .algorithm=kd_tree, n_neighbors=14;, score=0.758 total time=   0.0s\n",
      "[CV 5/5] END .algorithm=kd_tree, n_neighbors=14;, score=0.753 total time=   0.0s\n",
      "[CV 1/5] END .algorithm=kd_tree, n_neighbors=15;, score=0.676 total time=   0.0s\n",
      "[CV 2/5] END .algorithm=kd_tree, n_neighbors=15;, score=0.742 total time=   0.0s\n",
      "[CV 3/5] END .algorithm=kd_tree, n_neighbors=15;, score=0.764 total time=   0.0s\n",
      "[CV 4/5] END .algorithm=kd_tree, n_neighbors=15;, score=0.781 total time=   0.0s\n",
      "[CV 5/5] END .algorithm=kd_tree, n_neighbors=15;, score=0.770 total time=   0.0s\n",
      "[CV 1/5] END .algorithm=kd_tree, n_neighbors=16;, score=0.693 total time=   0.0s\n",
      "[CV 2/5] END .algorithm=kd_tree, n_neighbors=16;, score=0.775 total time=   0.0s\n",
      "[CV 3/5] END .algorithm=kd_tree, n_neighbors=16;, score=0.758 total time=   0.0s\n",
      "[CV 4/5] END .algorithm=kd_tree, n_neighbors=16;, score=0.770 total time=   0.0s\n",
      "[CV 5/5] END .algorithm=kd_tree, n_neighbors=16;, score=0.753 total time=   0.0s\n",
      "[CV 1/5] END .algorithm=kd_tree, n_neighbors=17;, score=0.687 total time=   0.0s\n",
      "[CV 2/5] END .algorithm=kd_tree, n_neighbors=17;, score=0.736 total time=   0.0s\n",
      "[CV 3/5] END .algorithm=kd_tree, n_neighbors=17;, score=0.747 total time=   0.0s\n",
      "[CV 4/5] END .algorithm=kd_tree, n_neighbors=17;, score=0.787 total time=   0.0s\n",
      "[CV 5/5] END .algorithm=kd_tree, n_neighbors=17;, score=0.775 total time=   0.0s\n",
      "[CV 1/5] END .algorithm=kd_tree, n_neighbors=18;, score=0.676 total time=   0.0s\n",
      "[CV 2/5] END .algorithm=kd_tree, n_neighbors=18;, score=0.736 total time=   0.0s\n",
      "[CV 3/5] END .algorithm=kd_tree, n_neighbors=18;, score=0.747 total time=   0.0s\n",
      "[CV 4/5] END .algorithm=kd_tree, n_neighbors=18;, score=0.764 total time=   0.0s\n",
      "[CV 5/5] END .algorithm=kd_tree, n_neighbors=18;, score=0.747 total time=   0.0s\n",
      "[CV 1/5] END .algorithm=kd_tree, n_neighbors=19;, score=0.682 total time=   0.0s\n",
      "[CV 2/5] END .algorithm=kd_tree, n_neighbors=19;, score=0.725 total time=   0.0s\n",
      "[CV 3/5] END .algorithm=kd_tree, n_neighbors=19;, score=0.736 total time=   0.0s\n",
      "[CV 4/5] END .algorithm=kd_tree, n_neighbors=19;, score=0.753 total time=   0.0s\n",
      "[CV 5/5] END .algorithm=kd_tree, n_neighbors=19;, score=0.770 total time=   0.0s\n",
      "[CV 1/5] END .algorithm=kd_tree, n_neighbors=20;, score=0.682 total time=   0.0s\n",
      "[CV 2/5] END .algorithm=kd_tree, n_neighbors=20;, score=0.742 total time=   0.0s\n",
      "[CV 3/5] END .algorithm=kd_tree, n_neighbors=20;, score=0.736 total time=   0.0s\n",
      "[CV 4/5] END .algorithm=kd_tree, n_neighbors=20;, score=0.747 total time=   0.0s\n",
      "[CV 5/5] END .algorithm=kd_tree, n_neighbors=20;, score=0.742 total time=   0.0s\n",
      "[CV 1/5] END .algorithm=kd_tree, n_neighbors=21;, score=0.654 total time=   0.0s\n",
      "[CV 2/5] END .algorithm=kd_tree, n_neighbors=21;, score=0.725 total time=   0.0s\n",
      "[CV 3/5] END .algorithm=kd_tree, n_neighbors=21;, score=0.725 total time=   0.0s\n",
      "[CV 4/5] END .algorithm=kd_tree, n_neighbors=21;, score=0.764 total time=   0.0s\n",
      "[CV 5/5] END .algorithm=kd_tree, n_neighbors=21;, score=0.742 total time=   0.0s\n",
      "[CV 1/5] END .algorithm=kd_tree, n_neighbors=22;, score=0.670 total time=   0.0s\n",
      "[CV 2/5] END .algorithm=kd_tree, n_neighbors=22;, score=0.753 total time=   0.0s\n",
      "[CV 3/5] END .algorithm=kd_tree, n_neighbors=22;, score=0.730 total time=   0.0s\n",
      "[CV 4/5] END .algorithm=kd_tree, n_neighbors=22;, score=0.753 total time=   0.0s\n",
      "[CV 5/5] END .algorithm=kd_tree, n_neighbors=22;, score=0.730 total time=   0.0s\n",
      "[CV 1/5] END .algorithm=kd_tree, n_neighbors=23;, score=0.670 total time=   0.0s\n",
      "[CV 2/5] END .algorithm=kd_tree, n_neighbors=23;, score=0.736 total time=   0.0s\n",
      "[CV 3/5] END .algorithm=kd_tree, n_neighbors=23;, score=0.736 total time=   0.0s\n",
      "[CV 4/5] END .algorithm=kd_tree, n_neighbors=23;, score=0.764 total time=   0.0s\n",
      "[CV 5/5] END .algorithm=kd_tree, n_neighbors=23;, score=0.747 total time=   0.0s\n",
      "[CV 1/5] END .algorithm=kd_tree, n_neighbors=24;, score=0.659 total time=   0.0s\n",
      "[CV 2/5] END .algorithm=kd_tree, n_neighbors=24;, score=0.736 total time=   0.0s\n",
      "[CV 3/5] END .algorithm=kd_tree, n_neighbors=24;, score=0.730 total time=   0.0s\n",
      "[CV 4/5] END .algorithm=kd_tree, n_neighbors=24;, score=0.758 total time=   0.0s\n",
      "[CV 5/5] END .algorithm=kd_tree, n_neighbors=24;, score=0.736 total time=   0.0s\n",
      "[CV 1/5] END .algorithm=kd_tree, n_neighbors=25;, score=0.665 total time=   0.0s\n",
      "[CV 2/5] END .algorithm=kd_tree, n_neighbors=25;, score=0.719 total time=   0.0s\n",
      "[CV 3/5] END .algorithm=kd_tree, n_neighbors=25;, score=0.747 total time=   0.0s\n",
      "[CV 4/5] END .algorithm=kd_tree, n_neighbors=25;, score=0.758 total time=   0.0s\n",
      "[CV 5/5] END .algorithm=kd_tree, n_neighbors=25;, score=0.747 total time=   0.0s\n",
      "[CV 1/5] END ....algorithm=brute, n_neighbors=1;, score=0.670 total time=   0.0s\n",
      "[CV 2/5] END ....algorithm=brute, n_neighbors=1;, score=0.685 total time=   0.0s\n",
      "[CV 3/5] END ....algorithm=brute, n_neighbors=1;, score=0.747 total time=   0.0s\n",
      "[CV 4/5] END ....algorithm=brute, n_neighbors=1;, score=0.775 total time=   0.0s\n",
      "[CV 5/5] END ....algorithm=brute, n_neighbors=1;, score=0.770 total time=   0.0s\n",
      "[CV 1/5] END ....algorithm=brute, n_neighbors=2;, score=0.698 total time=   0.0s\n",
      "[CV 2/5] END ....algorithm=brute, n_neighbors=2;, score=0.736 total time=   0.0s\n",
      "[CV 3/5] END ....algorithm=brute, n_neighbors=2;, score=0.764 total time=   0.0s\n",
      "[CV 4/5] END ....algorithm=brute, n_neighbors=2;, score=0.775 total time=   0.0s\n",
      "[CV 5/5] END ....algorithm=brute, n_neighbors=2;, score=0.770 total time=   0.0s\n",
      "[CV 1/5] END ....algorithm=brute, n_neighbors=3;, score=0.765 total time=   0.0s\n",
      "[CV 2/5] END ....algorithm=brute, n_neighbors=3;, score=0.730 total time=   0.0s\n",
      "[CV 3/5] END ....algorithm=brute, n_neighbors=3;, score=0.753 total time=   0.0s\n",
      "[CV 4/5] END ....algorithm=brute, n_neighbors=3;, score=0.803 total time=   0.0s\n",
      "[CV 5/5] END ....algorithm=brute, n_neighbors=3;, score=0.770 total time=   0.0s\n",
      "[CV 1/5] END ....algorithm=brute, n_neighbors=4;, score=0.754 total time=   0.0s\n",
      "[CV 2/5] END ....algorithm=brute, n_neighbors=4;, score=0.753 total time=   0.0s\n",
      "[CV 3/5] END ....algorithm=brute, n_neighbors=4;, score=0.753 total time=   0.0s\n",
      "[CV 4/5] END ....algorithm=brute, n_neighbors=4;, score=0.770 total time=   0.0s\n",
      "[CV 5/5] END ....algorithm=brute, n_neighbors=4;, score=0.798 total time=   0.0s\n",
      "[CV 1/5] END ....algorithm=brute, n_neighbors=5;, score=0.743 total time=   0.0s\n",
      "[CV 2/5] END ....algorithm=brute, n_neighbors=5;, score=0.792 total time=   0.0s\n",
      "[CV 3/5] END ....algorithm=brute, n_neighbors=5;, score=0.781 total time=   0.0s\n",
      "[CV 4/5] END ....algorithm=brute, n_neighbors=5;, score=0.792 total time=   0.0s\n",
      "[CV 5/5] END ....algorithm=brute, n_neighbors=5;, score=0.809 total time=   0.0s\n",
      "[CV 1/5] END ....algorithm=brute, n_neighbors=6;, score=0.732 total time=   0.0s\n",
      "[CV 2/5] END ....algorithm=brute, n_neighbors=6;, score=0.753 total time=   0.0s\n",
      "[CV 3/5] END ....algorithm=brute, n_neighbors=6;, score=0.758 total time=   0.0s\n",
      "[CV 4/5] END ....algorithm=brute, n_neighbors=6;, score=0.787 total time=   0.0s\n",
      "[CV 5/5] END ....algorithm=brute, n_neighbors=6;, score=0.798 total time=   0.0s\n",
      "[CV 1/5] END ....algorithm=brute, n_neighbors=7;, score=0.721 total time=   0.0s\n",
      "[CV 2/5] END ....algorithm=brute, n_neighbors=7;, score=0.758 total time=   0.0s\n",
      "[CV 3/5] END ....algorithm=brute, n_neighbors=7;, score=0.770 total time=   0.0s\n",
      "[CV 4/5] END ....algorithm=brute, n_neighbors=7;, score=0.787 total time=   0.0s\n",
      "[CV 5/5] END ....algorithm=brute, n_neighbors=7;, score=0.815 total time=   0.0s\n",
      "[CV 1/5] END ....algorithm=brute, n_neighbors=8;, score=0.743 total time=   0.0s\n",
      "[CV 2/5] END ....algorithm=brute, n_neighbors=8;, score=0.747 total time=   0.0s\n",
      "[CV 3/5] END ....algorithm=brute, n_neighbors=8;, score=0.758 total time=   0.0s\n",
      "[CV 4/5] END ....algorithm=brute, n_neighbors=8;, score=0.764 total time=   0.0s\n",
      "[CV 5/5] END ....algorithm=brute, n_neighbors=8;, score=0.787 total time=   0.0s\n",
      "[CV 1/5] END ....algorithm=brute, n_neighbors=9;, score=0.709 total time=   0.0s\n",
      "[CV 2/5] END ....algorithm=brute, n_neighbors=9;, score=0.764 total time=   0.0s\n",
      "[CV 3/5] END ....algorithm=brute, n_neighbors=9;, score=0.775 total time=   0.0s\n",
      "[CV 4/5] END ....algorithm=brute, n_neighbors=9;, score=0.764 total time=   0.0s\n",
      "[CV 5/5] END ....algorithm=brute, n_neighbors=9;, score=0.781 total time=   0.0s\n",
      "[CV 1/5] END ...algorithm=brute, n_neighbors=10;, score=0.693 total time=   0.0s\n",
      "[CV 2/5] END ...algorithm=brute, n_neighbors=10;, score=0.764 total time=   0.0s\n",
      "[CV 3/5] END ...algorithm=brute, n_neighbors=10;, score=0.775 total time=   0.0s\n",
      "[CV 4/5] END ...algorithm=brute, n_neighbors=10;, score=0.753 total time=   0.0s\n",
      "[CV 5/5] END ...algorithm=brute, n_neighbors=10;, score=0.798 total time=   0.0s\n",
      "[CV 1/5] END ...algorithm=brute, n_neighbors=11;, score=0.698 total time=   0.0s\n",
      "[CV 2/5] END ...algorithm=brute, n_neighbors=11;, score=0.758 total time=   0.0s\n",
      "[CV 3/5] END ...algorithm=brute, n_neighbors=11;, score=0.770 total time=   0.0s\n",
      "[CV 4/5] END ...algorithm=brute, n_neighbors=11;, score=0.747 total time=   0.0s\n",
      "[CV 5/5] END ...algorithm=brute, n_neighbors=11;, score=0.792 total time=   0.0s\n",
      "[CV 1/5] END ...algorithm=brute, n_neighbors=12;, score=0.721 total time=   0.0s\n",
      "[CV 2/5] END ...algorithm=brute, n_neighbors=12;, score=0.753 total time=   0.0s\n",
      "[CV 3/5] END ...algorithm=brute, n_neighbors=12;, score=0.770 total time=   0.0s\n",
      "[CV 4/5] END ...algorithm=brute, n_neighbors=12;, score=0.758 total time=   0.0s\n",
      "[CV 5/5] END ...algorithm=brute, n_neighbors=12;, score=0.753 total time=   0.0s\n",
      "[CV 1/5] END ...algorithm=brute, n_neighbors=13;, score=0.715 total time=   0.0s\n",
      "[CV 2/5] END ...algorithm=brute, n_neighbors=13;, score=0.742 total time=   0.0s\n",
      "[CV 3/5] END ...algorithm=brute, n_neighbors=13;, score=0.753 total time=   0.0s\n",
      "[CV 4/5] END ...algorithm=brute, n_neighbors=13;, score=0.775 total time=   0.0s\n",
      "[CV 5/5] END ...algorithm=brute, n_neighbors=13;, score=0.758 total time=   0.0s\n",
      "[CV 1/5] END ...algorithm=brute, n_neighbors=14;, score=0.687 total time=   0.0s\n",
      "[CV 2/5] END ...algorithm=brute, n_neighbors=14;, score=0.753 total time=   0.0s\n",
      "[CV 3/5] END ...algorithm=brute, n_neighbors=14;, score=0.758 total time=   0.0s\n",
      "[CV 4/5] END ...algorithm=brute, n_neighbors=14;, score=0.747 total time=   0.0s\n",
      "[CV 5/5] END ...algorithm=brute, n_neighbors=14;, score=0.758 total time=   0.0s\n",
      "[CV 1/5] END ...algorithm=brute, n_neighbors=15;, score=0.670 total time=   0.0s\n",
      "[CV 2/5] END ...algorithm=brute, n_neighbors=15;, score=0.747 total time=   0.0s\n",
      "[CV 3/5] END ...algorithm=brute, n_neighbors=15;, score=0.764 total time=   0.0s\n",
      "[CV 4/5] END ...algorithm=brute, n_neighbors=15;, score=0.758 total time=   0.0s\n",
      "[CV 5/5] END ...algorithm=brute, n_neighbors=15;, score=0.758 total time=   0.0s\n",
      "[CV 1/5] END ...algorithm=brute, n_neighbors=16;, score=0.687 total time=   0.0s\n",
      "[CV 2/5] END ...algorithm=brute, n_neighbors=16;, score=0.753 total time=   0.0s\n",
      "[CV 3/5] END ...algorithm=brute, n_neighbors=16;, score=0.758 total time=   0.0s\n",
      "[CV 4/5] END ...algorithm=brute, n_neighbors=16;, score=0.764 total time=   0.0s\n",
      "[CV 5/5] END ...algorithm=brute, n_neighbors=16;, score=0.758 total time=   0.0s\n",
      "[CV 1/5] END ...algorithm=brute, n_neighbors=17;, score=0.687 total time=   0.0s\n",
      "[CV 2/5] END ...algorithm=brute, n_neighbors=17;, score=0.736 total time=   0.0s\n",
      "[CV 3/5] END ...algorithm=brute, n_neighbors=17;, score=0.764 total time=   0.0s\n",
      "[CV 4/5] END ...algorithm=brute, n_neighbors=17;, score=0.781 total time=   0.0s\n",
      "[CV 5/5] END ...algorithm=brute, n_neighbors=17;, score=0.764 total time=   0.0s\n",
      "[CV 1/5] END ...algorithm=brute, n_neighbors=18;, score=0.698 total time=   0.0s\n",
      "[CV 2/5] END ...algorithm=brute, n_neighbors=18;, score=0.770 total time=   0.0s\n",
      "[CV 3/5] END ...algorithm=brute, n_neighbors=18;, score=0.747 total time=   0.0s\n",
      "[CV 4/5] END ...algorithm=brute, n_neighbors=18;, score=0.764 total time=   0.0s\n",
      "[CV 5/5] END ...algorithm=brute, n_neighbors=18;, score=0.742 total time=   0.0s\n",
      "[CV 1/5] END ...algorithm=brute, n_neighbors=19;, score=0.682 total time=   0.0s\n",
      "[CV 2/5] END ...algorithm=brute, n_neighbors=19;, score=0.742 total time=   0.0s\n",
      "[CV 3/5] END ...algorithm=brute, n_neighbors=19;, score=0.736 total time=   0.0s\n",
      "[CV 4/5] END ...algorithm=brute, n_neighbors=19;, score=0.770 total time=   0.0s\n",
      "[CV 5/5] END ...algorithm=brute, n_neighbors=19;, score=0.764 total time=   0.0s\n",
      "[CV 1/5] END ...algorithm=brute, n_neighbors=20;, score=0.676 total time=   0.0s\n",
      "[CV 2/5] END ...algorithm=brute, n_neighbors=20;, score=0.742 total time=   0.0s\n",
      "[CV 3/5] END ...algorithm=brute, n_neighbors=20;, score=0.730 total time=   0.0s\n",
      "[CV 4/5] END ...algorithm=brute, n_neighbors=20;, score=0.758 total time=   0.0s\n",
      "[CV 5/5] END ...algorithm=brute, n_neighbors=20;, score=0.753 total time=   0.0s\n",
      "[CV 1/5] END ...algorithm=brute, n_neighbors=21;, score=0.654 total time=   0.0s\n",
      "[CV 2/5] END ...algorithm=brute, n_neighbors=21;, score=0.725 total time=   0.0s\n",
      "[CV 3/5] END ...algorithm=brute, n_neighbors=21;, score=0.736 total time=   0.0s\n",
      "[CV 4/5] END ...algorithm=brute, n_neighbors=21;, score=0.742 total time=   0.0s\n",
      "[CV 5/5] END ...algorithm=brute, n_neighbors=21;, score=0.753 total time=   0.0s\n",
      "[CV 1/5] END ...algorithm=brute, n_neighbors=22;, score=0.682 total time=   0.0s\n",
      "[CV 2/5] END ...algorithm=brute, n_neighbors=22;, score=0.747 total time=   0.0s\n",
      "[CV 3/5] END ...algorithm=brute, n_neighbors=22;, score=0.747 total time=   0.0s\n",
      "[CV 4/5] END ...algorithm=brute, n_neighbors=22;, score=0.736 total time=   0.0s\n",
      "[CV 5/5] END ...algorithm=brute, n_neighbors=22;, score=0.747 total time=   0.0s\n",
      "[CV 1/5] END ...algorithm=brute, n_neighbors=23;, score=0.670 total time=   0.0s\n",
      "[CV 2/5] END ...algorithm=brute, n_neighbors=23;, score=0.719 total time=   0.0s\n",
      "[CV 3/5] END ...algorithm=brute, n_neighbors=23;, score=0.742 total time=   0.0s\n",
      "[CV 4/5] END ...algorithm=brute, n_neighbors=23;, score=0.747 total time=   0.0s\n",
      "[CV 5/5] END ...algorithm=brute, n_neighbors=23;, score=0.753 total time=   0.0s\n",
      "[CV 1/5] END ...algorithm=brute, n_neighbors=24;, score=0.631 total time=   0.0s\n",
      "[CV 2/5] END ...algorithm=brute, n_neighbors=24;, score=0.736 total time=   0.0s\n",
      "[CV 3/5] END ...algorithm=brute, n_neighbors=24;, score=0.736 total time=   0.0s\n",
      "[CV 4/5] END ...algorithm=brute, n_neighbors=24;, score=0.753 total time=   0.0s\n",
      "[CV 5/5] END ...algorithm=brute, n_neighbors=24;, score=0.730 total time=   0.0s\n",
      "[CV 1/5] END ...algorithm=brute, n_neighbors=25;, score=0.665 total time=   0.0s\n",
      "[CV 2/5] END ...algorithm=brute, n_neighbors=25;, score=0.736 total time=   0.0s\n",
      "[CV 3/5] END ...algorithm=brute, n_neighbors=25;, score=0.742 total time=   0.0s\n",
      "[CV 4/5] END ...algorithm=brute, n_neighbors=25;, score=0.747 total time=   0.0s\n",
      "[CV 5/5] END ...algorithm=brute, n_neighbors=25;, score=0.758 total time=   0.0s\n"
     ]
    },
    {
     "data": {
      "text/html": [
       "<style>#sk-fb7bdc50-818b-4432-a10d-905f9ab07933 {color: black;background-color: white;}#sk-fb7bdc50-818b-4432-a10d-905f9ab07933 pre{padding: 0;}#sk-fb7bdc50-818b-4432-a10d-905f9ab07933 div.sk-toggleable {background-color: white;}#sk-fb7bdc50-818b-4432-a10d-905f9ab07933 label.sk-toggleable__label {cursor: pointer;display: block;width: 100%;margin-bottom: 0;padding: 0.3em;box-sizing: border-box;text-align: center;}#sk-fb7bdc50-818b-4432-a10d-905f9ab07933 label.sk-toggleable__label-arrow:before {content: \"▸\";float: left;margin-right: 0.25em;color: #696969;}#sk-fb7bdc50-818b-4432-a10d-905f9ab07933 label.sk-toggleable__label-arrow:hover:before {color: black;}#sk-fb7bdc50-818b-4432-a10d-905f9ab07933 div.sk-estimator:hover label.sk-toggleable__label-arrow:before {color: black;}#sk-fb7bdc50-818b-4432-a10d-905f9ab07933 div.sk-toggleable__content {max-height: 0;max-width: 0;overflow: hidden;text-align: left;background-color: #f0f8ff;}#sk-fb7bdc50-818b-4432-a10d-905f9ab07933 div.sk-toggleable__content pre {margin: 0.2em;color: black;border-radius: 0.25em;background-color: #f0f8ff;}#sk-fb7bdc50-818b-4432-a10d-905f9ab07933 input.sk-toggleable__control:checked~div.sk-toggleable__content {max-height: 200px;max-width: 100%;overflow: auto;}#sk-fb7bdc50-818b-4432-a10d-905f9ab07933 input.sk-toggleable__control:checked~label.sk-toggleable__label-arrow:before {content: \"▾\";}#sk-fb7bdc50-818b-4432-a10d-905f9ab07933 div.sk-estimator input.sk-toggleable__control:checked~label.sk-toggleable__label {background-color: #d4ebff;}#sk-fb7bdc50-818b-4432-a10d-905f9ab07933 div.sk-label input.sk-toggleable__control:checked~label.sk-toggleable__label {background-color: #d4ebff;}#sk-fb7bdc50-818b-4432-a10d-905f9ab07933 input.sk-hidden--visually {border: 0;clip: rect(1px 1px 1px 1px);clip: rect(1px, 1px, 1px, 1px);height: 1px;margin: -1px;overflow: hidden;padding: 0;position: absolute;width: 1px;}#sk-fb7bdc50-818b-4432-a10d-905f9ab07933 div.sk-estimator {font-family: monospace;background-color: #f0f8ff;border: 1px dotted black;border-radius: 0.25em;box-sizing: border-box;margin-bottom: 0.5em;}#sk-fb7bdc50-818b-4432-a10d-905f9ab07933 div.sk-estimator:hover {background-color: #d4ebff;}#sk-fb7bdc50-818b-4432-a10d-905f9ab07933 div.sk-parallel-item::after {content: \"\";width: 100%;border-bottom: 1px solid gray;flex-grow: 1;}#sk-fb7bdc50-818b-4432-a10d-905f9ab07933 div.sk-label:hover label.sk-toggleable__label {background-color: #d4ebff;}#sk-fb7bdc50-818b-4432-a10d-905f9ab07933 div.sk-serial::before {content: \"\";position: absolute;border-left: 1px solid gray;box-sizing: border-box;top: 2em;bottom: 0;left: 50%;}#sk-fb7bdc50-818b-4432-a10d-905f9ab07933 div.sk-serial {display: flex;flex-direction: column;align-items: center;background-color: white;padding-right: 0.2em;padding-left: 0.2em;}#sk-fb7bdc50-818b-4432-a10d-905f9ab07933 div.sk-item {z-index: 1;}#sk-fb7bdc50-818b-4432-a10d-905f9ab07933 div.sk-parallel {display: flex;align-items: stretch;justify-content: center;background-color: white;}#sk-fb7bdc50-818b-4432-a10d-905f9ab07933 div.sk-parallel::before {content: \"\";position: absolute;border-left: 1px solid gray;box-sizing: border-box;top: 2em;bottom: 0;left: 50%;}#sk-fb7bdc50-818b-4432-a10d-905f9ab07933 div.sk-parallel-item {display: flex;flex-direction: column;position: relative;background-color: white;}#sk-fb7bdc50-818b-4432-a10d-905f9ab07933 div.sk-parallel-item:first-child::after {align-self: flex-end;width: 50%;}#sk-fb7bdc50-818b-4432-a10d-905f9ab07933 div.sk-parallel-item:last-child::after {align-self: flex-start;width: 50%;}#sk-fb7bdc50-818b-4432-a10d-905f9ab07933 div.sk-parallel-item:only-child::after {width: 0;}#sk-fb7bdc50-818b-4432-a10d-905f9ab07933 div.sk-dashed-wrapped {border: 1px dashed gray;margin: 0 0.4em 0.5em 0.4em;box-sizing: border-box;padding-bottom: 0.4em;background-color: white;position: relative;}#sk-fb7bdc50-818b-4432-a10d-905f9ab07933 div.sk-label label {font-family: monospace;font-weight: bold;background-color: white;display: inline-block;line-height: 1.2em;}#sk-fb7bdc50-818b-4432-a10d-905f9ab07933 div.sk-label-container {position: relative;z-index: 2;text-align: center;}#sk-fb7bdc50-818b-4432-a10d-905f9ab07933 div.sk-container {/* jupyter's `normalize.less` sets `[hidden] { display: none; }` but bootstrap.min.css set `[hidden] { display: none !important; }` so we also need the `!important` here to be able to override the default hidden behavior on the sphinx rendered scikit-learn.org. See: https://github.com/scikit-learn/scikit-learn/issues/21755 */display: inline-block !important;position: relative;}#sk-fb7bdc50-818b-4432-a10d-905f9ab07933 div.sk-text-repr-fallback {display: none;}</style><div id=\"sk-fb7bdc50-818b-4432-a10d-905f9ab07933\" class=\"sk-top-container\"><div class=\"sk-text-repr-fallback\"><pre>GridSearchCV(cv=5, estimator=KNeighborsClassifier(),\n",
       "             param_grid={&#x27;algorithm&#x27;: [&#x27;ball_tree&#x27;, &#x27;kd_tree&#x27;, &#x27;brute&#x27;],\n",
       "                         &#x27;n_neighbors&#x27;: array([ 1,  2,  3,  4,  5,  6,  7,  8,  9, 10, 11, 12, 13, 14, 15, 16, 17,\n",
       "       18, 19, 20, 21, 22, 23, 24, 25], dtype=int16)},\n",
       "             refit=&#x27;accuracy&#x27;, scoring=&#x27;accuracy&#x27;, verbose=3)</pre><b>Please rerun this cell to show the HTML repr or trust the notebook.</b></div><div class=\"sk-container\" hidden><div class=\"sk-item sk-dashed-wrapped\"><div class=\"sk-label-container\"><div class=\"sk-label sk-toggleable\"><input class=\"sk-toggleable__control sk-hidden--visually\" id=\"67f167a3-68d9-491c-ac33-b3fb74d8c42a\" type=\"checkbox\" ><label for=\"67f167a3-68d9-491c-ac33-b3fb74d8c42a\" class=\"sk-toggleable__label sk-toggleable__label-arrow\">GridSearchCV</label><div class=\"sk-toggleable__content\"><pre>GridSearchCV(cv=5, estimator=KNeighborsClassifier(),\n",
       "             param_grid={&#x27;algorithm&#x27;: [&#x27;ball_tree&#x27;, &#x27;kd_tree&#x27;, &#x27;brute&#x27;],\n",
       "                         &#x27;n_neighbors&#x27;: array([ 1,  2,  3,  4,  5,  6,  7,  8,  9, 10, 11, 12, 13, 14, 15, 16, 17,\n",
       "       18, 19, 20, 21, 22, 23, 24, 25], dtype=int16)},\n",
       "             refit=&#x27;accuracy&#x27;, scoring=&#x27;accuracy&#x27;, verbose=3)</pre></div></div></div><div class=\"sk-parallel\"><div class=\"sk-parallel-item\"><div class=\"sk-item\"><div class=\"sk-serial\"><div class=\"sk-item\"><div class=\"sk-estimator sk-toggleable\"><input class=\"sk-toggleable__control sk-hidden--visually\" id=\"a7e2ecd3-1c9a-4c82-88f8-7c23b16dc4f4\" type=\"checkbox\" ><label for=\"a7e2ecd3-1c9a-4c82-88f8-7c23b16dc4f4\" class=\"sk-toggleable__label sk-toggleable__label-arrow\">KNeighborsClassifier</label><div class=\"sk-toggleable__content\"><pre>KNeighborsClassifier()</pre></div></div></div></div></div></div></div></div></div></div>"
      ],
      "text/plain": [
       "GridSearchCV(cv=5, estimator=KNeighborsClassifier(),\n",
       "             param_grid={'algorithm': ['ball_tree', 'kd_tree', 'brute'],\n",
       "                         'n_neighbors': array([ 1,  2,  3,  4,  5,  6,  7,  8,  9, 10, 11, 12, 13, 14, 15, 16, 17,\n",
       "       18, 19, 20, 21, 22, 23, 24, 25], dtype=int16)},\n",
       "             refit='accuracy', scoring='accuracy', verbose=3)"
      ]
     },
     "execution_count": 24,
     "metadata": {},
     "output_type": "execute_result"
    }
   ],
   "source": [
    "params_KNN_GS = {\n",
    "    \"n_neighbors\": np.linspace(1, 25, 25).astype(np.int16),\n",
    "    \"algorithm\": [\"ball_tree\", \"kd_tree\", \"brute\"]\n",
    "}\n",
    "KNN_GS = KNeighborsClassifier()\n",
    "GS_KNN = GridSearchCV(\n",
    "    estimator=KNN_GS,\n",
    "    cv=5,\n",
    "    param_grid=params_KNN_GS, \n",
    "    scoring=\"accuracy\",\n",
    "    refit=\"accuracy\",\n",
    "    verbose=3\n",
    ")\n",
    "GS_KNN.fit(piped_train, df_survived)"
   ]
  },
  {
   "cell_type": "code",
   "execution_count": 25,
   "id": "89282279",
   "metadata": {
    "execution": {
     "iopub.execute_input": "2022-11-19T10:18:39.671616Z",
     "iopub.status.busy": "2022-11-19T10:18:39.671165Z",
     "iopub.status.idle": "2022-11-19T10:18:39.677906Z",
     "shell.execute_reply": "2022-11-19T10:18:39.676520Z"
    },
    "papermill": {
     "duration": 0.035554,
     "end_time": "2022-11-19T10:18:39.680228",
     "exception": false,
     "start_time": "2022-11-19T10:18:39.644674",
     "status": "completed"
    },
    "tags": []
   },
   "outputs": [
    {
     "name": "stdout",
     "output_type": "stream",
     "text": [
      "Best parameter for KNN is with 5 neighbors under ball_tree algorithm with an accuracy of 79.13%\n"
     ]
    }
   ],
   "source": [
    "n_GS_KNN = GS_KNN.best_params_[\"n_neighbors\"]\n",
    "al_GS_KNN = GS_KNN.best_params_[\"algorithm\"]\n",
    "acc_GS_KNN = round(GS_KNN.best_score_*100, 2)\n",
    "print(f\"Best parameter for KNN is with {n_GS_KNN} neighbors under {al_GS_KNN} algorithm with an accuracy of {acc_GS_KNN}%\")"
   ]
  },
  {
   "cell_type": "markdown",
   "id": "67972707",
   "metadata": {
    "papermill": {
     "duration": 0.022914,
     "end_time": "2022-11-19T10:18:39.726351",
     "exception": false,
     "start_time": "2022-11-19T10:18:39.703437",
     "status": "completed"
    },
    "tags": []
   },
   "source": [
    "#### Modeling KNN"
   ]
  },
  {
   "cell_type": "code",
   "execution_count": 26,
   "id": "0ac6f2ba",
   "metadata": {
    "execution": {
     "iopub.execute_input": "2022-11-19T10:18:39.774477Z",
     "iopub.status.busy": "2022-11-19T10:18:39.774045Z",
     "iopub.status.idle": "2022-11-19T10:18:39.783505Z",
     "shell.execute_reply": "2022-11-19T10:18:39.782670Z"
    },
    "papermill": {
     "duration": 0.036122,
     "end_time": "2022-11-19T10:18:39.785503",
     "exception": false,
     "start_time": "2022-11-19T10:18:39.749381",
     "status": "completed"
    },
    "scrolled": true,
    "tags": []
   },
   "outputs": [
    {
     "data": {
      "text/html": [
       "<style>#sk-08e9f397-f6cb-4ecc-9400-bf1e4feaa387 {color: black;background-color: white;}#sk-08e9f397-f6cb-4ecc-9400-bf1e4feaa387 pre{padding: 0;}#sk-08e9f397-f6cb-4ecc-9400-bf1e4feaa387 div.sk-toggleable {background-color: white;}#sk-08e9f397-f6cb-4ecc-9400-bf1e4feaa387 label.sk-toggleable__label {cursor: pointer;display: block;width: 100%;margin-bottom: 0;padding: 0.3em;box-sizing: border-box;text-align: center;}#sk-08e9f397-f6cb-4ecc-9400-bf1e4feaa387 label.sk-toggleable__label-arrow:before {content: \"▸\";float: left;margin-right: 0.25em;color: #696969;}#sk-08e9f397-f6cb-4ecc-9400-bf1e4feaa387 label.sk-toggleable__label-arrow:hover:before {color: black;}#sk-08e9f397-f6cb-4ecc-9400-bf1e4feaa387 div.sk-estimator:hover label.sk-toggleable__label-arrow:before {color: black;}#sk-08e9f397-f6cb-4ecc-9400-bf1e4feaa387 div.sk-toggleable__content {max-height: 0;max-width: 0;overflow: hidden;text-align: left;background-color: #f0f8ff;}#sk-08e9f397-f6cb-4ecc-9400-bf1e4feaa387 div.sk-toggleable__content pre {margin: 0.2em;color: black;border-radius: 0.25em;background-color: #f0f8ff;}#sk-08e9f397-f6cb-4ecc-9400-bf1e4feaa387 input.sk-toggleable__control:checked~div.sk-toggleable__content {max-height: 200px;max-width: 100%;overflow: auto;}#sk-08e9f397-f6cb-4ecc-9400-bf1e4feaa387 input.sk-toggleable__control:checked~label.sk-toggleable__label-arrow:before {content: \"▾\";}#sk-08e9f397-f6cb-4ecc-9400-bf1e4feaa387 div.sk-estimator input.sk-toggleable__control:checked~label.sk-toggleable__label {background-color: #d4ebff;}#sk-08e9f397-f6cb-4ecc-9400-bf1e4feaa387 div.sk-label input.sk-toggleable__control:checked~label.sk-toggleable__label {background-color: #d4ebff;}#sk-08e9f397-f6cb-4ecc-9400-bf1e4feaa387 input.sk-hidden--visually {border: 0;clip: rect(1px 1px 1px 1px);clip: rect(1px, 1px, 1px, 1px);height: 1px;margin: -1px;overflow: hidden;padding: 0;position: absolute;width: 1px;}#sk-08e9f397-f6cb-4ecc-9400-bf1e4feaa387 div.sk-estimator {font-family: monospace;background-color: #f0f8ff;border: 1px dotted black;border-radius: 0.25em;box-sizing: border-box;margin-bottom: 0.5em;}#sk-08e9f397-f6cb-4ecc-9400-bf1e4feaa387 div.sk-estimator:hover {background-color: #d4ebff;}#sk-08e9f397-f6cb-4ecc-9400-bf1e4feaa387 div.sk-parallel-item::after {content: \"\";width: 100%;border-bottom: 1px solid gray;flex-grow: 1;}#sk-08e9f397-f6cb-4ecc-9400-bf1e4feaa387 div.sk-label:hover label.sk-toggleable__label {background-color: #d4ebff;}#sk-08e9f397-f6cb-4ecc-9400-bf1e4feaa387 div.sk-serial::before {content: \"\";position: absolute;border-left: 1px solid gray;box-sizing: border-box;top: 2em;bottom: 0;left: 50%;}#sk-08e9f397-f6cb-4ecc-9400-bf1e4feaa387 div.sk-serial {display: flex;flex-direction: column;align-items: center;background-color: white;padding-right: 0.2em;padding-left: 0.2em;}#sk-08e9f397-f6cb-4ecc-9400-bf1e4feaa387 div.sk-item {z-index: 1;}#sk-08e9f397-f6cb-4ecc-9400-bf1e4feaa387 div.sk-parallel {display: flex;align-items: stretch;justify-content: center;background-color: white;}#sk-08e9f397-f6cb-4ecc-9400-bf1e4feaa387 div.sk-parallel::before {content: \"\";position: absolute;border-left: 1px solid gray;box-sizing: border-box;top: 2em;bottom: 0;left: 50%;}#sk-08e9f397-f6cb-4ecc-9400-bf1e4feaa387 div.sk-parallel-item {display: flex;flex-direction: column;position: relative;background-color: white;}#sk-08e9f397-f6cb-4ecc-9400-bf1e4feaa387 div.sk-parallel-item:first-child::after {align-self: flex-end;width: 50%;}#sk-08e9f397-f6cb-4ecc-9400-bf1e4feaa387 div.sk-parallel-item:last-child::after {align-self: flex-start;width: 50%;}#sk-08e9f397-f6cb-4ecc-9400-bf1e4feaa387 div.sk-parallel-item:only-child::after {width: 0;}#sk-08e9f397-f6cb-4ecc-9400-bf1e4feaa387 div.sk-dashed-wrapped {border: 1px dashed gray;margin: 0 0.4em 0.5em 0.4em;box-sizing: border-box;padding-bottom: 0.4em;background-color: white;position: relative;}#sk-08e9f397-f6cb-4ecc-9400-bf1e4feaa387 div.sk-label label {font-family: monospace;font-weight: bold;background-color: white;display: inline-block;line-height: 1.2em;}#sk-08e9f397-f6cb-4ecc-9400-bf1e4feaa387 div.sk-label-container {position: relative;z-index: 2;text-align: center;}#sk-08e9f397-f6cb-4ecc-9400-bf1e4feaa387 div.sk-container {/* jupyter's `normalize.less` sets `[hidden] { display: none; }` but bootstrap.min.css set `[hidden] { display: none !important; }` so we also need the `!important` here to be able to override the default hidden behavior on the sphinx rendered scikit-learn.org. See: https://github.com/scikit-learn/scikit-learn/issues/21755 */display: inline-block !important;position: relative;}#sk-08e9f397-f6cb-4ecc-9400-bf1e4feaa387 div.sk-text-repr-fallback {display: none;}</style><div id=\"sk-08e9f397-f6cb-4ecc-9400-bf1e4feaa387\" class=\"sk-top-container\"><div class=\"sk-text-repr-fallback\"><pre>KNeighborsClassifier(algorithm=&#x27;brute&#x27;)</pre><b>Please rerun this cell to show the HTML repr or trust the notebook.</b></div><div class=\"sk-container\" hidden><div class=\"sk-item\"><div class=\"sk-estimator sk-toggleable\"><input class=\"sk-toggleable__control sk-hidden--visually\" id=\"78778c5b-29ad-4b24-bb96-b8d4f55fd968\" type=\"checkbox\" checked><label for=\"78778c5b-29ad-4b24-bb96-b8d4f55fd968\" class=\"sk-toggleable__label sk-toggleable__label-arrow\">KNeighborsClassifier</label><div class=\"sk-toggleable__content\"><pre>KNeighborsClassifier(algorithm=&#x27;brute&#x27;)</pre></div></div></div></div></div>"
      ],
      "text/plain": [
       "KNeighborsClassifier(algorithm='brute')"
      ]
     },
     "execution_count": 26,
     "metadata": {},
     "output_type": "execute_result"
    }
   ],
   "source": [
    "knn = KNeighborsClassifier(n_neighbors=5, algorithm=\"brute\")\n",
    "knn.fit(piped_train, df_survived)"
   ]
  },
  {
   "cell_type": "code",
   "execution_count": 27,
   "id": "aa6e553f",
   "metadata": {
    "execution": {
     "iopub.execute_input": "2022-11-19T10:18:39.835672Z",
     "iopub.status.busy": "2022-11-19T10:18:39.834429Z",
     "iopub.status.idle": "2022-11-19T10:18:39.894828Z",
     "shell.execute_reply": "2022-11-19T10:18:39.893122Z"
    },
    "papermill": {
     "duration": 0.089835,
     "end_time": "2022-11-19T10:18:39.899177",
     "exception": false,
     "start_time": "2022-11-19T10:18:39.809342",
     "status": "completed"
    },
    "tags": []
   },
   "outputs": [],
   "source": [
    "pred_knn = knn.predict(piped_test)"
   ]
  },
  {
   "cell_type": "markdown",
   "id": "edb16d07",
   "metadata": {
    "papermill": {
     "duration": 0.025974,
     "end_time": "2022-11-19T10:18:39.984922",
     "exception": false,
     "start_time": "2022-11-19T10:18:39.958948",
     "status": "completed"
    },
    "tags": []
   },
   "source": [
    "### Decision Tree Classifier"
   ]
  },
  {
   "cell_type": "markdown",
   "id": "435ff814",
   "metadata": {
    "papermill": {
     "duration": 0.023746,
     "end_time": "2022-11-19T10:18:40.031876",
     "exception": false,
     "start_time": "2022-11-19T10:18:40.008130",
     "status": "completed"
    },
    "tags": []
   },
   "source": [
    "#### Finding the best parameter for Decision Tree"
   ]
  },
  {
   "cell_type": "code",
   "execution_count": 28,
   "id": "6f70aed2",
   "metadata": {
    "execution": {
     "iopub.execute_input": "2022-11-19T10:18:40.080701Z",
     "iopub.status.busy": "2022-11-19T10:18:40.080303Z",
     "iopub.status.idle": "2022-11-19T10:18:40.250821Z",
     "shell.execute_reply": "2022-11-19T10:18:40.249103Z"
    },
    "papermill": {
     "duration": 0.198181,
     "end_time": "2022-11-19T10:18:40.253658",
     "exception": false,
     "start_time": "2022-11-19T10:18:40.055477",
     "status": "completed"
    },
    "scrolled": true,
    "tags": []
   },
   "outputs": [
    {
     "name": "stdout",
     "output_type": "stream",
     "text": [
      "Fitting 5 folds for each of 6 candidates, totalling 30 fits\n",
      "[CV 1/5] END .....criterion=gini, splitter=best;, score=0.715 total time=   0.0s\n",
      "[CV 2/5] END .....criterion=gini, splitter=best;, score=0.787 total time=   0.0s\n",
      "[CV 3/5] END .....criterion=gini, splitter=best;, score=0.798 total time=   0.0s\n",
      "[CV 4/5] END .....criterion=gini, splitter=best;, score=0.809 total time=   0.0s\n",
      "[CV 5/5] END .....criterion=gini, splitter=best;, score=0.803 total time=   0.0s\n",
      "[CV 1/5] END ...criterion=gini, splitter=random;, score=0.749 total time=   0.0s\n",
      "[CV 2/5] END ...criterion=gini, splitter=random;, score=0.764 total time=   0.0s\n",
      "[CV 3/5] END ...criterion=gini, splitter=random;, score=0.787 total time=   0.0s\n",
      "[CV 4/5] END ...criterion=gini, splitter=random;, score=0.770 total time=   0.0s\n",
      "[CV 5/5] END ...criterion=gini, splitter=random;, score=0.820 total time=   0.0s\n",
      "[CV 1/5] END ..criterion=entropy, splitter=best;, score=0.726 total time=   0.0s\n",
      "[CV 2/5] END ..criterion=entropy, splitter=best;, score=0.792 total time=   0.0s\n",
      "[CV 3/5] END ..criterion=entropy, splitter=best;, score=0.803 total time=   0.0s\n",
      "[CV 4/5] END ..criterion=entropy, splitter=best;, score=0.803 total time=   0.0s\n",
      "[CV 5/5] END ..criterion=entropy, splitter=best;, score=0.809 total time=   0.0s\n",
      "[CV 1/5] END criterion=entropy, splitter=random;, score=0.743 total time=   0.0s\n",
      "[CV 2/5] END criterion=entropy, splitter=random;, score=0.775 total time=   0.0s\n",
      "[CV 3/5] END criterion=entropy, splitter=random;, score=0.775 total time=   0.0s\n",
      "[CV 4/5] END criterion=entropy, splitter=random;, score=0.787 total time=   0.0s\n",
      "[CV 5/5] END criterion=entropy, splitter=random;, score=0.798 total time=   0.0s\n",
      "[CV 1/5] END ...criterion=log_loss, splitter=best;, score=nan total time=   0.0s\n",
      "[CV 2/5] END ...criterion=log_loss, splitter=best;, score=nan total time=   0.0s\n",
      "[CV 3/5] END ...criterion=log_loss, splitter=best;, score=nan total time=   0.0s\n",
      "[CV 4/5] END ...criterion=log_loss, splitter=best;, score=nan total time=   0.0s\n",
      "[CV 5/5] END ...criterion=log_loss, splitter=best;, score=nan total time=   0.0s\n",
      "[CV 1/5] END .criterion=log_loss, splitter=random;, score=nan total time=   0.0s\n",
      "[CV 2/5] END .criterion=log_loss, splitter=random;, score=nan total time=   0.0s\n",
      "[CV 3/5] END .criterion=log_loss, splitter=random;, score=nan total time=   0.0s\n",
      "[CV 4/5] END .criterion=log_loss, splitter=random;, score=nan total time=   0.0s\n",
      "[CV 5/5] END .criterion=log_loss, splitter=random;, score=nan total time=   0.0s\n"
     ]
    },
    {
     "data": {
      "text/html": [
       "<style>#sk-ab2a4ab5-6f4f-4f03-9ceb-8bfd1f253ebe {color: black;background-color: white;}#sk-ab2a4ab5-6f4f-4f03-9ceb-8bfd1f253ebe pre{padding: 0;}#sk-ab2a4ab5-6f4f-4f03-9ceb-8bfd1f253ebe div.sk-toggleable {background-color: white;}#sk-ab2a4ab5-6f4f-4f03-9ceb-8bfd1f253ebe label.sk-toggleable__label {cursor: pointer;display: block;width: 100%;margin-bottom: 0;padding: 0.3em;box-sizing: border-box;text-align: center;}#sk-ab2a4ab5-6f4f-4f03-9ceb-8bfd1f253ebe label.sk-toggleable__label-arrow:before {content: \"▸\";float: left;margin-right: 0.25em;color: #696969;}#sk-ab2a4ab5-6f4f-4f03-9ceb-8bfd1f253ebe label.sk-toggleable__label-arrow:hover:before {color: black;}#sk-ab2a4ab5-6f4f-4f03-9ceb-8bfd1f253ebe div.sk-estimator:hover label.sk-toggleable__label-arrow:before {color: black;}#sk-ab2a4ab5-6f4f-4f03-9ceb-8bfd1f253ebe div.sk-toggleable__content {max-height: 0;max-width: 0;overflow: hidden;text-align: left;background-color: #f0f8ff;}#sk-ab2a4ab5-6f4f-4f03-9ceb-8bfd1f253ebe div.sk-toggleable__content pre {margin: 0.2em;color: black;border-radius: 0.25em;background-color: #f0f8ff;}#sk-ab2a4ab5-6f4f-4f03-9ceb-8bfd1f253ebe input.sk-toggleable__control:checked~div.sk-toggleable__content {max-height: 200px;max-width: 100%;overflow: auto;}#sk-ab2a4ab5-6f4f-4f03-9ceb-8bfd1f253ebe input.sk-toggleable__control:checked~label.sk-toggleable__label-arrow:before {content: \"▾\";}#sk-ab2a4ab5-6f4f-4f03-9ceb-8bfd1f253ebe div.sk-estimator input.sk-toggleable__control:checked~label.sk-toggleable__label {background-color: #d4ebff;}#sk-ab2a4ab5-6f4f-4f03-9ceb-8bfd1f253ebe div.sk-label input.sk-toggleable__control:checked~label.sk-toggleable__label {background-color: #d4ebff;}#sk-ab2a4ab5-6f4f-4f03-9ceb-8bfd1f253ebe input.sk-hidden--visually {border: 0;clip: rect(1px 1px 1px 1px);clip: rect(1px, 1px, 1px, 1px);height: 1px;margin: -1px;overflow: hidden;padding: 0;position: absolute;width: 1px;}#sk-ab2a4ab5-6f4f-4f03-9ceb-8bfd1f253ebe div.sk-estimator {font-family: monospace;background-color: #f0f8ff;border: 1px dotted black;border-radius: 0.25em;box-sizing: border-box;margin-bottom: 0.5em;}#sk-ab2a4ab5-6f4f-4f03-9ceb-8bfd1f253ebe div.sk-estimator:hover {background-color: #d4ebff;}#sk-ab2a4ab5-6f4f-4f03-9ceb-8bfd1f253ebe div.sk-parallel-item::after {content: \"\";width: 100%;border-bottom: 1px solid gray;flex-grow: 1;}#sk-ab2a4ab5-6f4f-4f03-9ceb-8bfd1f253ebe div.sk-label:hover label.sk-toggleable__label {background-color: #d4ebff;}#sk-ab2a4ab5-6f4f-4f03-9ceb-8bfd1f253ebe div.sk-serial::before {content: \"\";position: absolute;border-left: 1px solid gray;box-sizing: border-box;top: 2em;bottom: 0;left: 50%;}#sk-ab2a4ab5-6f4f-4f03-9ceb-8bfd1f253ebe div.sk-serial {display: flex;flex-direction: column;align-items: center;background-color: white;padding-right: 0.2em;padding-left: 0.2em;}#sk-ab2a4ab5-6f4f-4f03-9ceb-8bfd1f253ebe div.sk-item {z-index: 1;}#sk-ab2a4ab5-6f4f-4f03-9ceb-8bfd1f253ebe div.sk-parallel {display: flex;align-items: stretch;justify-content: center;background-color: white;}#sk-ab2a4ab5-6f4f-4f03-9ceb-8bfd1f253ebe div.sk-parallel::before {content: \"\";position: absolute;border-left: 1px solid gray;box-sizing: border-box;top: 2em;bottom: 0;left: 50%;}#sk-ab2a4ab5-6f4f-4f03-9ceb-8bfd1f253ebe div.sk-parallel-item {display: flex;flex-direction: column;position: relative;background-color: white;}#sk-ab2a4ab5-6f4f-4f03-9ceb-8bfd1f253ebe div.sk-parallel-item:first-child::after {align-self: flex-end;width: 50%;}#sk-ab2a4ab5-6f4f-4f03-9ceb-8bfd1f253ebe div.sk-parallel-item:last-child::after {align-self: flex-start;width: 50%;}#sk-ab2a4ab5-6f4f-4f03-9ceb-8bfd1f253ebe div.sk-parallel-item:only-child::after {width: 0;}#sk-ab2a4ab5-6f4f-4f03-9ceb-8bfd1f253ebe div.sk-dashed-wrapped {border: 1px dashed gray;margin: 0 0.4em 0.5em 0.4em;box-sizing: border-box;padding-bottom: 0.4em;background-color: white;position: relative;}#sk-ab2a4ab5-6f4f-4f03-9ceb-8bfd1f253ebe div.sk-label label {font-family: monospace;font-weight: bold;background-color: white;display: inline-block;line-height: 1.2em;}#sk-ab2a4ab5-6f4f-4f03-9ceb-8bfd1f253ebe div.sk-label-container {position: relative;z-index: 2;text-align: center;}#sk-ab2a4ab5-6f4f-4f03-9ceb-8bfd1f253ebe div.sk-container {/* jupyter's `normalize.less` sets `[hidden] { display: none; }` but bootstrap.min.css set `[hidden] { display: none !important; }` so we also need the `!important` here to be able to override the default hidden behavior on the sphinx rendered scikit-learn.org. See: https://github.com/scikit-learn/scikit-learn/issues/21755 */display: inline-block !important;position: relative;}#sk-ab2a4ab5-6f4f-4f03-9ceb-8bfd1f253ebe div.sk-text-repr-fallback {display: none;}</style><div id=\"sk-ab2a4ab5-6f4f-4f03-9ceb-8bfd1f253ebe\" class=\"sk-top-container\"><div class=\"sk-text-repr-fallback\"><pre>GridSearchCV(cv=5, estimator=DecisionTreeClassifier(),\n",
       "             param_grid={&#x27;criterion&#x27;: [&#x27;gini&#x27;, &#x27;entropy&#x27;, &#x27;log_loss&#x27;],\n",
       "                         &#x27;splitter&#x27;: [&#x27;best&#x27;, &#x27;random&#x27;]},\n",
       "             refit=&#x27;accuracy&#x27;, scoring=&#x27;accuracy&#x27;, verbose=3)</pre><b>Please rerun this cell to show the HTML repr or trust the notebook.</b></div><div class=\"sk-container\" hidden><div class=\"sk-item sk-dashed-wrapped\"><div class=\"sk-label-container\"><div class=\"sk-label sk-toggleable\"><input class=\"sk-toggleable__control sk-hidden--visually\" id=\"89b39b74-9350-464c-85cf-9de070af6020\" type=\"checkbox\" ><label for=\"89b39b74-9350-464c-85cf-9de070af6020\" class=\"sk-toggleable__label sk-toggleable__label-arrow\">GridSearchCV</label><div class=\"sk-toggleable__content\"><pre>GridSearchCV(cv=5, estimator=DecisionTreeClassifier(),\n",
       "             param_grid={&#x27;criterion&#x27;: [&#x27;gini&#x27;, &#x27;entropy&#x27;, &#x27;log_loss&#x27;],\n",
       "                         &#x27;splitter&#x27;: [&#x27;best&#x27;, &#x27;random&#x27;]},\n",
       "             refit=&#x27;accuracy&#x27;, scoring=&#x27;accuracy&#x27;, verbose=3)</pre></div></div></div><div class=\"sk-parallel\"><div class=\"sk-parallel-item\"><div class=\"sk-item\"><div class=\"sk-serial\"><div class=\"sk-item\"><div class=\"sk-estimator sk-toggleable\"><input class=\"sk-toggleable__control sk-hidden--visually\" id=\"4b737fa4-9239-4718-ad3b-305ae88a5274\" type=\"checkbox\" ><label for=\"4b737fa4-9239-4718-ad3b-305ae88a5274\" class=\"sk-toggleable__label sk-toggleable__label-arrow\">DecisionTreeClassifier</label><div class=\"sk-toggleable__content\"><pre>DecisionTreeClassifier()</pre></div></div></div></div></div></div></div></div></div></div>"
      ],
      "text/plain": [
       "GridSearchCV(cv=5, estimator=DecisionTreeClassifier(),\n",
       "             param_grid={'criterion': ['gini', 'entropy', 'log_loss'],\n",
       "                         'splitter': ['best', 'random']},\n",
       "             refit='accuracy', scoring='accuracy', verbose=3)"
      ]
     },
     "execution_count": 28,
     "metadata": {},
     "output_type": "execute_result"
    }
   ],
   "source": [
    "params_dtree_GS = {\n",
    "    \"criterion\": [\"gini\", \"entropy\", \"log_loss\"],\n",
    "    \"splitter\": [\"best\", \"random\"]\n",
    "}\n",
    "dtree_GS = DecisionTreeClassifier()\n",
    "GS_dtree = GridSearchCV(\n",
    "    estimator=dtree_GS,\n",
    "    cv=5,\n",
    "    param_grid=params_dtree_GS, \n",
    "    scoring=\"accuracy\",\n",
    "    refit=\"accuracy\",\n",
    "    verbose=3\n",
    ")\n",
    "GS_dtree.fit(piped_train, df_survived)"
   ]
  },
  {
   "cell_type": "code",
   "execution_count": 29,
   "id": "5eaaac88",
   "metadata": {
    "execution": {
     "iopub.execute_input": "2022-11-19T10:18:40.303952Z",
     "iopub.status.busy": "2022-11-19T10:18:40.303563Z",
     "iopub.status.idle": "2022-11-19T10:18:40.310517Z",
     "shell.execute_reply": "2022-11-19T10:18:40.309228Z"
    },
    "papermill": {
     "duration": 0.035091,
     "end_time": "2022-11-19T10:18:40.312956",
     "exception": false,
     "start_time": "2022-11-19T10:18:40.277865",
     "status": "completed"
    },
    "tags": []
   },
   "outputs": [
    {
     "name": "stdout",
     "output_type": "stream",
     "text": [
      "Best parameter for Decision Tree Classifier is with entropy criterion and best splitter that has an accuracy of 78.68%\n"
     ]
    }
   ],
   "source": [
    "criterion_GS_dtree = GS_dtree.best_params_[\"criterion\"]\n",
    "splitter_GS_dtree = GS_dtree.best_params_[\"splitter\"]\n",
    "acc_GS_dtree = round(GS_dtree.best_score_*100, 2)\n",
    "print(f\"Best parameter for Decision Tree Classifier is with {criterion_GS_dtree} criterion and {splitter_GS_dtree} splitter that has an accuracy of {acc_GS_dtree}%\")"
   ]
  },
  {
   "cell_type": "markdown",
   "id": "56568841",
   "metadata": {
    "papermill": {
     "duration": 0.023951,
     "end_time": "2022-11-19T10:18:40.360569",
     "exception": false,
     "start_time": "2022-11-19T10:18:40.336618",
     "status": "completed"
    },
    "tags": []
   },
   "source": [
    "#### Modeling Decision Tree Classifier"
   ]
  },
  {
   "cell_type": "code",
   "execution_count": 30,
   "id": "909cd304",
   "metadata": {
    "execution": {
     "iopub.execute_input": "2022-11-19T10:18:40.410087Z",
     "iopub.status.busy": "2022-11-19T10:18:40.409398Z",
     "iopub.status.idle": "2022-11-19T10:18:40.421579Z",
     "shell.execute_reply": "2022-11-19T10:18:40.420323Z"
    },
    "papermill": {
     "duration": 0.039743,
     "end_time": "2022-11-19T10:18:40.423967",
     "exception": false,
     "start_time": "2022-11-19T10:18:40.384224",
     "status": "completed"
    },
    "tags": []
   },
   "outputs": [
    {
     "data": {
      "text/html": [
       "<style>#sk-2c1eb4ab-488e-40a7-ae65-c60b51823bfe {color: black;background-color: white;}#sk-2c1eb4ab-488e-40a7-ae65-c60b51823bfe pre{padding: 0;}#sk-2c1eb4ab-488e-40a7-ae65-c60b51823bfe div.sk-toggleable {background-color: white;}#sk-2c1eb4ab-488e-40a7-ae65-c60b51823bfe label.sk-toggleable__label {cursor: pointer;display: block;width: 100%;margin-bottom: 0;padding: 0.3em;box-sizing: border-box;text-align: center;}#sk-2c1eb4ab-488e-40a7-ae65-c60b51823bfe label.sk-toggleable__label-arrow:before {content: \"▸\";float: left;margin-right: 0.25em;color: #696969;}#sk-2c1eb4ab-488e-40a7-ae65-c60b51823bfe label.sk-toggleable__label-arrow:hover:before {color: black;}#sk-2c1eb4ab-488e-40a7-ae65-c60b51823bfe div.sk-estimator:hover label.sk-toggleable__label-arrow:before {color: black;}#sk-2c1eb4ab-488e-40a7-ae65-c60b51823bfe div.sk-toggleable__content {max-height: 0;max-width: 0;overflow: hidden;text-align: left;background-color: #f0f8ff;}#sk-2c1eb4ab-488e-40a7-ae65-c60b51823bfe div.sk-toggleable__content pre {margin: 0.2em;color: black;border-radius: 0.25em;background-color: #f0f8ff;}#sk-2c1eb4ab-488e-40a7-ae65-c60b51823bfe input.sk-toggleable__control:checked~div.sk-toggleable__content {max-height: 200px;max-width: 100%;overflow: auto;}#sk-2c1eb4ab-488e-40a7-ae65-c60b51823bfe input.sk-toggleable__control:checked~label.sk-toggleable__label-arrow:before {content: \"▾\";}#sk-2c1eb4ab-488e-40a7-ae65-c60b51823bfe div.sk-estimator input.sk-toggleable__control:checked~label.sk-toggleable__label {background-color: #d4ebff;}#sk-2c1eb4ab-488e-40a7-ae65-c60b51823bfe div.sk-label input.sk-toggleable__control:checked~label.sk-toggleable__label {background-color: #d4ebff;}#sk-2c1eb4ab-488e-40a7-ae65-c60b51823bfe input.sk-hidden--visually {border: 0;clip: rect(1px 1px 1px 1px);clip: rect(1px, 1px, 1px, 1px);height: 1px;margin: -1px;overflow: hidden;padding: 0;position: absolute;width: 1px;}#sk-2c1eb4ab-488e-40a7-ae65-c60b51823bfe div.sk-estimator {font-family: monospace;background-color: #f0f8ff;border: 1px dotted black;border-radius: 0.25em;box-sizing: border-box;margin-bottom: 0.5em;}#sk-2c1eb4ab-488e-40a7-ae65-c60b51823bfe div.sk-estimator:hover {background-color: #d4ebff;}#sk-2c1eb4ab-488e-40a7-ae65-c60b51823bfe div.sk-parallel-item::after {content: \"\";width: 100%;border-bottom: 1px solid gray;flex-grow: 1;}#sk-2c1eb4ab-488e-40a7-ae65-c60b51823bfe div.sk-label:hover label.sk-toggleable__label {background-color: #d4ebff;}#sk-2c1eb4ab-488e-40a7-ae65-c60b51823bfe div.sk-serial::before {content: \"\";position: absolute;border-left: 1px solid gray;box-sizing: border-box;top: 2em;bottom: 0;left: 50%;}#sk-2c1eb4ab-488e-40a7-ae65-c60b51823bfe div.sk-serial {display: flex;flex-direction: column;align-items: center;background-color: white;padding-right: 0.2em;padding-left: 0.2em;}#sk-2c1eb4ab-488e-40a7-ae65-c60b51823bfe div.sk-item {z-index: 1;}#sk-2c1eb4ab-488e-40a7-ae65-c60b51823bfe div.sk-parallel {display: flex;align-items: stretch;justify-content: center;background-color: white;}#sk-2c1eb4ab-488e-40a7-ae65-c60b51823bfe div.sk-parallel::before {content: \"\";position: absolute;border-left: 1px solid gray;box-sizing: border-box;top: 2em;bottom: 0;left: 50%;}#sk-2c1eb4ab-488e-40a7-ae65-c60b51823bfe div.sk-parallel-item {display: flex;flex-direction: column;position: relative;background-color: white;}#sk-2c1eb4ab-488e-40a7-ae65-c60b51823bfe div.sk-parallel-item:first-child::after {align-self: flex-end;width: 50%;}#sk-2c1eb4ab-488e-40a7-ae65-c60b51823bfe div.sk-parallel-item:last-child::after {align-self: flex-start;width: 50%;}#sk-2c1eb4ab-488e-40a7-ae65-c60b51823bfe div.sk-parallel-item:only-child::after {width: 0;}#sk-2c1eb4ab-488e-40a7-ae65-c60b51823bfe div.sk-dashed-wrapped {border: 1px dashed gray;margin: 0 0.4em 0.5em 0.4em;box-sizing: border-box;padding-bottom: 0.4em;background-color: white;position: relative;}#sk-2c1eb4ab-488e-40a7-ae65-c60b51823bfe div.sk-label label {font-family: monospace;font-weight: bold;background-color: white;display: inline-block;line-height: 1.2em;}#sk-2c1eb4ab-488e-40a7-ae65-c60b51823bfe div.sk-label-container {position: relative;z-index: 2;text-align: center;}#sk-2c1eb4ab-488e-40a7-ae65-c60b51823bfe div.sk-container {/* jupyter's `normalize.less` sets `[hidden] { display: none; }` but bootstrap.min.css set `[hidden] { display: none !important; }` so we also need the `!important` here to be able to override the default hidden behavior on the sphinx rendered scikit-learn.org. See: https://github.com/scikit-learn/scikit-learn/issues/21755 */display: inline-block !important;position: relative;}#sk-2c1eb4ab-488e-40a7-ae65-c60b51823bfe div.sk-text-repr-fallback {display: none;}</style><div id=\"sk-2c1eb4ab-488e-40a7-ae65-c60b51823bfe\" class=\"sk-top-container\"><div class=\"sk-text-repr-fallback\"><pre>DecisionTreeClassifier(criterion=&#x27;entropy&#x27;)</pre><b>Please rerun this cell to show the HTML repr or trust the notebook.</b></div><div class=\"sk-container\" hidden><div class=\"sk-item\"><div class=\"sk-estimator sk-toggleable\"><input class=\"sk-toggleable__control sk-hidden--visually\" id=\"45dc3263-4608-4713-a03e-82ae8f7c0b5f\" type=\"checkbox\" checked><label for=\"45dc3263-4608-4713-a03e-82ae8f7c0b5f\" class=\"sk-toggleable__label sk-toggleable__label-arrow\">DecisionTreeClassifier</label><div class=\"sk-toggleable__content\"><pre>DecisionTreeClassifier(criterion=&#x27;entropy&#x27;)</pre></div></div></div></div></div>"
      ],
      "text/plain": [
       "DecisionTreeClassifier(criterion='entropy')"
      ]
     },
     "execution_count": 30,
     "metadata": {},
     "output_type": "execute_result"
    }
   ],
   "source": [
    "best_dtree = DecisionTreeClassifier(criterion=\"entropy\", splitter=\"best\")\n",
    "best_dtree.fit(piped_train, df_survived)"
   ]
  },
  {
   "cell_type": "code",
   "execution_count": 31,
   "id": "0ea55811",
   "metadata": {
    "execution": {
     "iopub.execute_input": "2022-11-19T10:18:40.473278Z",
     "iopub.status.busy": "2022-11-19T10:18:40.472820Z",
     "iopub.status.idle": "2022-11-19T10:18:40.479600Z",
     "shell.execute_reply": "2022-11-19T10:18:40.478685Z"
    },
    "papermill": {
     "duration": 0.033975,
     "end_time": "2022-11-19T10:18:40.481660",
     "exception": false,
     "start_time": "2022-11-19T10:18:40.447685",
     "status": "completed"
    },
    "tags": []
   },
   "outputs": [],
   "source": [
    "pred_dtree = best_dtree.predict(piped_test)"
   ]
  },
  {
   "cell_type": "markdown",
   "id": "f1590836",
   "metadata": {
    "papermill": {
     "duration": 0.023896,
     "end_time": "2022-11-19T10:18:40.529710",
     "exception": false,
     "start_time": "2022-11-19T10:18:40.505814",
     "status": "completed"
    },
    "tags": []
   },
   "source": [
    "### Random Forest"
   ]
  },
  {
   "cell_type": "markdown",
   "id": "d4fa8b1e",
   "metadata": {
    "papermill": {
     "duration": 0.023516,
     "end_time": "2022-11-19T10:18:40.577436",
     "exception": false,
     "start_time": "2022-11-19T10:18:40.553920",
     "status": "completed"
    },
    "tags": []
   },
   "source": [
    "#### Finding best parameter for Random Forest"
   ]
  },
  {
   "cell_type": "code",
   "execution_count": 32,
   "id": "70c17eb4",
   "metadata": {
    "execution": {
     "iopub.execute_input": "2022-11-19T10:18:40.627110Z",
     "iopub.status.busy": "2022-11-19T10:18:40.626408Z",
     "iopub.status.idle": "2022-11-19T10:18:40.633046Z",
     "shell.execute_reply": "2022-11-19T10:18:40.632203Z"
    },
    "papermill": {
     "duration": 0.034181,
     "end_time": "2022-11-19T10:18:40.635481",
     "exception": false,
     "start_time": "2022-11-19T10:18:40.601300",
     "status": "completed"
    },
    "tags": []
   },
   "outputs": [
    {
     "data": {
      "text/plain": [
       "array([0.  , 0.25, 0.5 , 0.75, 1.  , 1.25, 1.5 , 1.75, 2.  , 2.25, 2.5 ,\n",
       "       2.75, 3.  ])"
      ]
     },
     "execution_count": 32,
     "metadata": {},
     "output_type": "execute_result"
    }
   ],
   "source": [
    "np.linspace(0,3,13)"
   ]
  },
  {
   "cell_type": "code",
   "execution_count": 33,
   "id": "8b5c57db",
   "metadata": {
    "execution": {
     "iopub.execute_input": "2022-11-19T10:18:40.686264Z",
     "iopub.status.busy": "2022-11-19T10:18:40.685785Z",
     "iopub.status.idle": "2022-11-19T10:20:39.098534Z",
     "shell.execute_reply": "2022-11-19T10:20:39.097236Z"
    },
    "papermill": {
     "duration": 118.440705,
     "end_time": "2022-11-19T10:20:39.100959",
     "exception": false,
     "start_time": "2022-11-19T10:18:40.660254",
     "status": "completed"
    },
    "scrolled": true,
    "tags": []
   },
   "outputs": [
    {
     "name": "stdout",
     "output_type": "stream",
     "text": [
      "Fitting 5 folds for each of 60 candidates, totalling 300 fits\n",
      "[CV 1/5] END bootstrap=True, criterion=gini, n_estimators=50;, score=0.749 total time=   0.1s\n",
      "[CV 2/5] END bootstrap=True, criterion=gini, n_estimators=50;, score=0.770 total time=   0.1s\n",
      "[CV 3/5] END bootstrap=True, criterion=gini, n_estimators=50;, score=0.815 total time=   0.1s\n",
      "[CV 4/5] END bootstrap=True, criterion=gini, n_estimators=50;, score=0.792 total time=   0.1s\n",
      "[CV 5/5] END bootstrap=True, criterion=gini, n_estimators=50;, score=0.831 total time=   0.1s\n",
      "[CV 1/5] END bootstrap=True, criterion=gini, n_estimators=100;, score=0.771 total time=   0.2s\n",
      "[CV 2/5] END bootstrap=True, criterion=gini, n_estimators=100;, score=0.775 total time=   0.2s\n",
      "[CV 3/5] END bootstrap=True, criterion=gini, n_estimators=100;, score=0.826 total time=   0.2s\n",
      "[CV 4/5] END bootstrap=True, criterion=gini, n_estimators=100;, score=0.792 total time=   0.2s\n",
      "[CV 5/5] END bootstrap=True, criterion=gini, n_estimators=100;, score=0.820 total time=   0.2s\n",
      "[CV 1/5] END bootstrap=True, criterion=gini, n_estimators=150;, score=0.777 total time=   0.3s\n",
      "[CV 2/5] END bootstrap=True, criterion=gini, n_estimators=150;, score=0.770 total time=   0.3s\n",
      "[CV 3/5] END bootstrap=True, criterion=gini, n_estimators=150;, score=0.826 total time=   0.3s\n",
      "[CV 4/5] END bootstrap=True, criterion=gini, n_estimators=150;, score=0.792 total time=   0.3s\n",
      "[CV 5/5] END bootstrap=True, criterion=gini, n_estimators=150;, score=0.831 total time=   0.3s\n",
      "[CV 1/5] END bootstrap=True, criterion=gini, n_estimators=200;, score=0.771 total time=   0.4s\n",
      "[CV 2/5] END bootstrap=True, criterion=gini, n_estimators=200;, score=0.775 total time=   0.4s\n",
      "[CV 3/5] END bootstrap=True, criterion=gini, n_estimators=200;, score=0.826 total time=   0.4s\n",
      "[CV 4/5] END bootstrap=True, criterion=gini, n_estimators=200;, score=0.792 total time=   0.4s\n",
      "[CV 5/5] END bootstrap=True, criterion=gini, n_estimators=200;, score=0.820 total time=   0.4s\n",
      "[CV 1/5] END bootstrap=True, criterion=gini, n_estimators=250;, score=0.760 total time=   0.5s\n",
      "[CV 2/5] END bootstrap=True, criterion=gini, n_estimators=250;, score=0.781 total time=   0.5s\n",
      "[CV 3/5] END bootstrap=True, criterion=gini, n_estimators=250;, score=0.820 total time=   0.5s\n",
      "[CV 4/5] END bootstrap=True, criterion=gini, n_estimators=250;, score=0.792 total time=   0.5s\n",
      "[CV 5/5] END bootstrap=True, criterion=gini, n_estimators=250;, score=0.837 total time=   0.5s\n",
      "[CV 1/5] END bootstrap=True, criterion=gini, n_estimators=300;, score=0.765 total time=   0.6s\n",
      "[CV 2/5] END bootstrap=True, criterion=gini, n_estimators=300;, score=0.770 total time=   0.6s\n",
      "[CV 3/5] END bootstrap=True, criterion=gini, n_estimators=300;, score=0.826 total time=   0.6s\n",
      "[CV 4/5] END bootstrap=True, criterion=gini, n_estimators=300;, score=0.798 total time=   0.6s\n",
      "[CV 5/5] END bootstrap=True, criterion=gini, n_estimators=300;, score=0.826 total time=   0.6s\n",
      "[CV 1/5] END bootstrap=True, criterion=gini, n_estimators=350;, score=0.777 total time=   0.7s\n",
      "[CV 2/5] END bootstrap=True, criterion=gini, n_estimators=350;, score=0.787 total time=   0.7s\n",
      "[CV 3/5] END bootstrap=True, criterion=gini, n_estimators=350;, score=0.831 total time=   0.7s\n",
      "[CV 4/5] END bootstrap=True, criterion=gini, n_estimators=350;, score=0.792 total time=   0.7s\n",
      "[CV 5/5] END bootstrap=True, criterion=gini, n_estimators=350;, score=0.826 total time=   0.7s\n",
      "[CV 1/5] END bootstrap=True, criterion=gini, n_estimators=400;, score=0.771 total time=   0.8s\n",
      "[CV 2/5] END bootstrap=True, criterion=gini, n_estimators=400;, score=0.770 total time=   0.8s\n",
      "[CV 3/5] END bootstrap=True, criterion=gini, n_estimators=400;, score=0.826 total time=   0.8s\n",
      "[CV 4/5] END bootstrap=True, criterion=gini, n_estimators=400;, score=0.792 total time=   0.8s\n",
      "[CV 5/5] END bootstrap=True, criterion=gini, n_estimators=400;, score=0.831 total time=   0.8s\n",
      "[CV 1/5] END bootstrap=True, criterion=gini, n_estimators=450;, score=0.765 total time=   0.9s\n",
      "[CV 2/5] END bootstrap=True, criterion=gini, n_estimators=450;, score=0.775 total time=   0.9s\n",
      "[CV 3/5] END bootstrap=True, criterion=gini, n_estimators=450;, score=0.820 total time=   0.9s\n",
      "[CV 4/5] END bootstrap=True, criterion=gini, n_estimators=450;, score=0.798 total time=   0.9s\n",
      "[CV 5/5] END bootstrap=True, criterion=gini, n_estimators=450;, score=0.826 total time=   0.9s\n",
      "[CV 1/5] END bootstrap=True, criterion=gini, n_estimators=500;, score=0.765 total time=   1.0s\n",
      "[CV 2/5] END bootstrap=True, criterion=gini, n_estimators=500;, score=0.770 total time=   1.0s\n",
      "[CV 3/5] END bootstrap=True, criterion=gini, n_estimators=500;, score=0.831 total time=   1.0s\n",
      "[CV 4/5] END bootstrap=True, criterion=gini, n_estimators=500;, score=0.792 total time=   1.0s\n",
      "[CV 5/5] END bootstrap=True, criterion=gini, n_estimators=500;, score=0.831 total time=   1.0s\n",
      "[CV 1/5] END bootstrap=True, criterion=entropy, n_estimators=50;, score=0.771 total time=   0.1s\n",
      "[CV 2/5] END bootstrap=True, criterion=entropy, n_estimators=50;, score=0.758 total time=   0.1s\n",
      "[CV 3/5] END bootstrap=True, criterion=entropy, n_estimators=50;, score=0.826 total time=   0.1s\n",
      "[CV 4/5] END bootstrap=True, criterion=entropy, n_estimators=50;, score=0.798 total time=   0.1s\n",
      "[CV 5/5] END bootstrap=True, criterion=entropy, n_estimators=50;, score=0.831 total time=   0.1s\n",
      "[CV 1/5] END bootstrap=True, criterion=entropy, n_estimators=100;, score=0.771 total time=   0.2s\n",
      "[CV 2/5] END bootstrap=True, criterion=entropy, n_estimators=100;, score=0.787 total time=   0.2s\n",
      "[CV 3/5] END bootstrap=True, criterion=entropy, n_estimators=100;, score=0.820 total time=   0.2s\n",
      "[CV 4/5] END bootstrap=True, criterion=entropy, n_estimators=100;, score=0.792 total time=   0.2s\n",
      "[CV 5/5] END bootstrap=True, criterion=entropy, n_estimators=100;, score=0.820 total time=   0.2s\n",
      "[CV 1/5] END bootstrap=True, criterion=entropy, n_estimators=150;, score=0.765 total time=   0.3s\n",
      "[CV 2/5] END bootstrap=True, criterion=entropy, n_estimators=150;, score=0.770 total time=   0.3s\n",
      "[CV 3/5] END bootstrap=True, criterion=entropy, n_estimators=150;, score=0.831 total time=   0.3s\n",
      "[CV 4/5] END bootstrap=True, criterion=entropy, n_estimators=150;, score=0.798 total time=   0.3s\n",
      "[CV 5/5] END bootstrap=True, criterion=entropy, n_estimators=150;, score=0.848 total time=   0.3s\n",
      "[CV 1/5] END bootstrap=True, criterion=entropy, n_estimators=200;, score=0.754 total time=   0.4s\n",
      "[CV 2/5] END bootstrap=True, criterion=entropy, n_estimators=200;, score=0.775 total time=   0.4s\n",
      "[CV 3/5] END bootstrap=True, criterion=entropy, n_estimators=200;, score=0.831 total time=   0.4s\n",
      "[CV 4/5] END bootstrap=True, criterion=entropy, n_estimators=200;, score=0.792 total time=   0.4s\n",
      "[CV 5/5] END bootstrap=True, criterion=entropy, n_estimators=200;, score=0.826 total time=   0.4s\n",
      "[CV 1/5] END bootstrap=True, criterion=entropy, n_estimators=250;, score=0.760 total time=   0.5s\n",
      "[CV 2/5] END bootstrap=True, criterion=entropy, n_estimators=250;, score=0.770 total time=   0.5s\n",
      "[CV 3/5] END bootstrap=True, criterion=entropy, n_estimators=250;, score=0.826 total time=   0.5s\n",
      "[CV 4/5] END bootstrap=True, criterion=entropy, n_estimators=250;, score=0.792 total time=   0.5s\n",
      "[CV 5/5] END bootstrap=True, criterion=entropy, n_estimators=250;, score=0.826 total time=   0.5s\n",
      "[CV 1/5] END bootstrap=True, criterion=entropy, n_estimators=300;, score=0.777 total time=   0.6s\n",
      "[CV 2/5] END bootstrap=True, criterion=entropy, n_estimators=300;, score=0.770 total time=   0.6s\n",
      "[CV 3/5] END bootstrap=True, criterion=entropy, n_estimators=300;, score=0.826 total time=   0.6s\n",
      "[CV 4/5] END bootstrap=True, criterion=entropy, n_estimators=300;, score=0.792 total time=   0.6s\n",
      "[CV 5/5] END bootstrap=True, criterion=entropy, n_estimators=300;, score=0.826 total time=   0.6s\n",
      "[CV 1/5] END bootstrap=True, criterion=entropy, n_estimators=350;, score=0.777 total time=   0.7s\n",
      "[CV 2/5] END bootstrap=True, criterion=entropy, n_estimators=350;, score=0.770 total time=   0.7s\n",
      "[CV 3/5] END bootstrap=True, criterion=entropy, n_estimators=350;, score=0.826 total time=   0.7s\n",
      "[CV 4/5] END bootstrap=True, criterion=entropy, n_estimators=350;, score=0.792 total time=   0.7s\n",
      "[CV 5/5] END bootstrap=True, criterion=entropy, n_estimators=350;, score=0.820 total time=   0.7s\n",
      "[CV 1/5] END bootstrap=True, criterion=entropy, n_estimators=400;, score=0.765 total time=   0.8s\n",
      "[CV 2/5] END bootstrap=True, criterion=entropy, n_estimators=400;, score=0.775 total time=   0.8s\n",
      "[CV 3/5] END bootstrap=True, criterion=entropy, n_estimators=400;, score=0.826 total time=   0.8s\n",
      "[CV 4/5] END bootstrap=True, criterion=entropy, n_estimators=400;, score=0.798 total time=   0.8s\n",
      "[CV 5/5] END bootstrap=True, criterion=entropy, n_estimators=400;, score=0.820 total time=   0.8s\n",
      "[CV 1/5] END bootstrap=True, criterion=entropy, n_estimators=450;, score=0.760 total time=   0.9s\n",
      "[CV 2/5] END bootstrap=True, criterion=entropy, n_estimators=450;, score=0.764 total time=   1.0s\n",
      "[CV 3/5] END bootstrap=True, criterion=entropy, n_estimators=450;, score=0.831 total time=   1.1s\n",
      "[CV 4/5] END bootstrap=True, criterion=entropy, n_estimators=450;, score=0.792 total time=   0.9s\n",
      "[CV 5/5] END bootstrap=True, criterion=entropy, n_estimators=450;, score=0.831 total time=   0.9s\n",
      "[CV 1/5] END bootstrap=True, criterion=entropy, n_estimators=500;, score=0.771 total time=   1.0s\n",
      "[CV 2/5] END bootstrap=True, criterion=entropy, n_estimators=500;, score=0.775 total time=   1.0s\n",
      "[CV 3/5] END bootstrap=True, criterion=entropy, n_estimators=500;, score=0.831 total time=   1.0s\n",
      "[CV 4/5] END bootstrap=True, criterion=entropy, n_estimators=500;, score=0.792 total time=   1.0s\n",
      "[CV 5/5] END bootstrap=True, criterion=entropy, n_estimators=500;, score=0.831 total time=   1.1s\n",
      "[CV 1/5] END bootstrap=True, criterion=log_loss, n_estimators=50;, score=nan total time=   0.0s\n",
      "[CV 2/5] END bootstrap=True, criterion=log_loss, n_estimators=50;, score=nan total time=   0.0s\n",
      "[CV 3/5] END bootstrap=True, criterion=log_loss, n_estimators=50;, score=nan total time=   0.0s\n",
      "[CV 4/5] END bootstrap=True, criterion=log_loss, n_estimators=50;, score=nan total time=   0.0s\n",
      "[CV 5/5] END bootstrap=True, criterion=log_loss, n_estimators=50;, score=nan total time=   0.0s\n",
      "[CV 1/5] END bootstrap=True, criterion=log_loss, n_estimators=100;, score=nan total time=   0.0s\n",
      "[CV 2/5] END bootstrap=True, criterion=log_loss, n_estimators=100;, score=nan total time=   0.0s\n",
      "[CV 3/5] END bootstrap=True, criterion=log_loss, n_estimators=100;, score=nan total time=   0.0s\n",
      "[CV 4/5] END bootstrap=True, criterion=log_loss, n_estimators=100;, score=nan total time=   0.0s\n",
      "[CV 5/5] END bootstrap=True, criterion=log_loss, n_estimators=100;, score=nan total time=   0.0s\n",
      "[CV 1/5] END bootstrap=True, criterion=log_loss, n_estimators=150;, score=nan total time=   0.1s\n",
      "[CV 2/5] END bootstrap=True, criterion=log_loss, n_estimators=150;, score=nan total time=   0.1s\n",
      "[CV 3/5] END bootstrap=True, criterion=log_loss, n_estimators=150;, score=nan total time=   0.1s\n",
      "[CV 4/5] END bootstrap=True, criterion=log_loss, n_estimators=150;, score=nan total time=   0.1s\n",
      "[CV 5/5] END bootstrap=True, criterion=log_loss, n_estimators=150;, score=nan total time=   0.1s\n",
      "[CV 1/5] END bootstrap=True, criterion=log_loss, n_estimators=200;, score=nan total time=   0.1s\n",
      "[CV 2/5] END bootstrap=True, criterion=log_loss, n_estimators=200;, score=nan total time=   0.1s\n",
      "[CV 3/5] END bootstrap=True, criterion=log_loss, n_estimators=200;, score=nan total time=   0.1s\n",
      "[CV 4/5] END bootstrap=True, criterion=log_loss, n_estimators=200;, score=nan total time=   0.1s\n",
      "[CV 5/5] END bootstrap=True, criterion=log_loss, n_estimators=200;, score=nan total time=   0.1s\n",
      "[CV 1/5] END bootstrap=True, criterion=log_loss, n_estimators=250;, score=nan total time=   0.1s\n",
      "[CV 2/5] END bootstrap=True, criterion=log_loss, n_estimators=250;, score=nan total time=   0.1s\n",
      "[CV 3/5] END bootstrap=True, criterion=log_loss, n_estimators=250;, score=nan total time=   0.1s\n",
      "[CV 4/5] END bootstrap=True, criterion=log_loss, n_estimators=250;, score=nan total time=   0.1s\n",
      "[CV 5/5] END bootstrap=True, criterion=log_loss, n_estimators=250;, score=nan total time=   0.1s\n",
      "[CV 1/5] END bootstrap=True, criterion=log_loss, n_estimators=300;, score=nan total time=   0.1s\n",
      "[CV 2/5] END bootstrap=True, criterion=log_loss, n_estimators=300;, score=nan total time=   0.1s\n",
      "[CV 3/5] END bootstrap=True, criterion=log_loss, n_estimators=300;, score=nan total time=   0.1s\n",
      "[CV 4/5] END bootstrap=True, criterion=log_loss, n_estimators=300;, score=nan total time=   0.1s\n",
      "[CV 5/5] END bootstrap=True, criterion=log_loss, n_estimators=300;, score=nan total time=   0.1s\n",
      "[CV 1/5] END bootstrap=True, criterion=log_loss, n_estimators=350;, score=nan total time=   0.1s\n",
      "[CV 2/5] END bootstrap=True, criterion=log_loss, n_estimators=350;, score=nan total time=   0.1s\n",
      "[CV 3/5] END bootstrap=True, criterion=log_loss, n_estimators=350;, score=nan total time=   0.1s\n",
      "[CV 4/5] END bootstrap=True, criterion=log_loss, n_estimators=350;, score=nan total time=   0.1s\n",
      "[CV 5/5] END bootstrap=True, criterion=log_loss, n_estimators=350;, score=nan total time=   0.1s\n",
      "[CV 1/5] END bootstrap=True, criterion=log_loss, n_estimators=400;, score=nan total time=   0.2s\n",
      "[CV 2/5] END bootstrap=True, criterion=log_loss, n_estimators=400;, score=nan total time=   0.2s\n",
      "[CV 3/5] END bootstrap=True, criterion=log_loss, n_estimators=400;, score=nan total time=   0.2s\n",
      "[CV 4/5] END bootstrap=True, criterion=log_loss, n_estimators=400;, score=nan total time=   0.2s\n",
      "[CV 5/5] END bootstrap=True, criterion=log_loss, n_estimators=400;, score=nan total time=   0.2s\n",
      "[CV 1/5] END bootstrap=True, criterion=log_loss, n_estimators=450;, score=nan total time=   0.2s\n",
      "[CV 2/5] END bootstrap=True, criterion=log_loss, n_estimators=450;, score=nan total time=   0.2s\n",
      "[CV 3/5] END bootstrap=True, criterion=log_loss, n_estimators=450;, score=nan total time=   0.2s\n",
      "[CV 4/5] END bootstrap=True, criterion=log_loss, n_estimators=450;, score=nan total time=   0.2s\n",
      "[CV 5/5] END bootstrap=True, criterion=log_loss, n_estimators=450;, score=nan total time=   0.2s\n",
      "[CV 1/5] END bootstrap=True, criterion=log_loss, n_estimators=500;, score=nan total time=   0.2s\n",
      "[CV 2/5] END bootstrap=True, criterion=log_loss, n_estimators=500;, score=nan total time=   0.2s\n",
      "[CV 3/5] END bootstrap=True, criterion=log_loss, n_estimators=500;, score=nan total time=   0.2s\n",
      "[CV 4/5] END bootstrap=True, criterion=log_loss, n_estimators=500;, score=nan total time=   0.2s\n",
      "[CV 5/5] END bootstrap=True, criterion=log_loss, n_estimators=500;, score=nan total time=   0.2s\n",
      "[CV 1/5] END bootstrap=False, criterion=gini, n_estimators=50;, score=0.749 total time=   0.1s\n",
      "[CV 2/5] END bootstrap=False, criterion=gini, n_estimators=50;, score=0.758 total time=   0.1s\n",
      "[CV 3/5] END bootstrap=False, criterion=gini, n_estimators=50;, score=0.820 total time=   0.1s\n",
      "[CV 4/5] END bootstrap=False, criterion=gini, n_estimators=50;, score=0.787 total time=   0.1s\n",
      "[CV 5/5] END bootstrap=False, criterion=gini, n_estimators=50;, score=0.809 total time=   0.1s\n",
      "[CV 1/5] END bootstrap=False, criterion=gini, n_estimators=100;, score=0.760 total time=   0.2s\n",
      "[CV 2/5] END bootstrap=False, criterion=gini, n_estimators=100;, score=0.758 total time=   0.2s\n",
      "[CV 3/5] END bootstrap=False, criterion=gini, n_estimators=100;, score=0.815 total time=   0.2s\n",
      "[CV 4/5] END bootstrap=False, criterion=gini, n_estimators=100;, score=0.803 total time=   0.2s\n",
      "[CV 5/5] END bootstrap=False, criterion=gini, n_estimators=100;, score=0.815 total time=   0.2s\n",
      "[CV 1/5] END bootstrap=False, criterion=gini, n_estimators=150;, score=0.760 total time=   0.3s\n",
      "[CV 2/5] END bootstrap=False, criterion=gini, n_estimators=150;, score=0.758 total time=   0.3s\n",
      "[CV 3/5] END bootstrap=False, criterion=gini, n_estimators=150;, score=0.826 total time=   0.3s\n",
      "[CV 4/5] END bootstrap=False, criterion=gini, n_estimators=150;, score=0.792 total time=   0.3s\n",
      "[CV 5/5] END bootstrap=False, criterion=gini, n_estimators=150;, score=0.820 total time=   0.3s\n",
      "[CV 1/5] END bootstrap=False, criterion=gini, n_estimators=200;, score=0.760 total time=   0.4s\n",
      "[CV 2/5] END bootstrap=False, criterion=gini, n_estimators=200;, score=0.758 total time=   0.4s\n",
      "[CV 3/5] END bootstrap=False, criterion=gini, n_estimators=200;, score=0.826 total time=   0.4s\n",
      "[CV 4/5] END bootstrap=False, criterion=gini, n_estimators=200;, score=0.792 total time=   0.4s\n",
      "[CV 5/5] END bootstrap=False, criterion=gini, n_estimators=200;, score=0.815 total time=   0.4s\n",
      "[CV 1/5] END bootstrap=False, criterion=gini, n_estimators=250;, score=0.743 total time=   0.5s\n",
      "[CV 2/5] END bootstrap=False, criterion=gini, n_estimators=250;, score=0.758 total time=   0.5s\n",
      "[CV 3/5] END bootstrap=False, criterion=gini, n_estimators=250;, score=0.820 total time=   0.4s\n",
      "[CV 4/5] END bootstrap=False, criterion=gini, n_estimators=250;, score=0.787 total time=   0.4s\n",
      "[CV 5/5] END bootstrap=False, criterion=gini, n_estimators=250;, score=0.820 total time=   0.5s\n",
      "[CV 1/5] END bootstrap=False, criterion=gini, n_estimators=300;, score=0.754 total time=   0.5s\n",
      "[CV 2/5] END bootstrap=False, criterion=gini, n_estimators=300;, score=0.764 total time=   0.5s\n",
      "[CV 3/5] END bootstrap=False, criterion=gini, n_estimators=300;, score=0.820 total time=   0.5s\n",
      "[CV 4/5] END bootstrap=False, criterion=gini, n_estimators=300;, score=0.781 total time=   0.5s\n",
      "[CV 5/5] END bootstrap=False, criterion=gini, n_estimators=300;, score=0.820 total time=   0.5s\n",
      "[CV 1/5] END bootstrap=False, criterion=gini, n_estimators=350;, score=0.754 total time=   0.6s\n",
      "[CV 2/5] END bootstrap=False, criterion=gini, n_estimators=350;, score=0.758 total time=   0.6s\n",
      "[CV 3/5] END bootstrap=False, criterion=gini, n_estimators=350;, score=0.826 total time=   0.6s\n",
      "[CV 4/5] END bootstrap=False, criterion=gini, n_estimators=350;, score=0.798 total time=   0.6s\n",
      "[CV 5/5] END bootstrap=False, criterion=gini, n_estimators=350;, score=0.826 total time=   0.6s\n",
      "[CV 1/5] END bootstrap=False, criterion=gini, n_estimators=400;, score=0.765 total time=   0.7s\n",
      "[CV 2/5] END bootstrap=False, criterion=gini, n_estimators=400;, score=0.758 total time=   0.7s\n",
      "[CV 3/5] END bootstrap=False, criterion=gini, n_estimators=400;, score=0.826 total time=   0.7s\n",
      "[CV 4/5] END bootstrap=False, criterion=gini, n_estimators=400;, score=0.792 total time=   0.7s\n",
      "[CV 5/5] END bootstrap=False, criterion=gini, n_estimators=400;, score=0.809 total time=   0.7s\n",
      "[CV 1/5] END bootstrap=False, criterion=gini, n_estimators=450;, score=0.754 total time=   0.8s\n",
      "[CV 2/5] END bootstrap=False, criterion=gini, n_estimators=450;, score=0.758 total time=   0.9s\n",
      "[CV 3/5] END bootstrap=False, criterion=gini, n_estimators=450;, score=0.826 total time=   0.8s\n",
      "[CV 4/5] END bootstrap=False, criterion=gini, n_estimators=450;, score=0.781 total time=   0.8s\n",
      "[CV 5/5] END bootstrap=False, criterion=gini, n_estimators=450;, score=0.815 total time=   0.8s\n",
      "[CV 1/5] END bootstrap=False, criterion=gini, n_estimators=500;, score=0.760 total time=   0.9s\n",
      "[CV 2/5] END bootstrap=False, criterion=gini, n_estimators=500;, score=0.758 total time=   0.9s\n",
      "[CV 3/5] END bootstrap=False, criterion=gini, n_estimators=500;, score=0.826 total time=   0.9s\n",
      "[CV 4/5] END bootstrap=False, criterion=gini, n_estimators=500;, score=0.792 total time=   0.9s\n",
      "[CV 5/5] END bootstrap=False, criterion=gini, n_estimators=500;, score=0.815 total time=   0.9s\n",
      "[CV 1/5] END bootstrap=False, criterion=entropy, n_estimators=50;, score=0.760 total time=   0.1s\n",
      "[CV 2/5] END bootstrap=False, criterion=entropy, n_estimators=50;, score=0.758 total time=   0.1s\n",
      "[CV 3/5] END bootstrap=False, criterion=entropy, n_estimators=50;, score=0.815 total time=   0.1s\n",
      "[CV 4/5] END bootstrap=False, criterion=entropy, n_estimators=50;, score=0.781 total time=   0.1s\n",
      "[CV 5/5] END bootstrap=False, criterion=entropy, n_estimators=50;, score=0.815 total time=   0.1s\n",
      "[CV 1/5] END bootstrap=False, criterion=entropy, n_estimators=100;, score=0.749 total time=   0.2s\n",
      "[CV 2/5] END bootstrap=False, criterion=entropy, n_estimators=100;, score=0.764 total time=   0.2s\n",
      "[CV 3/5] END bootstrap=False, criterion=entropy, n_estimators=100;, score=0.820 total time=   0.2s\n",
      "[CV 4/5] END bootstrap=False, criterion=entropy, n_estimators=100;, score=0.787 total time=   0.2s\n",
      "[CV 5/5] END bootstrap=False, criterion=entropy, n_estimators=100;, score=0.815 total time=   0.2s\n",
      "[CV 1/5] END bootstrap=False, criterion=entropy, n_estimators=150;, score=0.749 total time=   0.3s\n",
      "[CV 2/5] END bootstrap=False, criterion=entropy, n_estimators=150;, score=0.758 total time=   0.3s\n",
      "[CV 3/5] END bootstrap=False, criterion=entropy, n_estimators=150;, score=0.826 total time=   0.3s\n",
      "[CV 4/5] END bootstrap=False, criterion=entropy, n_estimators=150;, score=0.792 total time=   0.3s\n",
      "[CV 5/5] END bootstrap=False, criterion=entropy, n_estimators=150;, score=0.826 total time=   0.3s\n",
      "[CV 1/5] END bootstrap=False, criterion=entropy, n_estimators=200;, score=0.749 total time=   0.4s\n",
      "[CV 2/5] END bootstrap=False, criterion=entropy, n_estimators=200;, score=0.770 total time=   0.4s\n",
      "[CV 3/5] END bootstrap=False, criterion=entropy, n_estimators=200;, score=0.826 total time=   0.4s\n",
      "[CV 4/5] END bootstrap=False, criterion=entropy, n_estimators=200;, score=0.787 total time=   0.4s\n",
      "[CV 5/5] END bootstrap=False, criterion=entropy, n_estimators=200;, score=0.826 total time=   0.4s\n",
      "[CV 1/5] END bootstrap=False, criterion=entropy, n_estimators=250;, score=0.749 total time=   0.5s\n",
      "[CV 2/5] END bootstrap=False, criterion=entropy, n_estimators=250;, score=0.758 total time=   0.5s\n",
      "[CV 3/5] END bootstrap=False, criterion=entropy, n_estimators=250;, score=0.826 total time=   0.5s\n",
      "[CV 4/5] END bootstrap=False, criterion=entropy, n_estimators=250;, score=0.787 total time=   0.5s\n",
      "[CV 5/5] END bootstrap=False, criterion=entropy, n_estimators=250;, score=0.820 total time=   0.5s\n",
      "[CV 1/5] END bootstrap=False, criterion=entropy, n_estimators=300;, score=0.749 total time=   0.6s\n",
      "[CV 2/5] END bootstrap=False, criterion=entropy, n_estimators=300;, score=0.758 total time=   0.5s\n",
      "[CV 3/5] END bootstrap=False, criterion=entropy, n_estimators=300;, score=0.826 total time=   0.6s\n",
      "[CV 4/5] END bootstrap=False, criterion=entropy, n_estimators=300;, score=0.787 total time=   0.6s\n",
      "[CV 5/5] END bootstrap=False, criterion=entropy, n_estimators=300;, score=0.820 total time=   0.6s\n",
      "[CV 1/5] END bootstrap=False, criterion=entropy, n_estimators=350;, score=0.743 total time=   0.6s\n",
      "[CV 2/5] END bootstrap=False, criterion=entropy, n_estimators=350;, score=0.764 total time=   0.6s\n",
      "[CV 3/5] END bootstrap=False, criterion=entropy, n_estimators=350;, score=0.826 total time=   0.6s\n",
      "[CV 4/5] END bootstrap=False, criterion=entropy, n_estimators=350;, score=0.787 total time=   0.6s\n",
      "[CV 5/5] END bootstrap=False, criterion=entropy, n_estimators=350;, score=0.815 total time=   0.7s\n",
      "[CV 1/5] END bootstrap=False, criterion=entropy, n_estimators=400;, score=0.754 total time=   0.8s\n",
      "[CV 2/5] END bootstrap=False, criterion=entropy, n_estimators=400;, score=0.758 total time=   0.7s\n",
      "[CV 3/5] END bootstrap=False, criterion=entropy, n_estimators=400;, score=0.826 total time=   0.7s\n",
      "[CV 4/5] END bootstrap=False, criterion=entropy, n_estimators=400;, score=0.781 total time=   0.7s\n",
      "[CV 5/5] END bootstrap=False, criterion=entropy, n_estimators=400;, score=0.820 total time=   0.7s\n",
      "[CV 1/5] END bootstrap=False, criterion=entropy, n_estimators=450;, score=0.754 total time=   0.8s\n",
      "[CV 2/5] END bootstrap=False, criterion=entropy, n_estimators=450;, score=0.758 total time=   0.8s\n",
      "[CV 3/5] END bootstrap=False, criterion=entropy, n_estimators=450;, score=0.826 total time=   0.8s\n",
      "[CV 4/5] END bootstrap=False, criterion=entropy, n_estimators=450;, score=0.781 total time=   0.8s\n",
      "[CV 5/5] END bootstrap=False, criterion=entropy, n_estimators=450;, score=0.815 total time=   0.8s\n",
      "[CV 1/5] END bootstrap=False, criterion=entropy, n_estimators=500;, score=0.754 total time=   0.9s\n",
      "[CV 2/5] END bootstrap=False, criterion=entropy, n_estimators=500;, score=0.758 total time=   0.9s\n",
      "[CV 3/5] END bootstrap=False, criterion=entropy, n_estimators=500;, score=0.826 total time=   0.9s\n",
      "[CV 4/5] END bootstrap=False, criterion=entropy, n_estimators=500;, score=0.792 total time=   1.0s\n",
      "[CV 5/5] END bootstrap=False, criterion=entropy, n_estimators=500;, score=0.826 total time=   0.9s\n",
      "[CV 1/5] END bootstrap=False, criterion=log_loss, n_estimators=50;, score=nan total time=   0.0s\n",
      "[CV 2/5] END bootstrap=False, criterion=log_loss, n_estimators=50;, score=nan total time=   0.0s\n",
      "[CV 3/5] END bootstrap=False, criterion=log_loss, n_estimators=50;, score=nan total time=   0.0s\n",
      "[CV 4/5] END bootstrap=False, criterion=log_loss, n_estimators=50;, score=nan total time=   0.0s\n",
      "[CV 5/5] END bootstrap=False, criterion=log_loss, n_estimators=50;, score=nan total time=   0.0s\n",
      "[CV 1/5] END bootstrap=False, criterion=log_loss, n_estimators=100;, score=nan total time=   0.0s\n",
      "[CV 2/5] END bootstrap=False, criterion=log_loss, n_estimators=100;, score=nan total time=   0.0s\n",
      "[CV 3/5] END bootstrap=False, criterion=log_loss, n_estimators=100;, score=nan total time=   0.0s\n",
      "[CV 4/5] END bootstrap=False, criterion=log_loss, n_estimators=100;, score=nan total time=   0.0s\n",
      "[CV 5/5] END bootstrap=False, criterion=log_loss, n_estimators=100;, score=nan total time=   0.0s\n",
      "[CV 1/5] END bootstrap=False, criterion=log_loss, n_estimators=150;, score=nan total time=   0.1s\n",
      "[CV 2/5] END bootstrap=False, criterion=log_loss, n_estimators=150;, score=nan total time=   0.1s\n",
      "[CV 3/5] END bootstrap=False, criterion=log_loss, n_estimators=150;, score=nan total time=   0.1s\n",
      "[CV 4/5] END bootstrap=False, criterion=log_loss, n_estimators=150;, score=nan total time=   0.1s\n",
      "[CV 5/5] END bootstrap=False, criterion=log_loss, n_estimators=150;, score=nan total time=   0.1s\n",
      "[CV 1/5] END bootstrap=False, criterion=log_loss, n_estimators=200;, score=nan total time=   0.1s\n",
      "[CV 2/5] END bootstrap=False, criterion=log_loss, n_estimators=200;, score=nan total time=   0.1s\n",
      "[CV 3/5] END bootstrap=False, criterion=log_loss, n_estimators=200;, score=nan total time=   0.1s\n",
      "[CV 4/5] END bootstrap=False, criterion=log_loss, n_estimators=200;, score=nan total time=   0.1s\n",
      "[CV 5/5] END bootstrap=False, criterion=log_loss, n_estimators=200;, score=nan total time=   0.1s\n",
      "[CV 1/5] END bootstrap=False, criterion=log_loss, n_estimators=250;, score=nan total time=   0.1s\n",
      "[CV 2/5] END bootstrap=False, criterion=log_loss, n_estimators=250;, score=nan total time=   0.1s\n",
      "[CV 3/5] END bootstrap=False, criterion=log_loss, n_estimators=250;, score=nan total time=   0.1s\n",
      "[CV 4/5] END bootstrap=False, criterion=log_loss, n_estimators=250;, score=nan total time=   0.1s\n",
      "[CV 5/5] END bootstrap=False, criterion=log_loss, n_estimators=250;, score=nan total time=   0.1s\n",
      "[CV 1/5] END bootstrap=False, criterion=log_loss, n_estimators=300;, score=nan total time=   0.1s\n",
      "[CV 2/5] END bootstrap=False, criterion=log_loss, n_estimators=300;, score=nan total time=   0.1s\n",
      "[CV 3/5] END bootstrap=False, criterion=log_loss, n_estimators=300;, score=nan total time=   0.1s\n",
      "[CV 4/5] END bootstrap=False, criterion=log_loss, n_estimators=300;, score=nan total time=   0.1s\n",
      "[CV 5/5] END bootstrap=False, criterion=log_loss, n_estimators=300;, score=nan total time=   0.1s\n",
      "[CV 1/5] END bootstrap=False, criterion=log_loss, n_estimators=350;, score=nan total time=   0.1s\n",
      "[CV 2/5] END bootstrap=False, criterion=log_loss, n_estimators=350;, score=nan total time=   0.1s\n",
      "[CV 3/5] END bootstrap=False, criterion=log_loss, n_estimators=350;, score=nan total time=   0.1s\n",
      "[CV 4/5] END bootstrap=False, criterion=log_loss, n_estimators=350;, score=nan total time=   0.1s\n",
      "[CV 5/5] END bootstrap=False, criterion=log_loss, n_estimators=350;, score=nan total time=   0.1s\n",
      "[CV 1/5] END bootstrap=False, criterion=log_loss, n_estimators=400;, score=nan total time=   0.2s\n",
      "[CV 2/5] END bootstrap=False, criterion=log_loss, n_estimators=400;, score=nan total time=   0.2s\n",
      "[CV 3/5] END bootstrap=False, criterion=log_loss, n_estimators=400;, score=nan total time=   0.2s\n",
      "[CV 4/5] END bootstrap=False, criterion=log_loss, n_estimators=400;, score=nan total time=   0.2s\n",
      "[CV 5/5] END bootstrap=False, criterion=log_loss, n_estimators=400;, score=nan total time=   0.2s\n",
      "[CV 1/5] END bootstrap=False, criterion=log_loss, n_estimators=450;, score=nan total time=   0.2s\n",
      "[CV 2/5] END bootstrap=False, criterion=log_loss, n_estimators=450;, score=nan total time=   0.2s\n",
      "[CV 3/5] END bootstrap=False, criterion=log_loss, n_estimators=450;, score=nan total time=   0.2s\n",
      "[CV 4/5] END bootstrap=False, criterion=log_loss, n_estimators=450;, score=nan total time=   0.2s\n",
      "[CV 5/5] END bootstrap=False, criterion=log_loss, n_estimators=450;, score=nan total time=   0.2s\n",
      "[CV 1/5] END bootstrap=False, criterion=log_loss, n_estimators=500;, score=nan total time=   0.2s\n",
      "[CV 2/5] END bootstrap=False, criterion=log_loss, n_estimators=500;, score=nan total time=   0.2s\n",
      "[CV 3/5] END bootstrap=False, criterion=log_loss, n_estimators=500;, score=nan total time=   0.2s\n",
      "[CV 4/5] END bootstrap=False, criterion=log_loss, n_estimators=500;, score=nan total time=   0.2s\n",
      "[CV 5/5] END bootstrap=False, criterion=log_loss, n_estimators=500;, score=nan total time=   0.2s\n"
     ]
    },
    {
     "data": {
      "text/html": [
       "<style>#sk-13cec576-8d94-4d43-a772-c5907db35534 {color: black;background-color: white;}#sk-13cec576-8d94-4d43-a772-c5907db35534 pre{padding: 0;}#sk-13cec576-8d94-4d43-a772-c5907db35534 div.sk-toggleable {background-color: white;}#sk-13cec576-8d94-4d43-a772-c5907db35534 label.sk-toggleable__label {cursor: pointer;display: block;width: 100%;margin-bottom: 0;padding: 0.3em;box-sizing: border-box;text-align: center;}#sk-13cec576-8d94-4d43-a772-c5907db35534 label.sk-toggleable__label-arrow:before {content: \"▸\";float: left;margin-right: 0.25em;color: #696969;}#sk-13cec576-8d94-4d43-a772-c5907db35534 label.sk-toggleable__label-arrow:hover:before {color: black;}#sk-13cec576-8d94-4d43-a772-c5907db35534 div.sk-estimator:hover label.sk-toggleable__label-arrow:before {color: black;}#sk-13cec576-8d94-4d43-a772-c5907db35534 div.sk-toggleable__content {max-height: 0;max-width: 0;overflow: hidden;text-align: left;background-color: #f0f8ff;}#sk-13cec576-8d94-4d43-a772-c5907db35534 div.sk-toggleable__content pre {margin: 0.2em;color: black;border-radius: 0.25em;background-color: #f0f8ff;}#sk-13cec576-8d94-4d43-a772-c5907db35534 input.sk-toggleable__control:checked~div.sk-toggleable__content {max-height: 200px;max-width: 100%;overflow: auto;}#sk-13cec576-8d94-4d43-a772-c5907db35534 input.sk-toggleable__control:checked~label.sk-toggleable__label-arrow:before {content: \"▾\";}#sk-13cec576-8d94-4d43-a772-c5907db35534 div.sk-estimator input.sk-toggleable__control:checked~label.sk-toggleable__label {background-color: #d4ebff;}#sk-13cec576-8d94-4d43-a772-c5907db35534 div.sk-label input.sk-toggleable__control:checked~label.sk-toggleable__label {background-color: #d4ebff;}#sk-13cec576-8d94-4d43-a772-c5907db35534 input.sk-hidden--visually {border: 0;clip: rect(1px 1px 1px 1px);clip: rect(1px, 1px, 1px, 1px);height: 1px;margin: -1px;overflow: hidden;padding: 0;position: absolute;width: 1px;}#sk-13cec576-8d94-4d43-a772-c5907db35534 div.sk-estimator {font-family: monospace;background-color: #f0f8ff;border: 1px dotted black;border-radius: 0.25em;box-sizing: border-box;margin-bottom: 0.5em;}#sk-13cec576-8d94-4d43-a772-c5907db35534 div.sk-estimator:hover {background-color: #d4ebff;}#sk-13cec576-8d94-4d43-a772-c5907db35534 div.sk-parallel-item::after {content: \"\";width: 100%;border-bottom: 1px solid gray;flex-grow: 1;}#sk-13cec576-8d94-4d43-a772-c5907db35534 div.sk-label:hover label.sk-toggleable__label {background-color: #d4ebff;}#sk-13cec576-8d94-4d43-a772-c5907db35534 div.sk-serial::before {content: \"\";position: absolute;border-left: 1px solid gray;box-sizing: border-box;top: 2em;bottom: 0;left: 50%;}#sk-13cec576-8d94-4d43-a772-c5907db35534 div.sk-serial {display: flex;flex-direction: column;align-items: center;background-color: white;padding-right: 0.2em;padding-left: 0.2em;}#sk-13cec576-8d94-4d43-a772-c5907db35534 div.sk-item {z-index: 1;}#sk-13cec576-8d94-4d43-a772-c5907db35534 div.sk-parallel {display: flex;align-items: stretch;justify-content: center;background-color: white;}#sk-13cec576-8d94-4d43-a772-c5907db35534 div.sk-parallel::before {content: \"\";position: absolute;border-left: 1px solid gray;box-sizing: border-box;top: 2em;bottom: 0;left: 50%;}#sk-13cec576-8d94-4d43-a772-c5907db35534 div.sk-parallel-item {display: flex;flex-direction: column;position: relative;background-color: white;}#sk-13cec576-8d94-4d43-a772-c5907db35534 div.sk-parallel-item:first-child::after {align-self: flex-end;width: 50%;}#sk-13cec576-8d94-4d43-a772-c5907db35534 div.sk-parallel-item:last-child::after {align-self: flex-start;width: 50%;}#sk-13cec576-8d94-4d43-a772-c5907db35534 div.sk-parallel-item:only-child::after {width: 0;}#sk-13cec576-8d94-4d43-a772-c5907db35534 div.sk-dashed-wrapped {border: 1px dashed gray;margin: 0 0.4em 0.5em 0.4em;box-sizing: border-box;padding-bottom: 0.4em;background-color: white;position: relative;}#sk-13cec576-8d94-4d43-a772-c5907db35534 div.sk-label label {font-family: monospace;font-weight: bold;background-color: white;display: inline-block;line-height: 1.2em;}#sk-13cec576-8d94-4d43-a772-c5907db35534 div.sk-label-container {position: relative;z-index: 2;text-align: center;}#sk-13cec576-8d94-4d43-a772-c5907db35534 div.sk-container {/* jupyter's `normalize.less` sets `[hidden] { display: none; }` but bootstrap.min.css set `[hidden] { display: none !important; }` so we also need the `!important` here to be able to override the default hidden behavior on the sphinx rendered scikit-learn.org. See: https://github.com/scikit-learn/scikit-learn/issues/21755 */display: inline-block !important;position: relative;}#sk-13cec576-8d94-4d43-a772-c5907db35534 div.sk-text-repr-fallback {display: none;}</style><div id=\"sk-13cec576-8d94-4d43-a772-c5907db35534\" class=\"sk-top-container\"><div class=\"sk-text-repr-fallback\"><pre>GridSearchCV(cv=5, estimator=RandomForestClassifier(),\n",
       "             param_grid={&#x27;bootstrap&#x27;: [True, False],\n",
       "                         &#x27;criterion&#x27;: [&#x27;gini&#x27;, &#x27;entropy&#x27;, &#x27;log_loss&#x27;],\n",
       "                         &#x27;n_estimators&#x27;: array([ 50, 100, 150, 200, 250, 300, 350, 400, 450, 500], dtype=int32)},\n",
       "             refit=&#x27;accuracy&#x27;, scoring=&#x27;accuracy&#x27;, verbose=3)</pre><b>Please rerun this cell to show the HTML repr or trust the notebook.</b></div><div class=\"sk-container\" hidden><div class=\"sk-item sk-dashed-wrapped\"><div class=\"sk-label-container\"><div class=\"sk-label sk-toggleable\"><input class=\"sk-toggleable__control sk-hidden--visually\" id=\"9f83b7fc-8ad8-4b1c-8524-6828738531b1\" type=\"checkbox\" ><label for=\"9f83b7fc-8ad8-4b1c-8524-6828738531b1\" class=\"sk-toggleable__label sk-toggleable__label-arrow\">GridSearchCV</label><div class=\"sk-toggleable__content\"><pre>GridSearchCV(cv=5, estimator=RandomForestClassifier(),\n",
       "             param_grid={&#x27;bootstrap&#x27;: [True, False],\n",
       "                         &#x27;criterion&#x27;: [&#x27;gini&#x27;, &#x27;entropy&#x27;, &#x27;log_loss&#x27;],\n",
       "                         &#x27;n_estimators&#x27;: array([ 50, 100, 150, 200, 250, 300, 350, 400, 450, 500], dtype=int32)},\n",
       "             refit=&#x27;accuracy&#x27;, scoring=&#x27;accuracy&#x27;, verbose=3)</pre></div></div></div><div class=\"sk-parallel\"><div class=\"sk-parallel-item\"><div class=\"sk-item\"><div class=\"sk-serial\"><div class=\"sk-item\"><div class=\"sk-estimator sk-toggleable\"><input class=\"sk-toggleable__control sk-hidden--visually\" id=\"cbff9f88-bcd6-4707-a615-ac3593fea49c\" type=\"checkbox\" ><label for=\"cbff9f88-bcd6-4707-a615-ac3593fea49c\" class=\"sk-toggleable__label sk-toggleable__label-arrow\">RandomForestClassifier</label><div class=\"sk-toggleable__content\"><pre>RandomForestClassifier()</pre></div></div></div></div></div></div></div></div></div></div>"
      ],
      "text/plain": [
       "GridSearchCV(cv=5, estimator=RandomForestClassifier(),\n",
       "             param_grid={'bootstrap': [True, False],\n",
       "                         'criterion': ['gini', 'entropy', 'log_loss'],\n",
       "                         'n_estimators': array([ 50, 100, 150, 200, 250, 300, 350, 400, 450, 500], dtype=int32)},\n",
       "             refit='accuracy', scoring='accuracy', verbose=3)"
      ]
     },
     "execution_count": 33,
     "metadata": {},
     "output_type": "execute_result"
    }
   ],
   "source": [
    "params_rf_GS = {\n",
    "    \"n_estimators\": np.linspace(50,500,10).astype(np.int32),\n",
    "    \"criterion\": [\"gini\", \"entropy\", \"log_loss\"],\n",
    "    \"bootstrap\": [True, False]\n",
    "}\n",
    "rf_GS = RandomForestClassifier()\n",
    "GS_rf = GridSearchCV(\n",
    "    estimator=rf_GS,\n",
    "    cv=5,\n",
    "    param_grid=params_rf_GS,\n",
    "    scoring=\"accuracy\",\n",
    "    refit=\"accuracy\",\n",
    "    verbose=3\n",
    ")\n",
    "GS_rf.fit(piped_train, df_survived)"
   ]
  },
  {
   "cell_type": "code",
   "execution_count": 34,
   "id": "1dac4e6f",
   "metadata": {
    "execution": {
     "iopub.execute_input": "2022-11-19T10:20:39.178724Z",
     "iopub.status.busy": "2022-11-19T10:20:39.178296Z",
     "iopub.status.idle": "2022-11-19T10:20:39.184908Z",
     "shell.execute_reply": "2022-11-19T10:20:39.184027Z"
    },
    "papermill": {
     "duration": 0.048417,
     "end_time": "2022-11-19T10:20:39.187625",
     "exception": false,
     "start_time": "2022-11-19T10:20:39.139208",
     "status": "completed"
    },
    "tags": []
   },
   "outputs": [
    {
     "name": "stdout",
     "output_type": "stream",
     "text": [
      "Best parameter for Random Forest Classifier is with 150 number of estimator, entropy criterion and True bootstrapped that has an accuracy of 80.25%\n"
     ]
    }
   ],
   "source": [
    "n_GS_rf = GS_rf.best_params_[\"n_estimators\"]\n",
    "criterion_GS_rf = GS_rf.best_params_[\"criterion\"]\n",
    "boot_GS_rf = GS_rf.best_params_[\"bootstrap\"]\n",
    "acc_GS_rf = round(GS_rf.best_score_*100,2)\n",
    "print(f\"Best parameter for Random Forest Classifier is with {n_GS_rf} number of estimator, {criterion_GS_rf} criterion and {boot_GS_rf} bootstrapped that has an accuracy of {acc_GS_rf}%\")"
   ]
  },
  {
   "cell_type": "markdown",
   "id": "57a367be",
   "metadata": {
    "papermill": {
     "duration": 0.037771,
     "end_time": "2022-11-19T10:20:39.264124",
     "exception": false,
     "start_time": "2022-11-19T10:20:39.226353",
     "status": "completed"
    },
    "tags": []
   },
   "source": [
    "#### Modeling Random Forest Classifier"
   ]
  },
  {
   "cell_type": "code",
   "execution_count": 35,
   "id": "8f090d36",
   "metadata": {
    "execution": {
     "iopub.execute_input": "2022-11-19T10:20:39.341990Z",
     "iopub.status.busy": "2022-11-19T10:20:39.341610Z",
     "iopub.status.idle": "2022-11-19T10:20:39.656013Z",
     "shell.execute_reply": "2022-11-19T10:20:39.654891Z"
    },
    "papermill": {
     "duration": 0.356758,
     "end_time": "2022-11-19T10:20:39.658589",
     "exception": false,
     "start_time": "2022-11-19T10:20:39.301831",
     "status": "completed"
    },
    "tags": []
   },
   "outputs": [
    {
     "data": {
      "text/html": [
       "<style>#sk-b2801a2d-3aeb-4854-93ea-5253407d3061 {color: black;background-color: white;}#sk-b2801a2d-3aeb-4854-93ea-5253407d3061 pre{padding: 0;}#sk-b2801a2d-3aeb-4854-93ea-5253407d3061 div.sk-toggleable {background-color: white;}#sk-b2801a2d-3aeb-4854-93ea-5253407d3061 label.sk-toggleable__label {cursor: pointer;display: block;width: 100%;margin-bottom: 0;padding: 0.3em;box-sizing: border-box;text-align: center;}#sk-b2801a2d-3aeb-4854-93ea-5253407d3061 label.sk-toggleable__label-arrow:before {content: \"▸\";float: left;margin-right: 0.25em;color: #696969;}#sk-b2801a2d-3aeb-4854-93ea-5253407d3061 label.sk-toggleable__label-arrow:hover:before {color: black;}#sk-b2801a2d-3aeb-4854-93ea-5253407d3061 div.sk-estimator:hover label.sk-toggleable__label-arrow:before {color: black;}#sk-b2801a2d-3aeb-4854-93ea-5253407d3061 div.sk-toggleable__content {max-height: 0;max-width: 0;overflow: hidden;text-align: left;background-color: #f0f8ff;}#sk-b2801a2d-3aeb-4854-93ea-5253407d3061 div.sk-toggleable__content pre {margin: 0.2em;color: black;border-radius: 0.25em;background-color: #f0f8ff;}#sk-b2801a2d-3aeb-4854-93ea-5253407d3061 input.sk-toggleable__control:checked~div.sk-toggleable__content {max-height: 200px;max-width: 100%;overflow: auto;}#sk-b2801a2d-3aeb-4854-93ea-5253407d3061 input.sk-toggleable__control:checked~label.sk-toggleable__label-arrow:before {content: \"▾\";}#sk-b2801a2d-3aeb-4854-93ea-5253407d3061 div.sk-estimator input.sk-toggleable__control:checked~label.sk-toggleable__label {background-color: #d4ebff;}#sk-b2801a2d-3aeb-4854-93ea-5253407d3061 div.sk-label input.sk-toggleable__control:checked~label.sk-toggleable__label {background-color: #d4ebff;}#sk-b2801a2d-3aeb-4854-93ea-5253407d3061 input.sk-hidden--visually {border: 0;clip: rect(1px 1px 1px 1px);clip: rect(1px, 1px, 1px, 1px);height: 1px;margin: -1px;overflow: hidden;padding: 0;position: absolute;width: 1px;}#sk-b2801a2d-3aeb-4854-93ea-5253407d3061 div.sk-estimator {font-family: monospace;background-color: #f0f8ff;border: 1px dotted black;border-radius: 0.25em;box-sizing: border-box;margin-bottom: 0.5em;}#sk-b2801a2d-3aeb-4854-93ea-5253407d3061 div.sk-estimator:hover {background-color: #d4ebff;}#sk-b2801a2d-3aeb-4854-93ea-5253407d3061 div.sk-parallel-item::after {content: \"\";width: 100%;border-bottom: 1px solid gray;flex-grow: 1;}#sk-b2801a2d-3aeb-4854-93ea-5253407d3061 div.sk-label:hover label.sk-toggleable__label {background-color: #d4ebff;}#sk-b2801a2d-3aeb-4854-93ea-5253407d3061 div.sk-serial::before {content: \"\";position: absolute;border-left: 1px solid gray;box-sizing: border-box;top: 2em;bottom: 0;left: 50%;}#sk-b2801a2d-3aeb-4854-93ea-5253407d3061 div.sk-serial {display: flex;flex-direction: column;align-items: center;background-color: white;padding-right: 0.2em;padding-left: 0.2em;}#sk-b2801a2d-3aeb-4854-93ea-5253407d3061 div.sk-item {z-index: 1;}#sk-b2801a2d-3aeb-4854-93ea-5253407d3061 div.sk-parallel {display: flex;align-items: stretch;justify-content: center;background-color: white;}#sk-b2801a2d-3aeb-4854-93ea-5253407d3061 div.sk-parallel::before {content: \"\";position: absolute;border-left: 1px solid gray;box-sizing: border-box;top: 2em;bottom: 0;left: 50%;}#sk-b2801a2d-3aeb-4854-93ea-5253407d3061 div.sk-parallel-item {display: flex;flex-direction: column;position: relative;background-color: white;}#sk-b2801a2d-3aeb-4854-93ea-5253407d3061 div.sk-parallel-item:first-child::after {align-self: flex-end;width: 50%;}#sk-b2801a2d-3aeb-4854-93ea-5253407d3061 div.sk-parallel-item:last-child::after {align-self: flex-start;width: 50%;}#sk-b2801a2d-3aeb-4854-93ea-5253407d3061 div.sk-parallel-item:only-child::after {width: 0;}#sk-b2801a2d-3aeb-4854-93ea-5253407d3061 div.sk-dashed-wrapped {border: 1px dashed gray;margin: 0 0.4em 0.5em 0.4em;box-sizing: border-box;padding-bottom: 0.4em;background-color: white;position: relative;}#sk-b2801a2d-3aeb-4854-93ea-5253407d3061 div.sk-label label {font-family: monospace;font-weight: bold;background-color: white;display: inline-block;line-height: 1.2em;}#sk-b2801a2d-3aeb-4854-93ea-5253407d3061 div.sk-label-container {position: relative;z-index: 2;text-align: center;}#sk-b2801a2d-3aeb-4854-93ea-5253407d3061 div.sk-container {/* jupyter's `normalize.less` sets `[hidden] { display: none; }` but bootstrap.min.css set `[hidden] { display: none !important; }` so we also need the `!important` here to be able to override the default hidden behavior on the sphinx rendered scikit-learn.org. See: https://github.com/scikit-learn/scikit-learn/issues/21755 */display: inline-block !important;position: relative;}#sk-b2801a2d-3aeb-4854-93ea-5253407d3061 div.sk-text-repr-fallback {display: none;}</style><div id=\"sk-b2801a2d-3aeb-4854-93ea-5253407d3061\" class=\"sk-top-container\"><div class=\"sk-text-repr-fallback\"><pre>RandomForestClassifier(criterion=&#x27;entropy&#x27;, n_estimators=150)</pre><b>Please rerun this cell to show the HTML repr or trust the notebook.</b></div><div class=\"sk-container\" hidden><div class=\"sk-item\"><div class=\"sk-estimator sk-toggleable\"><input class=\"sk-toggleable__control sk-hidden--visually\" id=\"66a2d786-0230-4f73-ae1a-a6e9ba1f5b36\" type=\"checkbox\" checked><label for=\"66a2d786-0230-4f73-ae1a-a6e9ba1f5b36\" class=\"sk-toggleable__label sk-toggleable__label-arrow\">RandomForestClassifier</label><div class=\"sk-toggleable__content\"><pre>RandomForestClassifier(criterion=&#x27;entropy&#x27;, n_estimators=150)</pre></div></div></div></div></div>"
      ],
      "text/plain": [
       "RandomForestClassifier(criterion='entropy', n_estimators=150)"
      ]
     },
     "execution_count": 35,
     "metadata": {},
     "output_type": "execute_result"
    }
   ],
   "source": [
    "best_rf = RandomForestClassifier(n_estimators=150, criterion=\"entropy\", bootstrap=True)\n",
    "best_rf.fit(piped_train, df_survived)"
   ]
  },
  {
   "cell_type": "code",
   "execution_count": 36,
   "id": "300bb95c",
   "metadata": {
    "execution": {
     "iopub.execute_input": "2022-11-19T10:20:39.738301Z",
     "iopub.status.busy": "2022-11-19T10:20:39.737872Z",
     "iopub.status.idle": "2022-11-19T10:20:39.776839Z",
     "shell.execute_reply": "2022-11-19T10:20:39.775666Z"
    },
    "papermill": {
     "duration": 0.082741,
     "end_time": "2022-11-19T10:20:39.779611",
     "exception": false,
     "start_time": "2022-11-19T10:20:39.696870",
     "status": "completed"
    },
    "tags": []
   },
   "outputs": [],
   "source": [
    "pred_rf = best_rf.predict(piped_test)"
   ]
  },
  {
   "cell_type": "code",
   "execution_count": 37,
   "id": "153ae7f2",
   "metadata": {
    "execution": {
     "iopub.execute_input": "2022-11-19T10:20:39.857779Z",
     "iopub.status.busy": "2022-11-19T10:20:39.857355Z",
     "iopub.status.idle": "2022-11-19T10:20:39.870572Z",
     "shell.execute_reply": "2022-11-19T10:20:39.869515Z"
    },
    "papermill": {
     "duration": 0.054983,
     "end_time": "2022-11-19T10:20:39.872810",
     "exception": false,
     "start_time": "2022-11-19T10:20:39.817827",
     "status": "completed"
    },
    "scrolled": true,
    "tags": []
   },
   "outputs": [
    {
     "data": {
      "text/html": [
       "<div>\n",
       "<style scoped>\n",
       "    .dataframe tbody tr th:only-of-type {\n",
       "        vertical-align: middle;\n",
       "    }\n",
       "\n",
       "    .dataframe tbody tr th {\n",
       "        vertical-align: top;\n",
       "    }\n",
       "\n",
       "    .dataframe thead th {\n",
       "        text-align: right;\n",
       "    }\n",
       "</style>\n",
       "<table border=\"1\" class=\"dataframe\">\n",
       "  <thead>\n",
       "    <tr style=\"text-align: right;\">\n",
       "      <th></th>\n",
       "      <th>Score</th>\n",
       "    </tr>\n",
       "    <tr>\n",
       "      <th>Model</th>\n",
       "      <th></th>\n",
       "    </tr>\n",
       "  </thead>\n",
       "  <tbody>\n",
       "    <tr>\n",
       "      <th>C Support Vector Machine</th>\n",
       "      <td>81.70</td>\n",
       "    </tr>\n",
       "    <tr>\n",
       "      <th>Random Forest</th>\n",
       "      <td>80.25</td>\n",
       "    </tr>\n",
       "    <tr>\n",
       "      <th>Logistic Regression</th>\n",
       "      <td>80.14</td>\n",
       "    </tr>\n",
       "    <tr>\n",
       "      <th>K Nearest Neighbors</th>\n",
       "      <td>79.13</td>\n",
       "    </tr>\n",
       "    <tr>\n",
       "      <th>Decision Tree</th>\n",
       "      <td>78.68</td>\n",
       "    </tr>\n",
       "  </tbody>\n",
       "</table>\n",
       "</div>"
      ],
      "text/plain": [
       "                          Score\n",
       "Model                          \n",
       "C Support Vector Machine  81.70\n",
       "Random Forest             80.25\n",
       "Logistic Regression       80.14\n",
       "K Nearest Neighbors       79.13\n",
       "Decision Tree             78.68"
      ]
     },
     "execution_count": 37,
     "metadata": {},
     "output_type": "execute_result"
    }
   ],
   "source": [
    "model_results = pd.DataFrame({\"Model\": [\"Logistic Regression\", \"C Support Vector Machine\", \"K Nearest Neighbors\",\n",
    "                                      \"Decision Tree\", \"Random Forest\"],\n",
    "                              \"Score\": [acc_GS_logreg, acc_GS_csvc, acc_GS_KNN, acc_GS_dtree, acc_GS_rf]})\n",
    "model_results = model_results.sort_values(by=\"Score\", ascending=False).set_index(\"Model\")\n",
    "model_results"
   ]
  },
  {
   "cell_type": "markdown",
   "id": "31fa285c",
   "metadata": {
    "papermill": {
     "duration": 0.037735,
     "end_time": "2022-11-19T10:20:39.948644",
     "exception": false,
     "start_time": "2022-11-19T10:20:39.910909",
     "status": "completed"
    },
    "tags": []
   },
   "source": [
    "#### As a result of comparing the average accuracy across cross validation splits of the 5 classification algorithms,<br>C-Support Vector Machine as it has the greatest value of accuracy"
   ]
  },
  {
   "cell_type": "code",
   "execution_count": 38,
   "id": "98c8a9ea",
   "metadata": {
    "execution": {
     "iopub.execute_input": "2022-11-19T10:20:40.026368Z",
     "iopub.status.busy": "2022-11-19T10:20:40.025943Z",
     "iopub.status.idle": "2022-11-19T10:20:40.040426Z",
     "shell.execute_reply": "2022-11-19T10:20:40.038980Z"
    },
    "papermill": {
     "duration": 0.056192,
     "end_time": "2022-11-19T10:20:40.042796",
     "exception": false,
     "start_time": "2022-11-19T10:20:39.986604",
     "status": "completed"
    },
    "scrolled": true,
    "tags": []
   },
   "outputs": [
    {
     "data": {
      "text/html": [
       "<div>\n",
       "<style scoped>\n",
       "    .dataframe tbody tr th:only-of-type {\n",
       "        vertical-align: middle;\n",
       "    }\n",
       "\n",
       "    .dataframe tbody tr th {\n",
       "        vertical-align: top;\n",
       "    }\n",
       "\n",
       "    .dataframe thead th {\n",
       "        text-align: right;\n",
       "    }\n",
       "</style>\n",
       "<table border=\"1\" class=\"dataframe\">\n",
       "  <thead>\n",
       "    <tr style=\"text-align: right;\">\n",
       "      <th></th>\n",
       "      <th>PassengerId</th>\n",
       "      <th>Survived</th>\n",
       "    </tr>\n",
       "  </thead>\n",
       "  <tbody>\n",
       "    <tr>\n",
       "      <th>0</th>\n",
       "      <td>892</td>\n",
       "      <td>0</td>\n",
       "    </tr>\n",
       "    <tr>\n",
       "      <th>1</th>\n",
       "      <td>893</td>\n",
       "      <td>1</td>\n",
       "    </tr>\n",
       "    <tr>\n",
       "      <th>2</th>\n",
       "      <td>894</td>\n",
       "      <td>0</td>\n",
       "    </tr>\n",
       "    <tr>\n",
       "      <th>3</th>\n",
       "      <td>895</td>\n",
       "      <td>0</td>\n",
       "    </tr>\n",
       "    <tr>\n",
       "      <th>4</th>\n",
       "      <td>896</td>\n",
       "      <td>1</td>\n",
       "    </tr>\n",
       "    <tr>\n",
       "      <th>...</th>\n",
       "      <td>...</td>\n",
       "      <td>...</td>\n",
       "    </tr>\n",
       "    <tr>\n",
       "      <th>413</th>\n",
       "      <td>1305</td>\n",
       "      <td>0</td>\n",
       "    </tr>\n",
       "    <tr>\n",
       "      <th>414</th>\n",
       "      <td>1306</td>\n",
       "      <td>1</td>\n",
       "    </tr>\n",
       "    <tr>\n",
       "      <th>415</th>\n",
       "      <td>1307</td>\n",
       "      <td>0</td>\n",
       "    </tr>\n",
       "    <tr>\n",
       "      <th>416</th>\n",
       "      <td>1308</td>\n",
       "      <td>0</td>\n",
       "    </tr>\n",
       "    <tr>\n",
       "      <th>417</th>\n",
       "      <td>1309</td>\n",
       "      <td>0</td>\n",
       "    </tr>\n",
       "  </tbody>\n",
       "</table>\n",
       "<p>418 rows × 2 columns</p>\n",
       "</div>"
      ],
      "text/plain": [
       "     PassengerId  Survived\n",
       "0            892         0\n",
       "1            893         1\n",
       "2            894         0\n",
       "3            895         0\n",
       "4            896         1\n",
       "..           ...       ...\n",
       "413         1305         0\n",
       "414         1306         1\n",
       "415         1307         0\n",
       "416         1308         0\n",
       "417         1309         0\n",
       "\n",
       "[418 rows x 2 columns]"
      ]
     },
     "execution_count": 38,
     "metadata": {},
     "output_type": "execute_result"
    }
   ],
   "source": [
    "df_submission = pd.DataFrame(PassengerId_[1])\n",
    "df_submission[\"Survived\"] = pred_csvc\n",
    "df_submission"
   ]
  },
  {
   "cell_type": "markdown",
   "id": "a9d5fad2",
   "metadata": {
    "papermill": {
     "duration": 0.037918,
     "end_time": "2022-11-19T10:20:40.118770",
     "exception": false,
     "start_time": "2022-11-19T10:20:40.080852",
     "status": "completed"
    },
    "tags": []
   },
   "source": [
    "#### Saving to csv file"
   ]
  },
  {
   "cell_type": "code",
   "execution_count": 39,
   "id": "ef6fda0d",
   "metadata": {
    "execution": {
     "iopub.execute_input": "2022-11-19T10:20:40.198720Z",
     "iopub.status.busy": "2022-11-19T10:20:40.198318Z",
     "iopub.status.idle": "2022-11-19T10:20:40.206823Z",
     "shell.execute_reply": "2022-11-19T10:20:40.205791Z"
    },
    "papermill": {
     "duration": 0.051933,
     "end_time": "2022-11-19T10:20:40.209516",
     "exception": false,
     "start_time": "2022-11-19T10:20:40.157583",
     "status": "completed"
    },
    "tags": []
   },
   "outputs": [],
   "source": [
    "df_submission.to_csv(\"submission_1.csv\", index=False)"
   ]
  }
 ],
 "metadata": {
  "kernelspec": {
   "display_name": "Python 3",
   "language": "python",
   "name": "python3"
  },
  "language_info": {
   "codemirror_mode": {
    "name": "ipython",
    "version": 3
   },
   "file_extension": ".py",
   "mimetype": "text/x-python",
   "name": "python",
   "nbconvert_exporter": "python",
   "pygments_lexer": "ipython3",
   "version": "3.7.12"
  },
  "papermill": {
   "default_parameters": {},
   "duration": 153.686792,
   "end_time": "2022-11-19T10:20:41.171643",
   "environment_variables": {},
   "exception": null,
   "input_path": "__notebook__.ipynb",
   "output_path": "__notebook__.ipynb",
   "parameters": {},
   "start_time": "2022-11-19T10:18:07.484851",
   "version": "2.3.4"
  }
 },
 "nbformat": 4,
 "nbformat_minor": 5
}
